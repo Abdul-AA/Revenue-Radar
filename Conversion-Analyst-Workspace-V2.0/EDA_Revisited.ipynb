{
 "cells": [
  {
   "cell_type": "markdown",
   "metadata": {},
   "source": [
    "### Insights from Additional Domain Research"
   ]
  },
  {
   "cell_type": "markdown",
   "metadata": {},
   "source": [
    "* The following fields are depracated or no longer supported and should be excluded from the model so it doesn't cause breaking of the pipeline in the future. networkDomain, networkLocation, isMobile\n",
    "\n",
    "This also points to a need for upstream feature drift reslilience.\n",
    "\n",
    "Additional Features we could capture which were not in the original consideration set for the conversion model include (per user)\n",
    "\n",
    "* Number of TrueDirect sessions, count of non-null sessions in the IsTrueDirect column\n",
    "\n",
    "* Number of adwordsSessions (sessions which had some ad interaction), count of how many visits for which at least one of the adwords or adcontent columns are populated\n",
    "\n",
    "* PCA components of source feature. First creating sparse counts of referral source per user, then performing PCA on the user level dataset. May need to standardize once it's tallied up this way, before creating components. Whatever conclusion we reach from applying this to the training set would need to be applied to the validation and test set as well, but cannot create components altogether as this risks data leakage. Source chosen as it is a high cardinality, fully populated column which we originally discarded due to high cardinality. The same can be said of the Country feature. "
   ]
  },
  {
   "cell_type": "markdown",
   "metadata": {},
   "source": [
    "### Example of PCA on Source Feature (not yet on user level dataset)"
   ]
  },
  {
   "cell_type": "code",
   "execution_count": 4,
   "metadata": {},
   "outputs": [],
   "source": [
    "import pandas as pd"
   ]
  },
  {
   "cell_type": "code",
   "execution_count": 5,
   "metadata": {},
   "outputs": [
    {
     "name": "stderr",
     "output_type": "stream",
     "text": [
      "/var/folders/z1/1zds15w97_g7_fhs4_83dc3m0000gn/T/ipykernel_61162/3136096564.py:1: DtypeWarning: Columns (2,54) have mixed types. Specify dtype option on import or set low_memory=False.\n",
      "  gstore = pd.read_csv(\"/Users/aoluwolerotimi/Datasets/train_dejsonified.csv\")\n"
     ]
    }
   ],
   "source": [
    "gstore = pd.read_csv(\"/Users/aoluwolerotimi/Datasets/train_dejsonified.csv\")"
   ]
  },
  {
   "cell_type": "code",
   "execution_count": 6,
   "metadata": {},
   "outputs": [
    {
     "data": {
      "text/plain": [
       "channelGrouping                         object\n",
       "date                                     int64\n",
       "fullVisitorId                           object\n",
       "sessionId                               object\n",
       "socialEngagementType                    object\n",
       "visitId                                  int64\n",
       "visitNumber                              int64\n",
       "visitStartTime                           int64\n",
       "continent                               object\n",
       "subContinent                            object\n",
       "country                                 object\n",
       "region                                  object\n",
       "metro                                   object\n",
       "city                                    object\n",
       "cityId                                  object\n",
       "networkDomain                           object\n",
       "latitude                                object\n",
       "longitude                               object\n",
       "networkLocation                         object\n",
       "browser                                 object\n",
       "browserVersion                          object\n",
       "browserSize                             object\n",
       "operatingSystem                         object\n",
       "operatingSystemVersion                  object\n",
       "isMobile                                  bool\n",
       "mobileDeviceBranding                    object\n",
       "mobileDeviceModel                       object\n",
       "mobileInputSelector                     object\n",
       "mobileDeviceInfo                        object\n",
       "mobileDeviceMarketingName               object\n",
       "flashVersion                            object\n",
       "language                                object\n",
       "screenColors                            object\n",
       "screenResolution                        object\n",
       "deviceCategory                          object\n",
       "visits                                   int64\n",
       "hits                                     int64\n",
       "pageviews                              float64\n",
       "bounces                                float64\n",
       "newVisits                              float64\n",
       "transactionRevenue                     float64\n",
       "campaign                                object\n",
       "source                                  object\n",
       "medium                                  object\n",
       "keyword                                 object\n",
       "adwordsClickInfo.criteriaParameters     object\n",
       "isTrueDirect                            object\n",
       "referralPath                            object\n",
       "adwordsClickInfo.page                  float64\n",
       "adwordsClickInfo.slot                   object\n",
       "adwordsClickInfo.gclId                  object\n",
       "adwordsClickInfo.adNetworkType          object\n",
       "adwordsClickInfo.isVideoAd              object\n",
       "adContent                               object\n",
       "campaignCode                            object\n",
       "dtype: object"
      ]
     },
     "execution_count": 6,
     "metadata": {},
     "output_type": "execute_result"
    }
   ],
   "source": [
    "gstore.dtypes"
   ]
  },
  {
   "cell_type": "code",
   "execution_count": 8,
   "metadata": {},
   "outputs": [
    {
     "name": "stdout",
     "output_type": "stream",
     "text": [
      "<class 'pandas.core.frame.DataFrame'>\n",
      "RangeIndex: 903653 entries, 0 to 903652\n",
      "Data columns (total 55 columns):\n",
      " #   Column                               Non-Null Count   Dtype  \n",
      "---  ------                               --------------   -----  \n",
      " 0   channelGrouping                      903653 non-null  object \n",
      " 1   date                                 903653 non-null  int64  \n",
      " 2   fullVisitorId                        903653 non-null  object \n",
      " 3   sessionId                            903653 non-null  object \n",
      " 4   socialEngagementType                 903653 non-null  object \n",
      " 5   visitId                              903653 non-null  int64  \n",
      " 6   visitNumber                          903653 non-null  int64  \n",
      " 7   visitStartTime                       903653 non-null  int64  \n",
      " 8   continent                            903653 non-null  object \n",
      " 9   subContinent                         903653 non-null  object \n",
      " 10  country                              903653 non-null  object \n",
      " 11  region                               903653 non-null  object \n",
      " 12  metro                                903653 non-null  object \n",
      " 13  city                                 903653 non-null  object \n",
      " 14  cityId                               903653 non-null  object \n",
      " 15  networkDomain                        903653 non-null  object \n",
      " 16  latitude                             903653 non-null  object \n",
      " 17  longitude                            903653 non-null  object \n",
      " 18  networkLocation                      903653 non-null  object \n",
      " 19  browser                              903653 non-null  object \n",
      " 20  browserVersion                       903653 non-null  object \n",
      " 21  browserSize                          903653 non-null  object \n",
      " 22  operatingSystem                      903653 non-null  object \n",
      " 23  operatingSystemVersion               903653 non-null  object \n",
      " 24  isMobile                             903653 non-null  bool   \n",
      " 25  mobileDeviceBranding                 903653 non-null  object \n",
      " 26  mobileDeviceModel                    903653 non-null  object \n",
      " 27  mobileInputSelector                  903653 non-null  object \n",
      " 28  mobileDeviceInfo                     903653 non-null  object \n",
      " 29  mobileDeviceMarketingName            903653 non-null  object \n",
      " 30  flashVersion                         903653 non-null  object \n",
      " 31  language                             903653 non-null  object \n",
      " 32  screenColors                         903653 non-null  object \n",
      " 33  screenResolution                     903653 non-null  object \n",
      " 34  deviceCategory                       903653 non-null  object \n",
      " 35  visits                               903653 non-null  int64  \n",
      " 36  hits                                 903653 non-null  int64  \n",
      " 37  pageviews                            903553 non-null  float64\n",
      " 38  bounces                              450630 non-null  float64\n",
      " 39  newVisits                            703060 non-null  float64\n",
      " 40  transactionRevenue                   11515 non-null   float64\n",
      " 41  campaign                             903653 non-null  object \n",
      " 42  source                               903653 non-null  object \n",
      " 43  medium                               903653 non-null  object \n",
      " 44  keyword                              400724 non-null  object \n",
      " 45  adwordsClickInfo.criteriaParameters  903653 non-null  object \n",
      " 46  isTrueDirect                         274005 non-null  object \n",
      " 47  referralPath                         330941 non-null  object \n",
      " 48  adwordsClickInfo.page                21460 non-null   float64\n",
      " 49  adwordsClickInfo.slot                21460 non-null   object \n",
      " 50  adwordsClickInfo.gclId               21561 non-null   object \n",
      " 51  adwordsClickInfo.adNetworkType       21460 non-null   object \n",
      " 52  adwordsClickInfo.isVideoAd           21460 non-null   object \n",
      " 53  adContent                            10946 non-null   object \n",
      " 54  campaignCode                         1 non-null       object \n",
      "dtypes: bool(1), float64(5), int64(6), object(43)\n",
      "memory usage: 373.2+ MB\n"
     ]
    }
   ],
   "source": [
    "gstore.info()"
   ]
  },
  {
   "cell_type": "code",
   "execution_count": 3,
   "metadata": {},
   "outputs": [],
   "source": [
    "source_df = pd.DataFrame.copy(gstore['source'])"
   ]
  },
  {
   "cell_type": "code",
   "execution_count": 4,
   "metadata": {},
   "outputs": [],
   "source": [
    "from sklearn.preprocessing import OneHotEncoder\n",
    "from sklearn.decomposition import PCA"
   ]
  },
  {
   "cell_type": "code",
   "execution_count": 5,
   "metadata": {},
   "outputs": [],
   "source": [
    "encoder = OneHotEncoder(sparse_output= False)"
   ]
  },
  {
   "cell_type": "code",
   "execution_count": 6,
   "metadata": {},
   "outputs": [],
   "source": [
    "encoded_source = encoder.fit_transform(source_df.to_numpy().reshape(-1, 1))"
   ]
  },
  {
   "cell_type": "code",
   "execution_count": 7,
   "metadata": {},
   "outputs": [],
   "source": [
    "encoded_df = pd.DataFrame(encoded_source, index=source_df.index, columns=encoder.get_feature_names_out())"
   ]
  },
  {
   "cell_type": "code",
   "execution_count": 9,
   "metadata": {},
   "outputs": [
    {
     "data": {
      "text/html": [
       "<style>#sk-container-id-1 {color: black;background-color: white;}#sk-container-id-1 pre{padding: 0;}#sk-container-id-1 div.sk-toggleable {background-color: white;}#sk-container-id-1 label.sk-toggleable__label {cursor: pointer;display: block;width: 100%;margin-bottom: 0;padding: 0.3em;box-sizing: border-box;text-align: center;}#sk-container-id-1 label.sk-toggleable__label-arrow:before {content: \"▸\";float: left;margin-right: 0.25em;color: #696969;}#sk-container-id-1 label.sk-toggleable__label-arrow:hover:before {color: black;}#sk-container-id-1 div.sk-estimator:hover label.sk-toggleable__label-arrow:before {color: black;}#sk-container-id-1 div.sk-toggleable__content {max-height: 0;max-width: 0;overflow: hidden;text-align: left;background-color: #f0f8ff;}#sk-container-id-1 div.sk-toggleable__content pre {margin: 0.2em;color: black;border-radius: 0.25em;background-color: #f0f8ff;}#sk-container-id-1 input.sk-toggleable__control:checked~div.sk-toggleable__content {max-height: 200px;max-width: 100%;overflow: auto;}#sk-container-id-1 input.sk-toggleable__control:checked~label.sk-toggleable__label-arrow:before {content: \"▾\";}#sk-container-id-1 div.sk-estimator input.sk-toggleable__control:checked~label.sk-toggleable__label {background-color: #d4ebff;}#sk-container-id-1 div.sk-label input.sk-toggleable__control:checked~label.sk-toggleable__label {background-color: #d4ebff;}#sk-container-id-1 input.sk-hidden--visually {border: 0;clip: rect(1px 1px 1px 1px);clip: rect(1px, 1px, 1px, 1px);height: 1px;margin: -1px;overflow: hidden;padding: 0;position: absolute;width: 1px;}#sk-container-id-1 div.sk-estimator {font-family: monospace;background-color: #f0f8ff;border: 1px dotted black;border-radius: 0.25em;box-sizing: border-box;margin-bottom: 0.5em;}#sk-container-id-1 div.sk-estimator:hover {background-color: #d4ebff;}#sk-container-id-1 div.sk-parallel-item::after {content: \"\";width: 100%;border-bottom: 1px solid gray;flex-grow: 1;}#sk-container-id-1 div.sk-label:hover label.sk-toggleable__label {background-color: #d4ebff;}#sk-container-id-1 div.sk-serial::before {content: \"\";position: absolute;border-left: 1px solid gray;box-sizing: border-box;top: 0;bottom: 0;left: 50%;z-index: 0;}#sk-container-id-1 div.sk-serial {display: flex;flex-direction: column;align-items: center;background-color: white;padding-right: 0.2em;padding-left: 0.2em;position: relative;}#sk-container-id-1 div.sk-item {position: relative;z-index: 1;}#sk-container-id-1 div.sk-parallel {display: flex;align-items: stretch;justify-content: center;background-color: white;position: relative;}#sk-container-id-1 div.sk-item::before, #sk-container-id-1 div.sk-parallel-item::before {content: \"\";position: absolute;border-left: 1px solid gray;box-sizing: border-box;top: 0;bottom: 0;left: 50%;z-index: -1;}#sk-container-id-1 div.sk-parallel-item {display: flex;flex-direction: column;z-index: 1;position: relative;background-color: white;}#sk-container-id-1 div.sk-parallel-item:first-child::after {align-self: flex-end;width: 50%;}#sk-container-id-1 div.sk-parallel-item:last-child::after {align-self: flex-start;width: 50%;}#sk-container-id-1 div.sk-parallel-item:only-child::after {width: 0;}#sk-container-id-1 div.sk-dashed-wrapped {border: 1px dashed gray;margin: 0 0.4em 0.5em 0.4em;box-sizing: border-box;padding-bottom: 0.4em;background-color: white;}#sk-container-id-1 div.sk-label label {font-family: monospace;font-weight: bold;display: inline-block;line-height: 1.2em;}#sk-container-id-1 div.sk-label-container {text-align: center;}#sk-container-id-1 div.sk-container {/* jupyter's `normalize.less` sets `[hidden] { display: none; }` but bootstrap.min.css set `[hidden] { display: none !important; }` so we also need the `!important` here to be able to override the default hidden behavior on the sphinx rendered scikit-learn.org. See: https://github.com/scikit-learn/scikit-learn/issues/21755 */display: inline-block !important;position: relative;}#sk-container-id-1 div.sk-text-repr-fallback {display: none;}</style><div id=\"sk-container-id-1\" class=\"sk-top-container\"><div class=\"sk-text-repr-fallback\"><pre>PCA(n_components=20)</pre><b>In a Jupyter environment, please rerun this cell to show the HTML representation or trust the notebook. <br />On GitHub, the HTML representation is unable to render, please try loading this page with nbviewer.org.</b></div><div class=\"sk-container\" hidden><div class=\"sk-item\"><div class=\"sk-estimator sk-toggleable\"><input class=\"sk-toggleable__control sk-hidden--visually\" id=\"sk-estimator-id-1\" type=\"checkbox\" checked><label for=\"sk-estimator-id-1\" class=\"sk-toggleable__label sk-toggleable__label-arrow\">PCA</label><div class=\"sk-toggleable__content\"><pre>PCA(n_components=20)</pre></div></div></div></div></div>"
      ],
      "text/plain": [
       "PCA(n_components=20)"
      ]
     },
     "execution_count": 9,
     "metadata": {},
     "output_type": "execute_result"
    }
   ],
   "source": [
    "# going from 380 potential sources, and source is a fully populated column\n",
    "pca = PCA(n_components=20)\n",
    "pca.fit(encoded_df)"
   ]
  },
  {
   "cell_type": "code",
   "execution_count": 10,
   "metadata": {},
   "outputs": [
    {
     "data": {
      "text/plain": [
       "array([0.46175465, 0.26118638, 0.12723651, 0.04128312, 0.02515321,\n",
       "       0.01346282, 0.00810481, 0.00647967, 0.00518889, 0.00481465,\n",
       "       0.00407228, 0.00342697, 0.00317968, 0.00293208, 0.00264091,\n",
       "       0.00237903, 0.00236165, 0.00230856, 0.00226216, 0.00173574])"
      ]
     },
     "execution_count": 10,
     "metadata": {},
     "output_type": "execute_result"
    }
   ],
   "source": [
    "pca.explained_variance_ratio_"
   ]
  },
  {
   "cell_type": "code",
   "execution_count": 11,
   "metadata": {},
   "outputs": [],
   "source": [
    "import matplotlib.pyplot as plt\n",
    "import numpy as np"
   ]
  },
  {
   "cell_type": "code",
   "execution_count": 12,
   "metadata": {},
   "outputs": [
    {
     "data": {
      "image/png": "[encoded data removed]",
      "text/plain": [
       "<Figure size 640x480 with 1 Axes>"
      ]
     },
     "metadata": {},
     "output_type": "display_data"
    }
   ],
   "source": [
    "PC_values = np.arange(pca.n_components_) + 1\n",
    "plt.plot(PC_values, pca.explained_variance_ratio_, 'o-', linewidth=2, color='blue')\n",
    "plt.title('Scree Plot')\n",
    "plt.xlabel('Principal Component')\n",
    "plt.ylabel('Variance Explained')\n",
    "plt.show()"
   ]
  },
  {
   "cell_type": "code",
   "execution_count": 8,
   "metadata": {},
   "outputs": [],
   "source": [
    "# elbow is at 3 components. note, after this is aggregated to user level and then standardized, elbow may move\n",
    "pca = PCA(n_components=3)\n",
    "X_source_pca = pca.fit_transform(encoded_df)\n",
    "# I believe we'd need to do this for train and test separately to not have data leakage through the PCA??"
   ]
  },
  {
   "cell_type": "code",
   "execution_count": 9,
   "metadata": {},
   "outputs": [],
   "source": [
    "n_components = X_source_pca.shape[1]  # Get the number of components\n",
    "column_names = [f\"PC_Source_{i}\" for i in range(n_components)]  \n",
    "# Create the DataFrame with the transformed data and column names\n",
    "X_source_df = pd.DataFrame(data=X_source_pca, columns=column_names, index=encoded_df.index)"
   ]
  }
 ],
 "metadata": {
  "kernelspec": {
   "display_name": "base",
   "language": "python",
   "name": "python3"
  },
  "language_info": {
   "codemirror_mode": {
    "name": "ipython",
    "version": 3
   },
   "file_extension": ".py",
   "mimetype": "text/x-python",
   "name": "python",
   "nbconvert_exporter": "python",
   "pygments_lexer": "ipython3",
   "version": "3.10.9"
  }
 },
 "nbformat": 4,
 "nbformat_minor": 2
}
