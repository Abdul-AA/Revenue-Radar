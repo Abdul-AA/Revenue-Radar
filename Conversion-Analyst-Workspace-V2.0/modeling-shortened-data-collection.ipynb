{
 "cells": [
  {
   "cell_type": "markdown",
   "metadata": {},
   "source": [
    "## Model experiments with the 4-month collection period format\n",
    "\n",
    "We currently have a model that uses 8 months of training data to generate predictions. We would like to experiment to see if a version of the model which trains on 4 months of user data to predict conversion in the following 2 month period could be viable. "
   ]
  },
  {
   "cell_type": "code",
   "execution_count": 2,
   "metadata": {},
   "outputs": [
    {
     "name": "stdout",
     "output_type": "stream",
     "text": [
      "[2024-05-03 16:45:30 -0400] [85931] [INFO] Starting gunicorn 21.2.0\n",
      "[2024-05-03 16:45:30 -0400] [85931] [INFO] Listening at: http://127.0.0.1:5000 (85931)\n",
      "[2024-05-03 16:45:30 -0400] [85931] [INFO] Using worker: sync\n",
      "[2024-05-03 16:45:30 -0400] [85932] [INFO] Booting worker with pid: 85932\n",
      "[2024-05-03 16:45:30 -0400] [85933] [INFO] Booting worker with pid: 85933\n",
      "[2024-05-03 16:45:30 -0400] [85934] [INFO] Booting worker with pid: 85934\n",
      "[2024-05-03 16:45:30 -0400] [85935] [INFO] Booting worker with pid: 85935\n",
      "^C\n",
      "[2024-05-03 16:50:23 -0400] [85931] [INFO] Handling signal: int\n",
      "[2024-05-03 16:50:23 -0400] [85934] [INFO] Worker exiting (pid: 85934)\n",
      "[2024-05-03 16:50:23 -0400] [85932] [INFO] Worker exiting (pid: 85932)\n",
      "[2024-05-03 16:50:23 -0400] [85933] [INFO] Worker exiting (pid: 85933)\n",
      "[2024-05-03 16:50:23 -0400] [85935] [INFO] Worker exiting (pid: 85935)\n"
     ]
    }
   ],
   "source": [
    "!mlflow ui"
   ]
  },
  {
   "cell_type": "code",
   "execution_count": null,
   "metadata": {},
   "outputs": [],
   "source": [
    "import mlflow"
   ]
  },
  {
   "cell_type": "code",
   "execution_count": null,
   "metadata": {},
   "outputs": [],
   "source": [
    "mlflow.set_tracking_uri(\"http://localhost:5000\")"
   ]
  }
 ],
 "metadata": {
  "kernelspec": {
   "display_name": "base",
   "language": "python",
   "name": "python3"
  },
  "language_info": {
   "codemirror_mode": {
    "name": "ipython",
    "version": 3
   },
   "file_extension": ".py",
   "mimetype": "text/x-python",
   "name": "python",
   "nbconvert_exporter": "python",
   "pygments_lexer": "ipython3",
   "version": "3.10.9"
  }
 },
 "nbformat": 4,
 "nbformat_minor": 2
}
