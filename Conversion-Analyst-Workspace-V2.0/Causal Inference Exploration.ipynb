{
 "cells": [
  {
   "cell_type": "markdown",
   "metadata": {},
   "source": [
    "## Causal Inference Exploration"
   ]
  },
  {
   "cell_type": "code",
   "execution_count": 1,
   "metadata": {},
   "outputs": [],
   "source": [
    "import pandas as pd\n",
    "import numpy as np"
   ]
  },
  {
   "cell_type": "markdown",
   "metadata": {},
   "source": [
    "### **Apr 25 Session**\n",
    "Checking on viability of socially engageed as a treatment. Not viable, entire dataset not socially engaged."
   ]
  },
  {
   "cell_type": "code",
   "execution_count": 11,
   "metadata": {},
   "outputs": [
    {
     "data": {
      "text/plain": [
       "Not Socially Engaged    903653\n",
       "Name: socialEngagementType, dtype: int64"
      ]
     },
     "execution_count": 11,
     "metadata": {},
     "output_type": "execute_result"
    }
   ],
   "source": [
    "gstore[\"socialEngagementType\"].value_counts()"
   ]
  },
  {
   "cell_type": "markdown",
   "metadata": {},
   "source": [
    "### **Apr 24 Session**"
   ]
  },
  {
   "cell_type": "markdown",
   "metadata": {},
   "source": [
    "create a flag column for if something is a cpc session\n",
    "Find the date of the first record for which medium = cpc\n",
    "Find the date of the last session in which medium = cpc\n",
    "Creating treatment group dataset. \n",
    "Session records for which it is the visitorid's first visit with medium = cpc\n",
    "Then another one in which "
   ]
  },
  {
   "cell_type": "code",
   "execution_count": 2,
   "metadata": {},
   "outputs": [
    {
     "name": "stderr",
     "output_type": "stream",
     "text": [
      "/var/folders/z1/1zds15w97_g7_fhs4_83dc3m0000gn/T/ipykernel_56232/3136096564.py:1: DtypeWarning: Columns (2,54) have mixed types. Specify dtype option on import or set low_memory=False.\n",
      "  gstore = pd.read_csv(\"/Users/aoluwolerotimi/Datasets/train_dejsonified.csv\")\n"
     ]
    }
   ],
   "source": [
    "gstore = pd.read_csv(\"/Users/aoluwolerotimi/Datasets/train_dejsonified.csv\")"
   ]
  },
  {
   "cell_type": "code",
   "execution_count": 3,
   "metadata": {},
   "outputs": [],
   "source": [
    "gstore['date'] = pd.to_datetime(gstore['date'], format='%Y%m%d').dt.strftime('%Y-%m-%d')\n",
    "gstore['date'] = pd.to_datetime(gstore['date'])"
   ]
  },
  {
   "cell_type": "code",
   "execution_count": 4,
   "metadata": {},
   "outputs": [
    {
     "name": "stdout",
     "output_type": "stream",
     "text": [
      "Earliest cpc date\n",
      "2016-08-01 00:00:00\n",
      "Latest cpc date\n",
      "2017-08-01 00:00:00\n"
     ]
    }
   ],
   "source": [
    "print(\"Earliest cpc date\")\n",
    "print(gstore[gstore['medium'] == 'cpc']['date'].min())\n",
    "print(\"Latest cpc date\")\n",
    "print(gstore[gstore['medium'] == 'cpc']['date'].max())"
   ]
  },
  {
   "cell_type": "markdown",
   "metadata": {},
   "source": [
    "CPC interactions span the whole year in the dataset, so able to sample a control group across the dataset."
   ]
  },
  {
   "cell_type": "code",
   "execution_count": 5,
   "metadata": {},
   "outputs": [],
   "source": [
    "gstore['cpcVisit'] = gstore['medium'].apply(lambda x: 1 if x == 'cpc' else 0)"
   ]
  },
  {
   "cell_type": "code",
   "execution_count": 6,
   "metadata": {},
   "outputs": [],
   "source": [
    "cpc_visitors = gstore[gstore['cpcVisit'] == 1]['fullVisitorId'].unique().tolist()"
   ]
  },
  {
   "cell_type": "code",
   "execution_count": 7,
   "metadata": {},
   "outputs": [],
   "source": [
    "noncpc_visitors = gstore[gstore['cpcVisit'] == 0]['fullVisitorId'].unique().tolist()"
   ]
  },
  {
   "cell_type": "code",
   "execution_count": 8,
   "metadata": {},
   "outputs": [
    {
     "name": "stdout",
     "output_type": "stream",
     "text": [
      " There are 18993 cpc vistors\n",
      " There are 709414 non cpc vistors\n"
     ]
    }
   ],
   "source": [
    "print(f\" There are {len(cpc_visitors)} cpc vistors\")\n",
    "print(f\" There are {len(noncpc_visitors)} non cpc vistors\")"
   ]
  },
  {
   "cell_type": "code",
   "execution_count": 9,
   "metadata": {},
   "outputs": [],
   "source": [
    "# Filter gtore where 'cpcVisit' is 1\n",
    "filtered = gstore[gstore['cpcVisit'] == 1]\n",
    "\n",
    "# Further filter where 'fullVisitorId' is in the list cpc_visitor\n",
    "filtered = filtered[filtered['fullVisitorId'].isin(cpc_visitors)]\n",
    "\n",
    "# Drop duplicates to keep only the first entry for each 'fullVisitorId'\n",
    "cpcdf = filtered.drop_duplicates(subset='fullVisitorId')"
   ]
  },
  {
   "cell_type": "code",
   "execution_count": 10,
   "metadata": {},
   "outputs": [],
   "source": [
    "# Filter gtore where 'cpcVisit' is 0\n",
    "filtered = gstore[gstore['cpcVisit'] == 0]\n",
    "\n",
    "# Further filter where 'fullVisitorId' is in the list noncpc_visitor\n",
    "filtered = filtered[filtered['fullVisitorId'].isin(noncpc_visitors)]\n",
    "\n",
    "# Drop duplicates to keep only the first entry for each 'fullVisitorId'\n",
    "noncpcdf = filtered.drop_duplicates(subset='fullVisitorId')"
   ]
  },
  {
   "cell_type": "markdown",
   "metadata": {},
   "source": [
    "### **Apr 23 Session**"
   ]
  },
  {
   "cell_type": "markdown",
   "metadata": {},
   "source": [
    "### Identify Potential Treatment Variables"
   ]
  },
  {
   "cell_type": "markdown",
   "metadata": {},
   "source": [
    "Check out\n",
    "* How much of the dataset received the treatment\n",
    "* What's the spread of dates for people who received the treatment\n",
    "* Any other commonalities we can use to reduce the scope from the whole dataset to a meaningfully comparative control sample?"
   ]
  },
  {
   "cell_type": "code",
   "execution_count": 3,
   "metadata": {},
   "outputs": [
    {
     "name": "stderr",
     "output_type": "stream",
     "text": [
      "/var/folders/z1/1zds15w97_g7_fhs4_83dc3m0000gn/T/ipykernel_29598/3136096564.py:1: DtypeWarning: Columns (2,54) have mixed types. Specify dtype option on import or set low_memory=False.\n",
      "  gstore = pd.read_csv(\"/Users/aoluwolerotimi/Datasets/train_dejsonified.csv\")\n"
     ]
    }
   ],
   "source": [
    "gstore = pd.read_csv(\"/Users/aoluwolerotimi/Datasets/train_dejsonified.csv\")"
   ]
  },
  {
   "cell_type": "code",
   "execution_count": 4,
   "metadata": {},
   "outputs": [
    {
     "data": {
      "text/plain": [
       "Index(['channelGrouping', 'date', 'fullVisitorId', 'sessionId',\n",
       "       'socialEngagementType', 'visitId', 'visitNumber', 'visitStartTime',\n",
       "       'continent', 'subContinent', 'country', 'region', 'metro', 'city',\n",
       "       'cityId', 'networkDomain', 'latitude', 'longitude', 'networkLocation',\n",
       "       'browser', 'browserVersion', 'browserSize', 'operatingSystem',\n",
       "       'operatingSystemVersion', 'isMobile', 'mobileDeviceBranding',\n",
       "       'mobileDeviceModel', 'mobileInputSelector', 'mobileDeviceInfo',\n",
       "       'mobileDeviceMarketingName', 'flashVersion', 'language', 'screenColors',\n",
       "       'screenResolution', 'deviceCategory', 'visits', 'hits', 'pageviews',\n",
       "       'bounces', 'newVisits', 'transactionRevenue', 'campaign', 'source',\n",
       "       'medium', 'keyword', 'adwordsClickInfo.criteriaParameters',\n",
       "       'isTrueDirect', 'referralPath', 'adwordsClickInfo.page',\n",
       "       'adwordsClickInfo.slot', 'adwordsClickInfo.gclId',\n",
       "       'adwordsClickInfo.adNetworkType', 'adwordsClickInfo.isVideoAd',\n",
       "       'adContent', 'campaignCode'],\n",
       "      dtype='object')"
      ]
     },
     "execution_count": 4,
     "metadata": {},
     "output_type": "execute_result"
    }
   ],
   "source": [
    "gstore.columns"
   ]
  },
  {
   "cell_type": "code",
   "execution_count": null,
   "metadata": {},
   "outputs": [],
   "source": [
    "g"
   ]
  },
  {
   "cell_type": "code",
   "execution_count": 5,
   "metadata": {},
   "outputs": [
    {
     "data": {
      "text/plain": [
       "0     NaN\n",
       "1     NaN\n",
       "2     NaN\n",
       "3     NaN\n",
       "4     NaN\n",
       "5     NaN\n",
       "6     NaN\n",
       "7     NaN\n",
       "8     NaN\n",
       "9     NaN\n",
       "10    NaN\n",
       "11    NaN\n",
       "12    NaN\n",
       "13    NaN\n",
       "14    NaN\n",
       "15    NaN\n",
       "16    NaN\n",
       "17    NaN\n",
       "18    NaN\n",
       "19    NaN\n",
       "20    NaN\n",
       "21    NaN\n",
       "22    NaN\n",
       "23    NaN\n",
       "24    NaN\n",
       "25    NaN\n",
       "26    NaN\n",
       "27    NaN\n",
       "28    NaN\n",
       "29    NaN\n",
       "30    NaN\n",
       "31    NaN\n",
       "32    NaN\n",
       "33    NaN\n",
       "34    NaN\n",
       "35    NaN\n",
       "36    NaN\n",
       "37    NaN\n",
       "38    NaN\n",
       "39    NaN\n",
       "40    NaN\n",
       "41    NaN\n",
       "42    NaN\n",
       "43    NaN\n",
       "44    NaN\n",
       "45    NaN\n",
       "46    NaN\n",
       "47    NaN\n",
       "48    NaN\n",
       "49    NaN\n",
       "Name: adContent, dtype: object"
      ]
     },
     "execution_count": 5,
     "metadata": {},
     "output_type": "execute_result"
    }
   ],
   "source": [
    "gstore['adContent'].head(50)"
   ]
  },
  {
   "cell_type": "code",
   "execution_count": 7,
   "metadata": {},
   "outputs": [
    {
     "data": {
      "text/plain": [
       "(903653, 55)"
      ]
     },
     "execution_count": 7,
     "metadata": {},
     "output_type": "execute_result"
    }
   ],
   "source": [
    "gstore.shape"
   ]
  },
  {
   "cell_type": "code",
   "execution_count": 8,
   "metadata": {},
   "outputs": [
    {
     "name": "stdout",
     "output_type": "stream",
     "text": [
      "adContent sessions: 10946\n",
      "adContent percentage: 0.012113056671089455\n"
     ]
    }
   ],
   "source": [
    "print(f\"adContent sessions: {gstore['adContent'].count()}\")\n",
    "print(f\"adContent percentage: {gstore['adContent'].count() / gstore.shape[0]}\")\n",
    "# adcontent_count = gstore['adContent'].count()\n",
    "# print(adcontent_count)"
   ]
  },
  {
   "cell_type": "code",
   "execution_count": 9,
   "metadata": {},
   "outputs": [],
   "source": [
    "adrelated = ['adwordsClickInfo.page',  'adwordsClickInfo.slot',  'adwordsClickInfo.gclId',  'adwordsClickInfo.adNetworkType',  'adContent',  'campaignCode', 'campaign']"
   ]
  },
  {
   "cell_type": "code",
   "execution_count": 10,
   "metadata": {},
   "outputs": [
    {
     "name": "stdout",
     "output_type": "stream",
     "text": [
      "adwordsClickInfo.page sessions: 21460\n",
      "adwordsClickInfo.page percentage: 0.023748053733014775\n",
      "adwordsClickInfo.slot sessions: 21460\n",
      "adwordsClickInfo.slot percentage: 0.023748053733014775\n",
      "adwordsClickInfo.gclId sessions: 21561\n",
      "adwordsClickInfo.gclId percentage: 0.023859822299046204\n",
      "adwordsClickInfo.adNetworkType sessions: 21460\n",
      "adwordsClickInfo.adNetworkType percentage: 0.023748053733014775\n",
      "adContent sessions: 10946\n",
      "adContent percentage: 0.012113056671089455\n",
      "campaignCode sessions: 1\n",
      "campaignCode percentage: 1.1066194656577248e-06\n",
      "campaign sessions: 903653\n",
      "campaign percentage: 1.0\n"
     ]
    }
   ],
   "source": [
    "for feature in adrelated:\n",
    "    print(f\"{feature} sessions: {gstore[feature].count()}\")\n",
    "    print(f\"{feature} percentage: {gstore[feature].count() / gstore.shape[0]}\")\n"
   ]
  },
  {
   "cell_type": "code",
   "execution_count": 14,
   "metadata": {},
   "outputs": [
    {
     "data": {
      "text/plain": [
       "0     (not set)\n",
       "1     (not set)\n",
       "2     (not set)\n",
       "3     (not set)\n",
       "4     (not set)\n",
       "5     (not set)\n",
       "6     (not set)\n",
       "7     (not set)\n",
       "8     (not set)\n",
       "9     (not set)\n",
       "10    (not set)\n",
       "11    (not set)\n",
       "12    (not set)\n",
       "13    (not set)\n",
       "14    (not set)\n",
       "15    (not set)\n",
       "16    (not set)\n",
       "17    (not set)\n",
       "18    (not set)\n",
       "19    (not set)\n",
       "20    (not set)\n",
       "21    (not set)\n",
       "22    (not set)\n",
       "23    (not set)\n",
       "24    (not set)\n",
       "25    (not set)\n",
       "26    (not set)\n",
       "27    (not set)\n",
       "28    (not set)\n",
       "29    (not set)\n",
       "30    (not set)\n",
       "31    (not set)\n",
       "32    (not set)\n",
       "33    (not set)\n",
       "34    (not set)\n",
       "35    (not set)\n",
       "36    (not set)\n",
       "37    (not set)\n",
       "38    (not set)\n",
       "39    (not set)\n",
       "40    (not set)\n",
       "41    (not set)\n",
       "42    (not set)\n",
       "43    (not set)\n",
       "44    (not set)\n",
       "45    (not set)\n",
       "46    (not set)\n",
       "47    (not set)\n",
       "48    (not set)\n",
       "49    (not set)\n",
       "Name: campaign, dtype: object"
      ]
     },
     "execution_count": 14,
     "metadata": {},
     "output_type": "execute_result"
    }
   ],
   "source": [
    "gstore['campaign'].head(50)\n"
   ]
  },
  {
   "cell_type": "code",
   "execution_count": 15,
   "metadata": {},
   "outputs": [],
   "source": [
    "gstore[\"campaign\"] = gstore[\"campaign\"].replace(\"(not set)\", pd.NA)"
   ]
  },
  {
   "cell_type": "code",
   "execution_count": 16,
   "metadata": {},
   "outputs": [
    {
     "name": "stdout",
     "output_type": "stream",
     "text": [
      "adwordsClickInfo.page sessions: 21460\n",
      "adwordsClickInfo.page percentage: 0.023748053733014775\n",
      "adwordsClickInfo.slot sessions: 21460\n",
      "adwordsClickInfo.slot percentage: 0.023748053733014775\n",
      "adwordsClickInfo.gclId sessions: 21561\n",
      "adwordsClickInfo.gclId percentage: 0.023859822299046204\n",
      "adwordsClickInfo.adNetworkType sessions: 21460\n",
      "adwordsClickInfo.adNetworkType percentage: 0.023748053733014775\n",
      "adContent sessions: 10946\n",
      "adContent percentage: 0.012113056671089455\n",
      "campaignCode sessions: 1\n",
      "campaignCode percentage: 1.1066194656577248e-06\n",
      "campaign sessions: 38306\n",
      "campaign percentage: 0.042390165251484806\n"
     ]
    }
   ],
   "source": [
    "for feature in adrelated:\n",
    "    print(f\"{feature} sessions: {gstore[feature].count()}\")\n",
    "    print(f\"{feature} percentage: {gstore[feature].count() / gstore.shape[0]}\")"
   ]
  },
  {
   "cell_type": "markdown",
   "metadata": {},
   "source": [
    "**Most examples available for adwordsClickInfo.gclId sessions**"
   ]
  },
  {
   "cell_type": "code",
   "execution_count": 17,
   "metadata": {},
   "outputs": [],
   "source": [
    "\n",
    "adwordsdf = gstore[gstore['adwordsClickInfo.gclId'].notnull()]\n"
   ]
  },
  {
   "cell_type": "code",
   "execution_count": 19,
   "metadata": {},
   "outputs": [],
   "source": [
    "sum_transaction_revenue = adwordsdf['transactionRevenue'].sum(skipna=True)\n"
   ]
  },
  {
   "cell_type": "code",
   "execution_count": 22,
   "metadata": {},
   "outputs": [
    {
     "data": {
      "text/plain": [
       "456"
      ]
     },
     "execution_count": 22,
     "metadata": {},
     "output_type": "execute_result"
    }
   ],
   "source": [
    "adwordsdf['transactionRevenue'].count()"
   ]
  },
  {
   "cell_type": "code",
   "execution_count": 23,
   "metadata": {},
   "outputs": [
    {
     "name": "stdout",
     "output_type": "stream",
     "text": [
      "0.02114929734242382\n"
     ]
    }
   ],
   "source": [
    "print(adwordsdf['transactionRevenue'].count() / adwordsdf.shape[0])"
   ]
  },
  {
   "cell_type": "code",
   "execution_count": 24,
   "metadata": {},
   "outputs": [
    {
     "data": {
      "text/plain": [
       "(21561, 55)"
      ]
     },
     "execution_count": 24,
     "metadata": {},
     "output_type": "execute_result"
    }
   ],
   "source": [
    "adwordsdf.shape"
   ]
  },
  {
   "cell_type": "code",
   "execution_count": 21,
   "metadata": {},
   "outputs": [
    {
     "data": {
      "text/plain": [
       "<bound method DataFrame.isna of        channelGrouping      date        fullVisitorId  \\\n",
       "102        Paid Search  20160902  2870162892603227525   \n",
       "271        Paid Search  20160902  9012569622109896332   \n",
       "295        Paid Search  20160902  4844837653335527853   \n",
       "305        Paid Search  20160902  2615187956581444986   \n",
       "400        Paid Search  20160902  5407858196729335230   \n",
       "...                ...       ...                  ...   \n",
       "903270     Paid Search  20170104  9264990984859179657   \n",
       "903283     Paid Search  20170104  1529484952694004327   \n",
       "903287     Paid Search  20170104  8626798226969724640   \n",
       "903295     Paid Search  20170104  4740747620184612285   \n",
       "903307     Paid Search  20170104  8408834556781344877   \n",
       "\n",
       "                             sessionId  socialEngagementType     visitId  \\\n",
       "102     2870162892603227525_1472858877  Not Socially Engaged  1472858877   \n",
       "271     9012569622109896332_1472878281  Not Socially Engaged  1472878281   \n",
       "295     4844837653335527853_1472854260  Not Socially Engaged  1472854260   \n",
       "305     2615187956581444986_1472807328  Not Socially Engaged  1472807328   \n",
       "400     5407858196729335230_1472856477  Not Socially Engaged  1472856477   \n",
       "...                                ...                   ...         ...   \n",
       "903270  9264990984859179657_1483547433  Not Socially Engaged  1483547433   \n",
       "903283  1529484952694004327_1483561752  Not Socially Engaged  1483561752   \n",
       "903287  8626798226969724640_1483576840  Not Socially Engaged  1483576840   \n",
       "903295  4740747620184612285_1483571064  Not Socially Engaged  1483571064   \n",
       "903307  8408834556781344877_1483548742  Not Socially Engaged  1483548742   \n",
       "\n",
       "        visitNumber  visitStartTime continent      subContinent  ...  \\\n",
       "102               1      1472858877  Americas  Northern America  ...   \n",
       "271               1      1472878281  Americas  Northern America  ...   \n",
       "295               4      1472854260  Americas  Northern America  ...   \n",
       "305               2      1472807328  Americas  Northern America  ...   \n",
       "400               1      1472856477  Americas  Northern America  ...   \n",
       "...             ...             ...       ...               ...  ...   \n",
       "903270            1      1483547433  Americas  Northern America  ...   \n",
       "903283            1      1483561752  Americas  Northern America  ...   \n",
       "903287            2      1483576840  Americas  Northern America  ...   \n",
       "903295            1      1483571064  Americas  Northern America  ...   \n",
       "903307            2      1483548742  Americas  Northern America  ...   \n",
       "\n",
       "       adwordsClickInfo.criteriaParameters isTrueDirect referralPath  \\\n",
       "102          not available in demo dataset          NaN          NaN   \n",
       "271          not available in demo dataset          NaN          NaN   \n",
       "295          not available in demo dataset          NaN          NaN   \n",
       "305          not available in demo dataset          NaN          NaN   \n",
       "400          not available in demo dataset          NaN          NaN   \n",
       "...                                    ...          ...          ...   \n",
       "903270       not available in demo dataset          NaN          NaN   \n",
       "903283       not available in demo dataset          NaN          NaN   \n",
       "903287       not available in demo dataset         True          NaN   \n",
       "903295       not available in demo dataset          NaN          NaN   \n",
       "903307       not available in demo dataset          NaN          NaN   \n",
       "\n",
       "       adwordsClickInfo.page adwordsClickInfo.slot  \\\n",
       "102                      1.0                   Top   \n",
       "271                      1.0                   Top   \n",
       "295                      1.0                   Top   \n",
       "305                      1.0                   Top   \n",
       "400                      1.0                   Top   \n",
       "...                      ...                   ...   \n",
       "903270                   1.0                   Top   \n",
       "903283                   1.0                   Top   \n",
       "903287                   1.0                   Top   \n",
       "903295                   1.0                   Top   \n",
       "903307                   1.0                   Top   \n",
       "\n",
       "                                   adwordsClickInfo.gclId  \\\n",
       "102     Cj0KEQjwxqS-BRDRgPLp0q2t0IUBEiQAgfMXRBVDYwnFaw...   \n",
       "271     Cj0KEQjwxqS-BRDRgPLp0q2t0IUBEiQAgfMXRAq0D2zir1...   \n",
       "295     Cj0KEQjwxqS-BRDRgPLp0q2t0IUBEiQAgfMXRMbhgNCALe...   \n",
       "305     Cj0KEQjwxqS-BRDRgPLp0q2t0IUBEiQAgfMXRBRI7rtb79...   \n",
       "400     Cj0KEQjwxqS-BRDRgPLp0q2t0IUBEiQAgfMXRDKcQOTkfR...   \n",
       "...                                                   ...   \n",
       "903270                         CMiH0e30qNECFUeUfgod8UwDFg   \n",
       "903283  CjwKEAiA17LDBRDElqOGq8vR7m8SJAA1AC0_HT9qtS8geJ...   \n",
       "903287                         CPi135HaqdECFYtKDQodGWYG0g   \n",
       "903295                         COiIvfHMqdECFcKEswodNJcMrQ   \n",
       "903307  CjwKEAiA17LDBRDElqOGq8vR7m8SJAA1AC0_0wzbDX0fd-...   \n",
       "\n",
       "       adwordsClickInfo.adNetworkType adwordsClickInfo.isVideoAd adContent  \\\n",
       "102                     Google Search                      False       NaN   \n",
       "271                     Google Search                      False       NaN   \n",
       "295                     Google Search                      False       NaN   \n",
       "305                     Google Search                      False       NaN   \n",
       "400                     Google Search                      False       NaN   \n",
       "...                               ...                        ...       ...   \n",
       "903270                  Google Search                      False       NaN   \n",
       "903283                  Google Search                      False       NaN   \n",
       "903287                  Google Search                      False       NaN   \n",
       "903295                  Google Search                      False       NaN   \n",
       "903307                  Google Search                      False       NaN   \n",
       "\n",
       "       campaignCode  \n",
       "102             NaN  \n",
       "271             NaN  \n",
       "295             NaN  \n",
       "305             NaN  \n",
       "400             NaN  \n",
       "...             ...  \n",
       "903270          NaN  \n",
       "903283          NaN  \n",
       "903287          NaN  \n",
       "903295          NaN  \n",
       "903307          NaN  \n",
       "\n",
       "[21561 rows x 55 columns]>"
      ]
     },
     "execution_count": 21,
     "metadata": {},
     "output_type": "execute_result"
    }
   ],
   "source": [
    "adwordsdf.isna"
   ]
  },
  {
   "cell_type": "code",
   "execution_count": 20,
   "metadata": {},
   "outputs": [
    {
     "data": {
      "text/plain": [
       "42845840000.0"
      ]
     },
     "execution_count": 20,
     "metadata": {},
     "output_type": "execute_result"
    }
   ],
   "source": [
    "sum_transaction_revenue"
   ]
  },
  {
   "cell_type": "code",
   "execution_count": 26,
   "metadata": {},
   "outputs": [
    {
     "data": {
      "text/plain": [
       "14486"
      ]
     },
     "execution_count": 26,
     "metadata": {},
     "output_type": "execute_result"
    }
   ],
   "source": [
    "adwordsdf['newVisits'].count()"
   ]
  },
  {
   "cell_type": "code",
   "execution_count": 27,
   "metadata": {},
   "outputs": [
    {
     "name": "stdout",
     "output_type": "stream",
     "text": [
      "0.6718612309262093\n"
     ]
    }
   ],
   "source": [
    "print(adwordsdf['newVisits'].count() / adwordsdf.shape[0])"
   ]
  },
  {
   "cell_type": "code",
   "execution_count": 28,
   "metadata": {},
   "outputs": [],
   "source": [
    "unique_visitor_ids = adwordsdf['fullVisitorId'].unique().tolist()"
   ]
  },
  {
   "cell_type": "code",
   "execution_count": 29,
   "metadata": {},
   "outputs": [
    {
     "data": {
      "text/plain": [
       "count    1.151500e+04\n",
       "mean     1.337448e+08\n",
       "std      4.482852e+08\n",
       "min      1.000000e+04\n",
       "25%      2.493000e+07\n",
       "50%      4.945000e+07\n",
       "75%      1.076550e+08\n",
       "max      2.312950e+10\n",
       "Name: transactionRevenue, dtype: float64"
      ]
     },
     "execution_count": 29,
     "metadata": {},
     "output_type": "execute_result"
    }
   ],
   "source": [
    "gstore['transactionRevenue'].describe()\n"
   ]
  },
  {
   "cell_type": "code",
   "execution_count": 30,
   "metadata": {},
   "outputs": [],
   "source": [
    "gstore['originalRevenue'] = gstore['transactionRevenue'] / 10**6"
   ]
  },
  {
   "cell_type": "code",
   "execution_count": 31,
   "metadata": {},
   "outputs": [
    {
     "data": {
      "text/plain": [
       "count    11515.000000\n",
       "mean       133.744789\n",
       "std        448.285227\n",
       "min          0.010000\n",
       "25%         24.930000\n",
       "50%         49.450000\n",
       "75%        107.655000\n",
       "max      23129.500000\n",
       "Name: originalRevenue, dtype: float64"
      ]
     },
     "execution_count": 31,
     "metadata": {},
     "output_type": "execute_result"
    }
   ],
   "source": [
    "gstore['originalRevenue'].describe()"
   ]
  }
 ],
 "metadata": {
  "kernelspec": {
   "display_name": "base",
   "language": "python",
   "name": "python3"
  },
  "language_info": {
   "codemirror_mode": {
    "name": "ipython",
    "version": 3
   },
   "file_extension": ".py",
   "mimetype": "text/x-python",
   "name": "python",
   "nbconvert_exporter": "python",
   "pygments_lexer": "ipython3",
   "version": "3.10.9"
  }
 },
 "nbformat": 4,
 "nbformat_minor": 2
}
