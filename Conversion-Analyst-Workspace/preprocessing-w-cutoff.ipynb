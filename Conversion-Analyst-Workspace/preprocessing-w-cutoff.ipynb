{
 "cells": [
  {
   "cell_type": "markdown",
   "metadata": {},
   "source": [
    "### Preprocessing with Cutoff Date"
   ]
  },
  {
   "cell_type": "code",
   "execution_count": 1,
   "metadata": {},
   "outputs": [],
   "source": [
    "import pandas as pd"
   ]
  },
  {
   "cell_type": "code",
   "execution_count": 2,
   "metadata": {},
   "outputs": [
    {
     "name": "stderr",
     "output_type": "stream",
     "text": [
      "/var/folders/z1/1zds15w97_g7_fhs4_83dc3m0000gn/T/ipykernel_43884/3136096564.py:1: DtypeWarning: Columns (2,54) have mixed types. Specify dtype option on import or set low_memory=False.\n",
      "  gstore = pd.read_csv(\"/Users/aoluwolerotimi/Datasets/train_dejsonified.csv\")\n"
     ]
    }
   ],
   "source": [
    "gstore = pd.read_csv(\"/Users/aoluwolerotimi/Datasets/train_dejsonified.csv\")"
   ]
  },
  {
   "cell_type": "code",
   "execution_count": 3,
   "metadata": {},
   "outputs": [
    {
     "data": {
      "text/plain": [
       "channelGrouping                         object\n",
       "date                                     int64\n",
       "fullVisitorId                           object\n",
       "sessionId                               object\n",
       "socialEngagementType                    object\n",
       "visitId                                  int64\n",
       "visitNumber                              int64\n",
       "visitStartTime                           int64\n",
       "continent                               object\n",
       "subContinent                            object\n",
       "country                                 object\n",
       "region                                  object\n",
       "metro                                   object\n",
       "city                                    object\n",
       "cityId                                  object\n",
       "networkDomain                           object\n",
       "latitude                                object\n",
       "longitude                               object\n",
       "networkLocation                         object\n",
       "browser                                 object\n",
       "browserVersion                          object\n",
       "browserSize                             object\n",
       "operatingSystem                         object\n",
       "operatingSystemVersion                  object\n",
       "isMobile                                  bool\n",
       "mobileDeviceBranding                    object\n",
       "mobileDeviceModel                       object\n",
       "mobileInputSelector                     object\n",
       "mobileDeviceInfo                        object\n",
       "mobileDeviceMarketingName               object\n",
       "flashVersion                            object\n",
       "language                                object\n",
       "screenColors                            object\n",
       "screenResolution                        object\n",
       "deviceCategory                          object\n",
       "visits                                   int64\n",
       "hits                                     int64\n",
       "pageviews                              float64\n",
       "bounces                                float64\n",
       "newVisits                              float64\n",
       "transactionRevenue                     float64\n",
       "campaign                                object\n",
       "source                                  object\n",
       "medium                                  object\n",
       "keyword                                 object\n",
       "adwordsClickInfo.criteriaParameters     object\n",
       "isTrueDirect                            object\n",
       "referralPath                            object\n",
       "adwordsClickInfo.page                  float64\n",
       "adwordsClickInfo.slot                   object\n",
       "adwordsClickInfo.gclId                  object\n",
       "adwordsClickInfo.adNetworkType          object\n",
       "adwordsClickInfo.isVideoAd              object\n",
       "adContent                               object\n",
       "campaignCode                            object\n",
       "dtype: object"
      ]
     },
     "execution_count": 3,
     "metadata": {},
     "output_type": "execute_result"
    }
   ],
   "source": [
    "gstore.dtypes"
   ]
  },
  {
   "cell_type": "code",
   "execution_count": 4,
   "metadata": {},
   "outputs": [],
   "source": [
    "gstore['date'] = pd.to_datetime(gstore['date'], format='%Y%m%d').dt.strftime('%Y-%m-%d')"
   ]
  },
  {
   "cell_type": "code",
   "execution_count": 5,
   "metadata": {},
   "outputs": [
    {
     "name": "stdout",
     "output_type": "stream",
     "text": [
      "Earliest Date: 2016-08-01\n",
      "Latest Date: 2017-08-01\n"
     ]
    }
   ],
   "source": [
    "# 6-month split is end of Feb 2017\n",
    "print(\"Earliest Date:\", (gstore['date']).min())\n",
    "print(\"Latest Date:\", (gstore['date']).max())"
   ]
  },
  {
   "cell_type": "code",
   "execution_count": null,
   "metadata": {},
   "outputs": [],
   "source": [
    "# beginning of august to end of Feb \n",
    "# beginning of march to beginning of august"
   ]
  },
  {
   "cell_type": "code",
   "execution_count": 6,
   "metadata": {},
   "outputs": [],
   "source": [
    "cutoff_date = pd.to_datetime('2017-02-28')"
   ]
  },
  {
   "cell_type": "code",
   "execution_count": 10,
   "metadata": {},
   "outputs": [],
   "source": [
    "\n",
    "gstore['date'] = pd.to_datetime(gstore['date'])"
   ]
  },
  {
   "cell_type": "code",
   "execution_count": 11,
   "metadata": {},
   "outputs": [
    {
     "name": "stdout",
     "output_type": "stream",
     "text": [
      "datetime64[ns]\n"
     ]
    }
   ],
   "source": [
    "# Verify the updated data type\n",
    "print(gstore['date'].dtype)"
   ]
  },
  {
   "cell_type": "code",
   "execution_count": 12,
   "metadata": {},
   "outputs": [],
   "source": [
    "df1 = gstore.loc[gstore['date'] <= cutoff_date]\n",
    "df2 = gstore.loc[gstore['date'] > cutoff_date]\n"
   ]
  },
  {
   "cell_type": "code",
   "execution_count": 13,
   "metadata": {},
   "outputs": [
    {
     "name": "stdout",
     "output_type": "stream",
     "text": [
      "903653\n"
     ]
    }
   ],
   "source": [
    "print(df1.shape[0] + df2.shape[0])"
   ]
  },
  {
   "cell_type": "code",
   "execution_count": 14,
   "metadata": {},
   "outputs": [],
   "source": [
    "# data collection cutoff dates\n",
    "df1cutoff = pd.to_datetime('2016-11-30')\n",
    "df2cutoff = pd.to_datetime('2017-06-30')"
   ]
  },
  {
   "cell_type": "code",
   "execution_count": 15,
   "metadata": {},
   "outputs": [],
   "source": [
    "# set aside collection period and performance period data\n",
    "df1p = df1.loc[df1['date'] > df1cutoff]"
   ]
  },
  {
   "cell_type": "code",
   "execution_count": 18,
   "metadata": {},
   "outputs": [],
   "source": [
    "df1c = df1.loc[df1['date'] <= df1cutoff]"
   ]
  },
  {
   "cell_type": "code",
   "execution_count": 20,
   "metadata": {},
   "outputs": [],
   "source": [
    "df1trainids = df1c['fullVisitorId'].unique().tolist()\n"
   ]
  },
  {
   "cell_type": "code",
   "execution_count": 16,
   "metadata": {},
   "outputs": [],
   "source": [
    "import gc"
   ]
  },
  {
   "cell_type": "code",
   "execution_count": 21,
   "metadata": {},
   "outputs": [
    {
     "data": {
      "text/plain": [
       "31"
      ]
     },
     "execution_count": 21,
     "metadata": {},
     "output_type": "execute_result"
    }
   ],
   "source": [
    "del df1c\n",
    "gc.collect()"
   ]
  },
  {
   "cell_type": "code",
   "execution_count": 23,
   "metadata": {},
   "outputs": [],
   "source": [
    "df1c = pd.DataFrame(df1trainids, columns=['fullVisitorId'])"
   ]
  }
 ],
 "metadata": {
  "kernelspec": {
   "display_name": "base",
   "language": "python",
   "name": "python3"
  },
  "language_info": {
   "codemirror_mode": {
    "name": "ipython",
    "version": 3
   },
   "file_extension": ".py",
   "mimetype": "text/x-python",
   "name": "python",
   "nbconvert_exporter": "python",
   "pygments_lexer": "ipython3",
   "version": "3.10.9"
  }
 },
 "nbformat": 4,
 "nbformat_minor": 2
}
