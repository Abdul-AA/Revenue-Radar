{
 "cells": [
  {
   "cell_type": "markdown",
   "metadata": {},
   "source": [
    "### Preprocessing with Cutoff Date"
   ]
  },
  {
   "cell_type": "code",
   "execution_count": 1,
   "metadata": {},
   "outputs": [],
   "source": [
    "import pandas as pd"
   ]
  },
  {
   "cell_type": "code",
   "execution_count": 2,
   "metadata": {},
   "outputs": [
    {
     "name": "stderr",
     "output_type": "stream",
     "text": [
      "/var/folders/z1/1zds15w97_g7_fhs4_83dc3m0000gn/T/ipykernel_46188/3136096564.py:1: DtypeWarning: Columns (2,54) have mixed types. Specify dtype option on import or set low_memory=False.\n",
      "  gstore = pd.read_csv(\"/Users/aoluwolerotimi/Datasets/train_dejsonified.csv\")\n"
     ]
    }
   ],
   "source": [
    "gstore = pd.read_csv(\"/Users/aoluwolerotimi/Datasets/train_dejsonified.csv\")"
   ]
  },
  {
   "cell_type": "code",
   "execution_count": 3,
   "metadata": {},
   "outputs": [],
   "source": [
    "# gstore.dtypes"
   ]
  },
  {
   "cell_type": "code",
   "execution_count": 4,
   "metadata": {},
   "outputs": [],
   "source": [
    "gstore['date'] = pd.to_datetime(gstore['date'], format='%Y%m%d').dt.strftime('%Y-%m-%d')"
   ]
  },
  {
   "cell_type": "code",
   "execution_count": 5,
   "metadata": {},
   "outputs": [
    {
     "name": "stdout",
     "output_type": "stream",
     "text": [
      "Earliest Date: 2016-08-01\n",
      "Latest Date: 2017-08-01\n"
     ]
    }
   ],
   "source": [
    "# 6-month split is end of Feb 2017\n",
    "print(\"Earliest Date:\", (gstore['date']).min())\n",
    "print(\"Latest Date:\", (gstore['date']).max())"
   ]
  },
  {
   "cell_type": "code",
   "execution_count": null,
   "metadata": {},
   "outputs": [],
   "source": [
    "# beginning of august to end of Feb \n",
    "# beginning of march to beginning of august"
   ]
  },
  {
   "cell_type": "code",
   "execution_count": 6,
   "metadata": {},
   "outputs": [],
   "source": [
    "cutoff_date = pd.to_datetime('2017-02-28')"
   ]
  },
  {
   "cell_type": "code",
   "execution_count": 7,
   "metadata": {},
   "outputs": [],
   "source": [
    "\n",
    "gstore['date'] = pd.to_datetime(gstore['date'])"
   ]
  },
  {
   "cell_type": "code",
   "execution_count": 8,
   "metadata": {},
   "outputs": [
    {
     "name": "stdout",
     "output_type": "stream",
     "text": [
      "datetime64[ns]\n"
     ]
    }
   ],
   "source": [
    "# Verify the updated data type\n",
    "print(gstore['date'].dtype)"
   ]
  },
  {
   "cell_type": "code",
   "execution_count": 9,
   "metadata": {},
   "outputs": [],
   "source": [
    "df1 = gstore.loc[gstore['date'] <= cutoff_date]\n",
    "df2 = gstore.loc[gstore['date'] > cutoff_date]\n"
   ]
  },
  {
   "cell_type": "code",
   "execution_count": 10,
   "metadata": {},
   "outputs": [
    {
     "name": "stdout",
     "output_type": "stream",
     "text": [
      "903653\n"
     ]
    }
   ],
   "source": [
    "print(df1.shape[0] + df2.shape[0])"
   ]
  },
  {
   "cell_type": "code",
   "execution_count": 11,
   "metadata": {},
   "outputs": [],
   "source": [
    "# data collection cutoff dates\n",
    "df1cutoff = pd.to_datetime('2016-11-30')\n",
    "df2cutoff = pd.to_datetime('2017-06-30')"
   ]
  },
  {
   "cell_type": "code",
   "execution_count": 12,
   "metadata": {},
   "outputs": [],
   "source": [
    "# set aside collection period and performance period data\n",
    "df1p = df1.loc[df1['date'] > df1cutoff]"
   ]
  },
  {
   "cell_type": "code",
   "execution_count": 24,
   "metadata": {},
   "outputs": [],
   "source": [
    "df1c = df1.loc[df1['date'] <= df1cutoff]"
   ]
  },
  {
   "cell_type": "code",
   "execution_count": 14,
   "metadata": {},
   "outputs": [],
   "source": [
    "df1trainids = df1c['fullVisitorId'].unique().tolist()\n"
   ]
  },
  {
   "cell_type": "code",
   "execution_count": 15,
   "metadata": {},
   "outputs": [],
   "source": [
    "import gc"
   ]
  },
  {
   "cell_type": "code",
   "execution_count": 23,
   "metadata": {},
   "outputs": [],
   "source": [
    "df1train = pd.DataFrame(df1trainids, columns=['fullVisitorId'])"
   ]
  },
  {
   "cell_type": "code",
   "execution_count": 20,
   "metadata": {},
   "outputs": [
    {
     "data": {
      "text/plain": [
       "organic      381561\n",
       "referral     330955\n",
       "(none)       143026\n",
       "cpc           25326\n",
       "affiliate     16403\n",
       "cpm            6262\n",
       "(not set)       120\n",
       "Name: medium, dtype: int64"
      ]
     },
     "execution_count": 20,
     "metadata": {},
     "output_type": "execute_result"
    }
   ],
   "source": [
    "gstore['medium'].value_counts()\n",
    "# could investigate cpc later for uplift"
   ]
  },
  {
   "cell_type": "code",
   "execution_count": 21,
   "metadata": {},
   "outputs": [
    {
     "data": {
      "text/plain": [
       "(not set)                                          865347\n",
       "Data Share Promo                                    16403\n",
       "AW - Dynamic Search Ads Whole Site                  14244\n",
       "AW - Accessories                                     7070\n",
       "test-liyuhz                                           392\n",
       "AW - Electronics                                       96\n",
       "Retail (DO NOT EDIT owners nophakun and tianyu)        50\n",
       "AW - Apparel                                           46\n",
       "All Products                                            4\n",
       "Data Share                                              1\n",
       "Name: campaign, dtype: int64"
      ]
     },
     "execution_count": 21,
     "metadata": {},
     "output_type": "execute_result"
    }
   ],
   "source": [
    "gstore['campaign'].value_counts()"
   ]
  },
  {
   "cell_type": "code",
   "execution_count": 22,
   "metadata": {},
   "outputs": [
    {
     "data": {
      "text/plain": [
       "11251kjhkvahf    1\n",
       "Name: campaignCode, dtype: int64"
      ]
     },
     "execution_count": 22,
     "metadata": {},
     "output_type": "execute_result"
    }
   ],
   "source": [
    "gstore['campaignCode'].value_counts()"
   ]
  },
  {
   "cell_type": "code",
   "execution_count": 25,
   "metadata": {},
   "outputs": [],
   "source": [
    "from sklearn.preprocessing import OneHotEncoder"
   ]
  },
  {
   "cell_type": "code",
   "execution_count": 26,
   "metadata": {},
   "outputs": [
    {
     "name": "stderr",
     "output_type": "stream",
     "text": [
      "/Users/aoluwolerotimi/anaconda3/lib/python3.10/site-packages/sklearn/preprocessing/_encoders.py:828: FutureWarning: `sparse` was renamed to `sparse_output` in version 1.2 and will be removed in 1.4. `sparse_output` is ignored unless you leave `sparse` to its default value.\n",
      "  warnings.warn(\n"
     ]
    }
   ],
   "source": [
    "# Step 1: Create the OneHotEncoder instance\n",
    "encoder = OneHotEncoder(sparse=False)\n",
    "\n",
    "# Step 2: Fit and transform the data\n",
    "channel_encoded = encoder.fit_transform(df1c[['channelGrouping']])\n",
    "\n",
    "# Step 3: Convert the numpy array back to a DataFrame\n",
    "channel_encoded_df = pd.DataFrame(channel_encoded, columns=encoder.get_feature_names_out(['channelGrouping']))\n",
    "\n",
    "# Step 4: Concatenate the new dataframe with the original dataframe minus the original 'channelGrouping' column\n",
    "df1c = pd.concat([df1c.drop('channelGrouping', axis=1), channel_encoded_df], axis=1)"
   ]
  },
  {
   "cell_type": "code",
   "execution_count": 28,
   "metadata": {},
   "outputs": [],
   "source": [
    "# df1c.columns"
   ]
  },
  {
   "cell_type": "code",
   "execution_count": 29,
   "metadata": {},
   "outputs": [],
   "source": [
    "cg = ['channelGrouping_(Other)', 'channelGrouping_Affiliates',\n",
    "       'channelGrouping_Direct', 'channelGrouping_Display',\n",
    "       'channelGrouping_Organic Search', 'channelGrouping_Paid Search',\n",
    "       'channelGrouping_Referral', 'channelGrouping_Social']"
   ]
  },
  {
   "cell_type": "code",
   "execution_count": 32,
   "metadata": {},
   "outputs": [],
   "source": [
    "df1train = df1train[['fullVisitorId']]"
   ]
  },
  {
   "cell_type": "code",
   "execution_count": 30,
   "metadata": {},
   "outputs": [],
   "source": [
    "# for column in cg:\n",
    "#     df1train[column] = pd.NA"
   ]
  },
  {
   "cell_type": "code",
   "execution_count": 33,
   "metadata": {},
   "outputs": [
    {
     "name": "stdout",
     "output_type": "stream",
     "text": [
      "              fullVisitorId  channelGrouping_(Other)  \\\n",
      "0       1131660440785968503                      0.0   \n",
      "1        377306020877927890                      0.0   \n",
      "2       3895546263509774583                      0.0   \n",
      "3       4763447161404445595                      0.0   \n",
      "4         27294437909732085                      0.0   \n",
      "...                     ...                      ...   \n",
      "299069  3118235170138318723                      0.0   \n",
      "299070  2900750270670203622                      0.0   \n",
      "299071  4821618326715417613                      0.0   \n",
      "299072  2720938310295703834                      0.0   \n",
      "299073   593617143165950851                      0.0   \n",
      "\n",
      "        channelGrouping_Affiliates  channelGrouping_Direct  \\\n",
      "0                              0.0                     0.0   \n",
      "1                              0.0                     0.0   \n",
      "2                              0.0                     0.0   \n",
      "3                              0.0                     0.0   \n",
      "4                              0.0                     0.0   \n",
      "...                            ...                     ...   \n",
      "299069                         0.0                     0.0   \n",
      "299070                         0.0                     0.0   \n",
      "299071                         0.0                     0.0   \n",
      "299072                         0.0                     0.0   \n",
      "299073                         0.0                     0.0   \n",
      "\n",
      "        channelGrouping_Display  channelGrouping_Organic Search  \\\n",
      "0                           0.0                             1.0   \n",
      "1                           0.0                             1.0   \n",
      "2                           0.0                             1.0   \n",
      "3                           0.0                             1.0   \n",
      "4                           0.0                             1.0   \n",
      "...                         ...                             ...   \n",
      "299069                      0.0                             0.0   \n",
      "299070                      0.0                             0.0   \n",
      "299071                      0.0                             0.0   \n",
      "299072                      0.0                             0.0   \n",
      "299073                      0.0                             0.0   \n",
      "\n",
      "        channelGrouping_Paid Search  channelGrouping_Referral  \\\n",
      "0                               0.0                       0.0   \n",
      "1                               0.0                       0.0   \n",
      "2                               0.0                       0.0   \n",
      "3                               0.0                       0.0   \n",
      "4                               0.0                       0.0   \n",
      "...                             ...                       ...   \n",
      "299069                          0.0                       0.0   \n",
      "299070                          0.0                       0.0   \n",
      "299071                          0.0                       0.0   \n",
      "299072                          0.0                       0.0   \n",
      "299073                          0.0                       0.0   \n",
      "\n",
      "        channelGrouping_Social  \n",
      "0                          0.0  \n",
      "1                          0.0  \n",
      "2                          0.0  \n",
      "3                          0.0  \n",
      "4                          0.0  \n",
      "...                        ...  \n",
      "299069                     0.0  \n",
      "299070                     0.0  \n",
      "299071                     0.0  \n",
      "299072                     0.0  \n",
      "299073                     0.0  \n",
      "\n",
      "[299074 rows x 9 columns]\n"
     ]
    }
   ],
   "source": [
    "# Step 1: Group by 'fullVisitorId' in df1c and sum the columns in cg\n",
    "grouped = df1c.groupby('fullVisitorId')[cg].sum()\n",
    "\n",
    "# Step 2: Merge this grouped data back into df1train\n",
    "df1train = df1train.merge(grouped, on='fullVisitorId', how='left')"
   ]
  },
  {
   "cell_type": "code",
   "execution_count": 34,
   "metadata": {},
   "outputs": [],
   "source": [
    "# Step 1: Count occurrences of each 'fullVisitorId' in df1c\n",
    "visitor_counts = df1c['fullVisitorId'].value_counts().reset_index()\n",
    "visitor_counts.columns = ['fullVisitorId', 'totalVisits']\n",
    "\n",
    "# Step 2: Merge this count DataFrame back into df1train\n",
    "df1train = df1train.merge(visitor_counts, on='fullVisitorId', how='left')"
   ]
  },
  {
   "cell_type": "code",
   "execution_count": 35,
   "metadata": {},
   "outputs": [],
   "source": [
    "# continue later\n",
    "# df1c.to_csv('df1c.csv', index=True)\n",
    "# df1train.to_csv('df1train.csv', index=True)"
   ]
  },
  {
   "cell_type": "markdown",
   "metadata": {},
   "source": [
    "* Channel grouping dummies then sum --> DONE\n",
    "* Count appearances of vistor id for total visits in period\n",
    "* First Continent, Suboncontinent, Country appearing\n",
    "* Device category dummies then summed\n",
    "* Sum of hits\n",
    "* Sum of pageviews\n",
    "* Flag for if new visitor in the period\n",
    "* Sum of transaction value in the period (might need to set nan to 0 first)\n",
    "* Source dummies then summed then PCA\n",
    "* Sum isTrueDirect\n",
    "* adWordsgclID sum not null \n",
    "* Sum campaign not null (set not set to null)"
   ]
  },
  {
   "cell_type": "markdown",
   "metadata": {},
   "source": []
  }
 ],
 "metadata": {
  "kernelspec": {
   "display_name": "base",
   "language": "python",
   "name": "python3"
  },
  "language_info": {
   "codemirror_mode": {
    "name": "ipython",
    "version": 3
   },
   "file_extension": ".py",
   "mimetype": "text/x-python",
   "name": "python",
   "nbconvert_exporter": "python",
   "pygments_lexer": "ipython3",
   "version": "3.10.9"
  }
 },
 "nbformat": 4,
 "nbformat_minor": 2
}
