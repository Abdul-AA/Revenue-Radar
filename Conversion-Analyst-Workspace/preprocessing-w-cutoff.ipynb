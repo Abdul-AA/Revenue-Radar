{
 "cells": [
  {
   "cell_type": "markdown",
   "metadata": {},
   "source": [
    "#### Core Premise\n",
    "We currently have a model that uses 8 months of training data to generate predictions. We would like to experiment to see if a version of the model which trains on 4 months of training data to predict conversion in the following 2 month period could be viable, so that the lead time to use is reduced.\n",
    "\n",
    "In production, this could be used in such a way that the list of users predicted to convert within those two months can be placed on a priority list for a limited discount-promotions budget* Meanwhile, the data for the next round of predictions is being collected. \n",
    "\n",
    "For the purpose of the experiment, the available data will be divided into 6-month blocks, with the first 4 months of each block constituting the data collection period and the last two months constitutiing the performance period in which the target is whether or not a conversion took place. Subsets of these collection period + performance period pairs will be used for the training set, validation set, and test set respectively.\n",
    "\n",
    "**Exploratory data analysis of relationship between adwords promotions & conversion was low, so a different type of nudge is suggested here*"
   ]
  },
  {
   "cell_type": "markdown",
   "metadata": {},
   "source": [
    "### Preprocessing with Cutoff Date"
   ]
  },
  {
   "cell_type": "code",
   "execution_count": 1,
   "metadata": {},
   "outputs": [],
   "source": [
    "import pandas as pd"
   ]
  },
  {
   "cell_type": "code",
   "execution_count": 2,
   "metadata": {},
   "outputs": [
    {
     "name": "stdout",
     "output_type": "stream",
     "text": [
      "Garbage Collection Enabled: True\n"
     ]
    }
   ],
   "source": [
    "import gc\n",
    "print(f\"Garbage Collection Enabled: {gc.isenabled()}\")"
   ]
  },
  {
   "cell_type": "code",
   "execution_count": 3,
   "metadata": {},
   "outputs": [
    {
     "name": "stderr",
     "output_type": "stream",
     "text": [
      "/var/folders/z1/1zds15w97_g7_fhs4_83dc3m0000gn/T/ipykernel_68147/3136096564.py:1: DtypeWarning: Columns (2,54) have mixed types. Specify dtype option on import or set low_memory=False.\n",
      "  gstore = pd.read_csv(\"/Users/aoluwolerotimi/Datasets/train_dejsonified.csv\")\n"
     ]
    }
   ],
   "source": [
    "gstore = pd.read_csv(\"/Users/aoluwolerotimi/Datasets/train_dejsonified.csv\")"
   ]
  },
  {
   "cell_type": "code",
   "execution_count": 4,
   "metadata": {},
   "outputs": [],
   "source": [
    "gstore['date'] = pd.to_datetime(gstore['date'], format='%Y%m%d').dt.strftime('%Y-%m-%d')"
   ]
  },
  {
   "cell_type": "code",
   "execution_count": 5,
   "metadata": {},
   "outputs": [
    {
     "name": "stdout",
     "output_type": "stream",
     "text": [
      "Earliest Date: 2016-08-01\n",
      "Latest Date: 2017-08-01\n"
     ]
    }
   ],
   "source": [
    "\n",
    "print(\"Earliest Date:\", (gstore['date']).min())\n",
    "print(\"Latest Date:\", (gstore['date']).max())"
   ]
  },
  {
   "cell_type": "markdown",
   "metadata": {},
   "source": [
    "6-month split is end of Feb 2017. First set will be beginning of August to end of Feb, second set will be beginning of March to beginning of August"
   ]
  },
  {
   "cell_type": "code",
   "execution_count": 6,
   "metadata": {},
   "outputs": [],
   "source": [
    "cutoff_date = pd.to_datetime('2017-02-28')"
   ]
  },
  {
   "cell_type": "code",
   "execution_count": 7,
   "metadata": {},
   "outputs": [
    {
     "name": "stdout",
     "output_type": "stream",
     "text": [
      "datetime64[ns]\n"
     ]
    }
   ],
   "source": [
    "\n",
    "gstore['date'] = pd.to_datetime(gstore['date'])\n",
    "print(gstore['date'].dtype)"
   ]
  },
  {
   "cell_type": "code",
   "execution_count": 8,
   "metadata": {},
   "outputs": [],
   "source": [
    "df1 = gstore.loc[gstore['date'] <= cutoff_date]\n",
    "# df2 = gstore.loc[gstore['date'] > cutoff_date]"
   ]
  },
  {
   "cell_type": "code",
   "execution_count": 45,
   "metadata": {},
   "outputs": [],
   "source": [
    "# deleting df2 until i need it for memory\n",
    "del df2"
   ]
  },
  {
   "cell_type": "code",
   "execution_count": 9,
   "metadata": {},
   "outputs": [
    {
     "name": "stdout",
     "output_type": "stream",
     "text": [
      "903653\n"
     ]
    }
   ],
   "source": [
    "print(df1.shape[0] + df2.shape[0])"
   ]
  },
  {
   "cell_type": "code",
   "execution_count": 10,
   "metadata": {},
   "outputs": [],
   "source": [
    "# data collection cutoff dates (4 months in)\n",
    "df1cutoff = pd.to_datetime('2016-11-30') \n",
    "df2cutoff = pd.to_datetime('2017-06-30')"
   ]
  },
  {
   "cell_type": "code",
   "execution_count": 11,
   "metadata": {},
   "outputs": [],
   "source": [
    "# df1.columns"
   ]
  },
  {
   "cell_type": "code",
   "execution_count": 17,
   "metadata": {},
   "outputs": [],
   "source": [
    "# set aside collection period and performance period data\n",
    "# df1p = df1.loc[df1['date'] > df1cutoff]  # performance\n",
    "df1p = df1.loc[df1['date'] > df1cutoff, ['date', 'fullVisitorId', 'transactionRevenue']]  # performance\n",
    "df1c = df1.loc[df1['date'] <= df1cutoff] # collection"
   ]
  },
  {
   "cell_type": "code",
   "execution_count": 13,
   "metadata": {},
   "outputs": [],
   "source": [
    "df1trainids = df1c['fullVisitorId'].unique().tolist() # getting list of IDs for which we will check conversion in performance period"
   ]
  },
  {
   "cell_type": "code",
   "execution_count": 14,
   "metadata": {},
   "outputs": [],
   "source": [
    "df1train = pd.DataFrame(df1trainids, columns=['fullVisitorId']) # beginnning construction of training dataframe"
   ]
  },
  {
   "cell_type": "code",
   "execution_count": 15,
   "metadata": {},
   "outputs": [],
   "source": [
    "# identified as variables which would not aid analysis in earlier stages of the project\n",
    "to_drop = ['socialEngagementType', 'networkDomain', 'latitude', 'longitude', 'networkLocation',\n",
    "       'browser', 'browserVersion', 'browserSize', 'operatingSystem',\n",
    "       'operatingSystemVersion', 'isMobile', 'mobileDeviceBranding',\n",
    "       'mobileDeviceModel', 'mobileInputSelector', 'mobileDeviceInfo',\n",
    "       'mobileDeviceMarketingName', 'flashVersion', 'language', 'screenColors',\n",
    "       'screenResolution', 'bounces', 'keyword', 'referralPath','campaignCode', 'campaign']"
   ]
  },
  {
   "cell_type": "code",
   "execution_count": 18,
   "metadata": {},
   "outputs": [
    {
     "name": "stderr",
     "output_type": "stream",
     "text": [
      "/var/folders/z1/1zds15w97_g7_fhs4_83dc3m0000gn/T/ipykernel_68147/1340032264.py:3: SettingWithCopyWarning: \n",
      "A value is trying to be set on a copy of a slice from a DataFrame\n",
      "\n",
      "See the caveats in the documentation: https://pandas.pydata.org/pandas-docs/stable/user_guide/indexing.html#returning-a-view-versus-a-copy\n",
      "  df1c.drop(col, axis=1, inplace = True)\n",
      "/var/folders/z1/1zds15w97_g7_fhs4_83dc3m0000gn/T/ipykernel_68147/1340032264.py:3: SettingWithCopyWarning: \n",
      "A value is trying to be set on a copy of a slice from a DataFrame\n",
      "\n",
      "See the caveats in the documentation: https://pandas.pydata.org/pandas-docs/stable/user_guide/indexing.html#returning-a-view-versus-a-copy\n",
      "  df1c.drop(col, axis=1, inplace = True)\n",
      "/var/folders/z1/1zds15w97_g7_fhs4_83dc3m0000gn/T/ipykernel_68147/1340032264.py:3: SettingWithCopyWarning: \n",
      "A value is trying to be set on a copy of a slice from a DataFrame\n",
      "\n",
      "See the caveats in the documentation: https://pandas.pydata.org/pandas-docs/stable/user_guide/indexing.html#returning-a-view-versus-a-copy\n",
      "  df1c.drop(col, axis=1, inplace = True)\n",
      "/var/folders/z1/1zds15w97_g7_fhs4_83dc3m0000gn/T/ipykernel_68147/1340032264.py:3: SettingWithCopyWarning: \n",
      "A value is trying to be set on a copy of a slice from a DataFrame\n",
      "\n",
      "See the caveats in the documentation: https://pandas.pydata.org/pandas-docs/stable/user_guide/indexing.html#returning-a-view-versus-a-copy\n",
      "  df1c.drop(col, axis=1, inplace = True)\n",
      "/var/folders/z1/1zds15w97_g7_fhs4_83dc3m0000gn/T/ipykernel_68147/1340032264.py:3: SettingWithCopyWarning: \n",
      "A value is trying to be set on a copy of a slice from a DataFrame\n",
      "\n",
      "See the caveats in the documentation: https://pandas.pydata.org/pandas-docs/stable/user_guide/indexing.html#returning-a-view-versus-a-copy\n",
      "  df1c.drop(col, axis=1, inplace = True)\n",
      "/var/folders/z1/1zds15w97_g7_fhs4_83dc3m0000gn/T/ipykernel_68147/1340032264.py:3: SettingWithCopyWarning: \n",
      "A value is trying to be set on a copy of a slice from a DataFrame\n",
      "\n",
      "See the caveats in the documentation: https://pandas.pydata.org/pandas-docs/stable/user_guide/indexing.html#returning-a-view-versus-a-copy\n",
      "  df1c.drop(col, axis=1, inplace = True)\n",
      "/var/folders/z1/1zds15w97_g7_fhs4_83dc3m0000gn/T/ipykernel_68147/1340032264.py:3: SettingWithCopyWarning: \n",
      "A value is trying to be set on a copy of a slice from a DataFrame\n",
      "\n",
      "See the caveats in the documentation: https://pandas.pydata.org/pandas-docs/stable/user_guide/indexing.html#returning-a-view-versus-a-copy\n",
      "  df1c.drop(col, axis=1, inplace = True)\n",
      "/var/folders/z1/1zds15w97_g7_fhs4_83dc3m0000gn/T/ipykernel_68147/1340032264.py:3: SettingWithCopyWarning: \n",
      "A value is trying to be set on a copy of a slice from a DataFrame\n",
      "\n",
      "See the caveats in the documentation: https://pandas.pydata.org/pandas-docs/stable/user_guide/indexing.html#returning-a-view-versus-a-copy\n",
      "  df1c.drop(col, axis=1, inplace = True)\n",
      "/var/folders/z1/1zds15w97_g7_fhs4_83dc3m0000gn/T/ipykernel_68147/1340032264.py:3: SettingWithCopyWarning: \n",
      "A value is trying to be set on a copy of a slice from a DataFrame\n",
      "\n",
      "See the caveats in the documentation: https://pandas.pydata.org/pandas-docs/stable/user_guide/indexing.html#returning-a-view-versus-a-copy\n",
      "  df1c.drop(col, axis=1, inplace = True)\n",
      "/var/folders/z1/1zds15w97_g7_fhs4_83dc3m0000gn/T/ipykernel_68147/1340032264.py:3: SettingWithCopyWarning: \n",
      "A value is trying to be set on a copy of a slice from a DataFrame\n",
      "\n",
      "See the caveats in the documentation: https://pandas.pydata.org/pandas-docs/stable/user_guide/indexing.html#returning-a-view-versus-a-copy\n",
      "  df1c.drop(col, axis=1, inplace = True)\n",
      "/var/folders/z1/1zds15w97_g7_fhs4_83dc3m0000gn/T/ipykernel_68147/1340032264.py:3: SettingWithCopyWarning: \n",
      "A value is trying to be set on a copy of a slice from a DataFrame\n",
      "\n",
      "See the caveats in the documentation: https://pandas.pydata.org/pandas-docs/stable/user_guide/indexing.html#returning-a-view-versus-a-copy\n",
      "  df1c.drop(col, axis=1, inplace = True)\n",
      "/var/folders/z1/1zds15w97_g7_fhs4_83dc3m0000gn/T/ipykernel_68147/1340032264.py:3: SettingWithCopyWarning: \n",
      "A value is trying to be set on a copy of a slice from a DataFrame\n",
      "\n",
      "See the caveats in the documentation: https://pandas.pydata.org/pandas-docs/stable/user_guide/indexing.html#returning-a-view-versus-a-copy\n",
      "  df1c.drop(col, axis=1, inplace = True)\n",
      "/var/folders/z1/1zds15w97_g7_fhs4_83dc3m0000gn/T/ipykernel_68147/1340032264.py:3: SettingWithCopyWarning: \n",
      "A value is trying to be set on a copy of a slice from a DataFrame\n",
      "\n",
      "See the caveats in the documentation: https://pandas.pydata.org/pandas-docs/stable/user_guide/indexing.html#returning-a-view-versus-a-copy\n",
      "  df1c.drop(col, axis=1, inplace = True)\n",
      "/var/folders/z1/1zds15w97_g7_fhs4_83dc3m0000gn/T/ipykernel_68147/1340032264.py:3: SettingWithCopyWarning: \n",
      "A value is trying to be set on a copy of a slice from a DataFrame\n",
      "\n",
      "See the caveats in the documentation: https://pandas.pydata.org/pandas-docs/stable/user_guide/indexing.html#returning-a-view-versus-a-copy\n",
      "  df1c.drop(col, axis=1, inplace = True)\n",
      "/var/folders/z1/1zds15w97_g7_fhs4_83dc3m0000gn/T/ipykernel_68147/1340032264.py:3: SettingWithCopyWarning: \n",
      "A value is trying to be set on a copy of a slice from a DataFrame\n",
      "\n",
      "See the caveats in the documentation: https://pandas.pydata.org/pandas-docs/stable/user_guide/indexing.html#returning-a-view-versus-a-copy\n",
      "  df1c.drop(col, axis=1, inplace = True)\n",
      "/var/folders/z1/1zds15w97_g7_fhs4_83dc3m0000gn/T/ipykernel_68147/1340032264.py:3: SettingWithCopyWarning: \n",
      "A value is trying to be set on a copy of a slice from a DataFrame\n",
      "\n",
      "See the caveats in the documentation: https://pandas.pydata.org/pandas-docs/stable/user_guide/indexing.html#returning-a-view-versus-a-copy\n",
      "  df1c.drop(col, axis=1, inplace = True)\n",
      "/var/folders/z1/1zds15w97_g7_fhs4_83dc3m0000gn/T/ipykernel_68147/1340032264.py:3: SettingWithCopyWarning: \n",
      "A value is trying to be set on a copy of a slice from a DataFrame\n",
      "\n",
      "See the caveats in the documentation: https://pandas.pydata.org/pandas-docs/stable/user_guide/indexing.html#returning-a-view-versus-a-copy\n",
      "  df1c.drop(col, axis=1, inplace = True)\n",
      "/var/folders/z1/1zds15w97_g7_fhs4_83dc3m0000gn/T/ipykernel_68147/1340032264.py:3: SettingWithCopyWarning: \n",
      "A value is trying to be set on a copy of a slice from a DataFrame\n",
      "\n",
      "See the caveats in the documentation: https://pandas.pydata.org/pandas-docs/stable/user_guide/indexing.html#returning-a-view-versus-a-copy\n",
      "  df1c.drop(col, axis=1, inplace = True)\n",
      "/var/folders/z1/1zds15w97_g7_fhs4_83dc3m0000gn/T/ipykernel_68147/1340032264.py:3: SettingWithCopyWarning: \n",
      "A value is trying to be set on a copy of a slice from a DataFrame\n",
      "\n",
      "See the caveats in the documentation: https://pandas.pydata.org/pandas-docs/stable/user_guide/indexing.html#returning-a-view-versus-a-copy\n",
      "  df1c.drop(col, axis=1, inplace = True)\n",
      "/var/folders/z1/1zds15w97_g7_fhs4_83dc3m0000gn/T/ipykernel_68147/1340032264.py:3: SettingWithCopyWarning: \n",
      "A value is trying to be set on a copy of a slice from a DataFrame\n",
      "\n",
      "See the caveats in the documentation: https://pandas.pydata.org/pandas-docs/stable/user_guide/indexing.html#returning-a-view-versus-a-copy\n",
      "  df1c.drop(col, axis=1, inplace = True)\n",
      "/var/folders/z1/1zds15w97_g7_fhs4_83dc3m0000gn/T/ipykernel_68147/1340032264.py:3: SettingWithCopyWarning: \n",
      "A value is trying to be set on a copy of a slice from a DataFrame\n",
      "\n",
      "See the caveats in the documentation: https://pandas.pydata.org/pandas-docs/stable/user_guide/indexing.html#returning-a-view-versus-a-copy\n",
      "  df1c.drop(col, axis=1, inplace = True)\n",
      "/var/folders/z1/1zds15w97_g7_fhs4_83dc3m0000gn/T/ipykernel_68147/1340032264.py:3: SettingWithCopyWarning: \n",
      "A value is trying to be set on a copy of a slice from a DataFrame\n",
      "\n",
      "See the caveats in the documentation: https://pandas.pydata.org/pandas-docs/stable/user_guide/indexing.html#returning-a-view-versus-a-copy\n",
      "  df1c.drop(col, axis=1, inplace = True)\n",
      "/var/folders/z1/1zds15w97_g7_fhs4_83dc3m0000gn/T/ipykernel_68147/1340032264.py:3: SettingWithCopyWarning: \n",
      "A value is trying to be set on a copy of a slice from a DataFrame\n",
      "\n",
      "See the caveats in the documentation: https://pandas.pydata.org/pandas-docs/stable/user_guide/indexing.html#returning-a-view-versus-a-copy\n",
      "  df1c.drop(col, axis=1, inplace = True)\n",
      "/var/folders/z1/1zds15w97_g7_fhs4_83dc3m0000gn/T/ipykernel_68147/1340032264.py:3: SettingWithCopyWarning: \n",
      "A value is trying to be set on a copy of a slice from a DataFrame\n",
      "\n",
      "See the caveats in the documentation: https://pandas.pydata.org/pandas-docs/stable/user_guide/indexing.html#returning-a-view-versus-a-copy\n",
      "  df1c.drop(col, axis=1, inplace = True)\n",
      "/var/folders/z1/1zds15w97_g7_fhs4_83dc3m0000gn/T/ipykernel_68147/1340032264.py:3: SettingWithCopyWarning: \n",
      "A value is trying to be set on a copy of a slice from a DataFrame\n",
      "\n",
      "See the caveats in the documentation: https://pandas.pydata.org/pandas-docs/stable/user_guide/indexing.html#returning-a-view-versus-a-copy\n",
      "  df1c.drop(col, axis=1, inplace = True)\n"
     ]
    }
   ],
   "source": [
    "for col in to_drop:\n",
    "    if col in df1c.columns:\n",
    "        df1c.drop(col, axis=1, inplace = True)"
   ]
  },
  {
   "cell_type": "code",
   "execution_count": 19,
   "metadata": {},
   "outputs": [],
   "source": [
    "# create label for conversion in performance period\n",
    "\n",
    "# Step 1: Create a Boolean Series where True represents a non-null transactionRevenue\n",
    "converted_visitors = df1p['transactionRevenue'].notnull()\n",
    "\n",
    "# Step 2: Group by 'fullVisitorId' in df1p and check if any transactionRevenue entries are not null\n",
    "conversion_status = df1p[converted_visitors].groupby('fullVisitorId').size() > 0\n",
    "\n",
    "# Step 3: Map the conversion status back to df1c to create the 'targetConversion' column\n",
    "df1train['targetConversion'] = df1train['fullVisitorId'].map(conversion_status).fillna(0).astype(int)\n"
   ]
  },
  {
   "cell_type": "code",
   "execution_count": 36,
   "metadata": {},
   "outputs": [],
   "source": [
    "# turning it into a function to reuse\n",
    "def conv_label(performance_df, groupby_col, result_df):\n",
    "    \"\"\"\n",
    "    Creates a 'targetConversion' column in the result DataFrame based on conversion data from the performance DataFrame.\n",
    "    \n",
    "    Parameters:\n",
    "        performance_df (pd.DataFrame): DataFrame containing performance data, including 'transactionRevenue'.\n",
    "        groupby_col (str): Column name to group by, typically 'fullVisitorId'.\n",
    "        result_df (pd.DataFrame): DataFrame to which the 'targetConversion' results will be added.\n",
    "        \n",
    "    Returns:\n",
    "        pd.DataFrame: The modified result DataFrame with a new 'targetConversion' column.\n",
    "    \"\"\"\n",
    "    # Step 1: Create a Boolean Series where True represents a non-null transactionRevenue\n",
    "    converted_visitors = performance_df['transactionRevenue'].notnull()\n",
    "\n",
    "    # Step 2: Group by the specified column in performance_df and check if any transactionRevenue entries are not null\n",
    "    conversion_status = performance_df[converted_visitors].groupby(groupby_col).size() > 0\n",
    "\n",
    "    # Step 3: Map the conversion status back to the result DataFrame to create the 'targetConversion' column\n",
    "    result_df['targetConversion'] = result_df[groupby_col].map(conversion_status).fillna(0).astype(int)\n",
    "\n",
    "    return result_df"
   ]
  },
  {
   "cell_type": "code",
   "execution_count": 20,
   "metadata": {},
   "outputs": [
    {
     "data": {
      "text/plain": [
       "409"
      ]
     },
     "execution_count": 20,
     "metadata": {},
     "output_type": "execute_result"
    }
   ],
   "source": [
    "sum(df1train['targetConversion'])"
   ]
  },
  {
   "cell_type": "code",
   "execution_count": 21,
   "metadata": {},
   "outputs": [],
   "source": [
    "# creating column for if user visited for first time in collection period\n",
    "firstime_visitors = df1c['newVisits'].notnull()\n",
    "firstime_status = df1c[firstime_visitors].groupby('fullVisitorId').size() > 0\n",
    "df1train['newVisits'] = df1train['fullVisitorId'].map(firstime_status).fillna(0).astype(int)"
   ]
  },
  {
   "cell_type": "code",
   "execution_count": 38,
   "metadata": {},
   "outputs": [],
   "source": [
    "columns_to_encode = ['channelGrouping', 'deviceCategory', 'source']\n",
    "df1c = pd.get_dummies(df1c, columns=columns_to_encode)"
   ]
  },
  {
   "cell_type": "code",
   "execution_count": 30,
   "metadata": {},
   "outputs": [
    {
     "data": {
      "text/plain": [
       "Index(['date', 'fullVisitorId', 'sessionId', 'visitId', 'visitNumber',\n",
       "       'visitStartTime', 'continent', 'subContinent', 'country', 'region',\n",
       "       ...\n",
       "       'source_wanelo.com', 'source_wap.sogou.com', 'source_web.facebook.com',\n",
       "       'source_web.mail.comcast.net', 'source_web.telegram.org',\n",
       "       'source_wheretoget.it', 'source_xbidprodmirror.corp.google.com',\n",
       "       'source_yahoo', 'source_yandex', 'source_youtube.com'],\n",
       "      dtype='object', length=263)"
      ]
     },
     "execution_count": 30,
     "metadata": {},
     "output_type": "execute_result"
    }
   ],
   "source": [
    "df1c.columns"
   ]
  },
  {
   "cell_type": "code",
   "execution_count": 39,
   "metadata": {},
   "outputs": [],
   "source": [
    "agg_dict = {\n",
    "    'country': 'first',\n",
    "    'continent': 'first',\n",
    "    'subContinent': 'first',\n",
    "    'transactionRevenue': 'sum',\n",
    "    'pageviews': 'sum',\n",
    "    'isTrueDirect': 'sum'\n",
    "\n",
    "}"
   ]
  },
  {
   "cell_type": "code",
   "execution_count": 40,
   "metadata": {},
   "outputs": [],
   "source": [
    "dummy_columns = [col for col in df1c.columns if '_' in col]"
   ]
  },
  {
   "cell_type": "code",
   "execution_count": 41,
   "metadata": {},
   "outputs": [],
   "source": [
    "for dummy_col in dummy_columns:\n",
    "    agg_dict[dummy_col] = 'sum'"
   ]
  },
  {
   "cell_type": "code",
   "execution_count": 42,
   "metadata": {},
   "outputs": [
    {
     "name": "stdout",
     "output_type": "stream",
     "text": [
      "[]\n"
     ]
    }
   ],
   "source": [
    "# making sure columns match\n",
    "incorrect_cols = [key for key in agg_dict if key not in df1c.columns]\n",
    "print(incorrect_cols)\n"
   ]
  },
  {
   "cell_type": "code",
   "execution_count": 43,
   "metadata": {},
   "outputs": [],
   "source": [
    "df1c['isTrueDirect'] = df1c['isTrueDirect'].fillna(False).astype(int)"
   ]
  },
  {
   "cell_type": "code",
   "execution_count": 44,
   "metadata": {},
   "outputs": [
    {
     "data": {
      "text/plain": [
       "0    270015\n",
       "1     87254\n",
       "Name: isTrueDirect, dtype: int64"
      ]
     },
     "execution_count": 44,
     "metadata": {},
     "output_type": "execute_result"
    }
   ],
   "source": [
    "df1c['isTrueDirect'].value_counts()"
   ]
  },
  {
   "cell_type": "code",
   "execution_count": 46,
   "metadata": {},
   "outputs": [],
   "source": [
    "useragg = df1c.groupby('fullVisitorId').agg(agg_dict)"
   ]
  },
  {
   "cell_type": "code",
   "execution_count": 47,
   "metadata": {},
   "outputs": [],
   "source": [
    "useragg.reset_index(inplace=True)"
   ]
  },
  {
   "cell_type": "code",
   "execution_count": 22,
   "metadata": {},
   "outputs": [],
   "source": [
    "aggregations = {\n",
    "    # Count how many times each visitor appears\n",
    "    'fullVisitorId': 'count',\n",
    "    # Count non-null records for transactionRevenue\n",
    "    'transactionRevenue': lambda x: x.notnull().sum(),\n",
    "    # Count rows where adwordsClickInfo.gclId is populated\n",
    "    'adwordsClickInfo.gclId': lambda x: x.notnull().sum()\n",
    "}"
   ]
  },
  {
   "cell_type": "code",
   "execution_count": 24,
   "metadata": {},
   "outputs": [],
   "source": [
    "visitor_counts = df1c.groupby('fullVisitorId').agg(aggregations)"
   ]
  },
  {
   "cell_type": "code",
   "execution_count": 25,
   "metadata": {},
   "outputs": [],
   "source": [
    "visitor_counts.columns = ['visits', 'conversions', 'adVisits']"
   ]
  },
  {
   "cell_type": "code",
   "execution_count": 26,
   "metadata": {},
   "outputs": [
    {
     "data": {
      "text/html": [
       "<div>\n",
       "<style scoped>\n",
       "    .dataframe tbody tr th:only-of-type {\n",
       "        vertical-align: middle;\n",
       "    }\n",
       "\n",
       "    .dataframe tbody tr th {\n",
       "        vertical-align: top;\n",
       "    }\n",
       "\n",
       "    .dataframe thead th {\n",
       "        text-align: right;\n",
       "    }\n",
       "</style>\n",
       "<table border=\"1\" class=\"dataframe\">\n",
       "  <thead>\n",
       "    <tr style=\"text-align: right;\">\n",
       "      <th></th>\n",
       "      <th>visits</th>\n",
       "      <th>conversions</th>\n",
       "      <th>adVisits</th>\n",
       "    </tr>\n",
       "    <tr>\n",
       "      <th>fullVisitorId</th>\n",
       "      <th></th>\n",
       "      <th></th>\n",
       "      <th></th>\n",
       "    </tr>\n",
       "  </thead>\n",
       "  <tbody>\n",
       "    <tr>\n",
       "      <th>4823595352351</th>\n",
       "      <td>1</td>\n",
       "      <td>0</td>\n",
       "      <td>0</td>\n",
       "    </tr>\n",
       "    <tr>\n",
       "      <th>5103959234087</th>\n",
       "      <td>1</td>\n",
       "      <td>0</td>\n",
       "      <td>0</td>\n",
       "    </tr>\n",
       "    <tr>\n",
       "      <th>10278554503158</th>\n",
       "      <td>1</td>\n",
       "      <td>0</td>\n",
       "      <td>0</td>\n",
       "    </tr>\n",
       "    <tr>\n",
       "      <th>20424342248747</th>\n",
       "      <td>1</td>\n",
       "      <td>0</td>\n",
       "      <td>0</td>\n",
       "    </tr>\n",
       "    <tr>\n",
       "      <th>33471059618621</th>\n",
       "      <td>1</td>\n",
       "      <td>0</td>\n",
       "      <td>0</td>\n",
       "    </tr>\n",
       "  </tbody>\n",
       "</table>\n",
       "</div>"
      ],
      "text/plain": [
       "                visits  conversions  adVisits\n",
       "fullVisitorId                                \n",
       "4823595352351        1            0         0\n",
       "5103959234087        1            0         0\n",
       "10278554503158       1            0         0\n",
       "20424342248747       1            0         0\n",
       "33471059618621       1            0         0"
      ]
     },
     "execution_count": 26,
     "metadata": {},
     "output_type": "execute_result"
    }
   ],
   "source": [
    "visitor_counts.head()"
   ]
  },
  {
   "cell_type": "code",
   "execution_count": 27,
   "metadata": {},
   "outputs": [],
   "source": [
    "visitor_counts.reset_index(inplace=True)"
   ]
  },
  {
   "cell_type": "code",
   "execution_count": 28,
   "metadata": {},
   "outputs": [
    {
     "data": {
      "text/html": [
       "<div>\n",
       "<style scoped>\n",
       "    .dataframe tbody tr th:only-of-type {\n",
       "        vertical-align: middle;\n",
       "    }\n",
       "\n",
       "    .dataframe tbody tr th {\n",
       "        vertical-align: top;\n",
       "    }\n",
       "\n",
       "    .dataframe thead th {\n",
       "        text-align: right;\n",
       "    }\n",
       "</style>\n",
       "<table border=\"1\" class=\"dataframe\">\n",
       "  <thead>\n",
       "    <tr style=\"text-align: right;\">\n",
       "      <th></th>\n",
       "      <th>fullVisitorId</th>\n",
       "      <th>visits</th>\n",
       "      <th>conversions</th>\n",
       "      <th>adVisits</th>\n",
       "    </tr>\n",
       "  </thead>\n",
       "  <tbody>\n",
       "    <tr>\n",
       "      <th>0</th>\n",
       "      <td>4823595352351</td>\n",
       "      <td>1</td>\n",
       "      <td>0</td>\n",
       "      <td>0</td>\n",
       "    </tr>\n",
       "    <tr>\n",
       "      <th>1</th>\n",
       "      <td>5103959234087</td>\n",
       "      <td>1</td>\n",
       "      <td>0</td>\n",
       "      <td>0</td>\n",
       "    </tr>\n",
       "    <tr>\n",
       "      <th>2</th>\n",
       "      <td>10278554503158</td>\n",
       "      <td>1</td>\n",
       "      <td>0</td>\n",
       "      <td>0</td>\n",
       "    </tr>\n",
       "    <tr>\n",
       "      <th>3</th>\n",
       "      <td>20424342248747</td>\n",
       "      <td>1</td>\n",
       "      <td>0</td>\n",
       "      <td>0</td>\n",
       "    </tr>\n",
       "    <tr>\n",
       "      <th>4</th>\n",
       "      <td>33471059618621</td>\n",
       "      <td>1</td>\n",
       "      <td>0</td>\n",
       "      <td>0</td>\n",
       "    </tr>\n",
       "  </tbody>\n",
       "</table>\n",
       "</div>"
      ],
      "text/plain": [
       "    fullVisitorId  visits  conversions  adVisits\n",
       "0   4823595352351       1            0         0\n",
       "1   5103959234087       1            0         0\n",
       "2  10278554503158       1            0         0\n",
       "3  20424342248747       1            0         0\n",
       "4  33471059618621       1            0         0"
      ]
     },
     "execution_count": 28,
     "metadata": {},
     "output_type": "execute_result"
    }
   ],
   "source": [
    "visitor_counts.head()"
   ]
  },
  {
   "cell_type": "code",
   "execution_count": 30,
   "metadata": {},
   "outputs": [],
   "source": [
    "df1train = df1train.merge(visitor_counts, on='fullVisitorId', how='left')"
   ]
  },
  {
   "cell_type": "code",
   "execution_count": 31,
   "metadata": {},
   "outputs": [
    {
     "data": {
      "text/html": [
       "<div>\n",
       "<style scoped>\n",
       "    .dataframe tbody tr th:only-of-type {\n",
       "        vertical-align: middle;\n",
       "    }\n",
       "\n",
       "    .dataframe tbody tr th {\n",
       "        vertical-align: top;\n",
       "    }\n",
       "\n",
       "    .dataframe thead th {\n",
       "        text-align: right;\n",
       "    }\n",
       "</style>\n",
       "<table border=\"1\" class=\"dataframe\">\n",
       "  <thead>\n",
       "    <tr style=\"text-align: right;\">\n",
       "      <th></th>\n",
       "      <th>fullVisitorId</th>\n",
       "      <th>targetConversion</th>\n",
       "      <th>newVisits</th>\n",
       "      <th>visits</th>\n",
       "      <th>conversions</th>\n",
       "      <th>adVisits</th>\n",
       "    </tr>\n",
       "  </thead>\n",
       "  <tbody>\n",
       "    <tr>\n",
       "      <th>0</th>\n",
       "      <td>1131660440785968503</td>\n",
       "      <td>0</td>\n",
       "      <td>1</td>\n",
       "      <td>1</td>\n",
       "      <td>0</td>\n",
       "      <td>0</td>\n",
       "    </tr>\n",
       "    <tr>\n",
       "      <th>1</th>\n",
       "      <td>377306020877927890</td>\n",
       "      <td>0</td>\n",
       "      <td>1</td>\n",
       "      <td>1</td>\n",
       "      <td>0</td>\n",
       "      <td>0</td>\n",
       "    </tr>\n",
       "    <tr>\n",
       "      <th>2</th>\n",
       "      <td>3895546263509774583</td>\n",
       "      <td>0</td>\n",
       "      <td>1</td>\n",
       "      <td>1</td>\n",
       "      <td>0</td>\n",
       "      <td>0</td>\n",
       "    </tr>\n",
       "    <tr>\n",
       "      <th>3</th>\n",
       "      <td>4763447161404445595</td>\n",
       "      <td>0</td>\n",
       "      <td>1</td>\n",
       "      <td>1</td>\n",
       "      <td>0</td>\n",
       "      <td>0</td>\n",
       "    </tr>\n",
       "    <tr>\n",
       "      <th>4</th>\n",
       "      <td>27294437909732085</td>\n",
       "      <td>0</td>\n",
       "      <td>1</td>\n",
       "      <td>2</td>\n",
       "      <td>0</td>\n",
       "      <td>0</td>\n",
       "    </tr>\n",
       "  </tbody>\n",
       "</table>\n",
       "</div>"
      ],
      "text/plain": [
       "         fullVisitorId  targetConversion  newVisits  visits  conversions  \\\n",
       "0  1131660440785968503                 0          1       1            0   \n",
       "1   377306020877927890                 0          1       1            0   \n",
       "2  3895546263509774583                 0          1       1            0   \n",
       "3  4763447161404445595                 0          1       1            0   \n",
       "4    27294437909732085                 0          1       2            0   \n",
       "\n",
       "   adVisits  \n",
       "0         0  \n",
       "1         0  \n",
       "2         0  \n",
       "3         0  \n",
       "4         0  "
      ]
     },
     "execution_count": 31,
     "metadata": {},
     "output_type": "execute_result"
    }
   ],
   "source": [
    "df1train.head()"
   ]
  },
  {
   "cell_type": "code",
   "execution_count": 48,
   "metadata": {},
   "outputs": [],
   "source": [
    "df1train = df1train.merge(useragg, on='fullVisitorId', how='left')"
   ]
  },
  {
   "cell_type": "code",
   "execution_count": 49,
   "metadata": {},
   "outputs": [
    {
     "data": {
      "text/html": [
       "<div>\n",
       "<style scoped>\n",
       "    .dataframe tbody tr th:only-of-type {\n",
       "        vertical-align: middle;\n",
       "    }\n",
       "\n",
       "    .dataframe tbody tr th {\n",
       "        vertical-align: top;\n",
       "    }\n",
       "\n",
       "    .dataframe thead th {\n",
       "        text-align: right;\n",
       "    }\n",
       "</style>\n",
       "<table border=\"1\" class=\"dataframe\">\n",
       "  <thead>\n",
       "    <tr style=\"text-align: right;\">\n",
       "      <th></th>\n",
       "      <th>fullVisitorId</th>\n",
       "      <th>targetConversion</th>\n",
       "      <th>newVisits</th>\n",
       "      <th>visits</th>\n",
       "      <th>conversions</th>\n",
       "      <th>adVisits</th>\n",
       "      <th>country</th>\n",
       "      <th>continent</th>\n",
       "      <th>subContinent</th>\n",
       "      <th>transactionRevenue</th>\n",
       "      <th>...</th>\n",
       "      <th>source_wanelo.com</th>\n",
       "      <th>source_wap.sogou.com</th>\n",
       "      <th>source_web.facebook.com</th>\n",
       "      <th>source_web.mail.comcast.net</th>\n",
       "      <th>source_web.telegram.org</th>\n",
       "      <th>source_wheretoget.it</th>\n",
       "      <th>source_xbidprodmirror.corp.google.com</th>\n",
       "      <th>source_yahoo</th>\n",
       "      <th>source_yandex</th>\n",
       "      <th>source_youtube.com</th>\n",
       "    </tr>\n",
       "  </thead>\n",
       "  <tbody>\n",
       "    <tr>\n",
       "      <th>0</th>\n",
       "      <td>1131660440785968503</td>\n",
       "      <td>0</td>\n",
       "      <td>1</td>\n",
       "      <td>1</td>\n",
       "      <td>0</td>\n",
       "      <td>0</td>\n",
       "      <td>Turkey</td>\n",
       "      <td>Asia</td>\n",
       "      <td>Western Asia</td>\n",
       "      <td>0.0</td>\n",
       "      <td>...</td>\n",
       "      <td>0</td>\n",
       "      <td>0</td>\n",
       "      <td>0</td>\n",
       "      <td>0</td>\n",
       "      <td>0</td>\n",
       "      <td>0</td>\n",
       "      <td>0</td>\n",
       "      <td>0</td>\n",
       "      <td>0</td>\n",
       "      <td>0</td>\n",
       "    </tr>\n",
       "    <tr>\n",
       "      <th>1</th>\n",
       "      <td>377306020877927890</td>\n",
       "      <td>0</td>\n",
       "      <td>1</td>\n",
       "      <td>1</td>\n",
       "      <td>0</td>\n",
       "      <td>0</td>\n",
       "      <td>Australia</td>\n",
       "      <td>Oceania</td>\n",
       "      <td>Australasia</td>\n",
       "      <td>0.0</td>\n",
       "      <td>...</td>\n",
       "      <td>0</td>\n",
       "      <td>0</td>\n",
       "      <td>0</td>\n",
       "      <td>0</td>\n",
       "      <td>0</td>\n",
       "      <td>0</td>\n",
       "      <td>0</td>\n",
       "      <td>0</td>\n",
       "      <td>0</td>\n",
       "      <td>0</td>\n",
       "    </tr>\n",
       "    <tr>\n",
       "      <th>2</th>\n",
       "      <td>3895546263509774583</td>\n",
       "      <td>0</td>\n",
       "      <td>1</td>\n",
       "      <td>1</td>\n",
       "      <td>0</td>\n",
       "      <td>0</td>\n",
       "      <td>Spain</td>\n",
       "      <td>Europe</td>\n",
       "      <td>Southern Europe</td>\n",
       "      <td>0.0</td>\n",
       "      <td>...</td>\n",
       "      <td>0</td>\n",
       "      <td>0</td>\n",
       "      <td>0</td>\n",
       "      <td>0</td>\n",
       "      <td>0</td>\n",
       "      <td>0</td>\n",
       "      <td>0</td>\n",
       "      <td>0</td>\n",
       "      <td>0</td>\n",
       "      <td>0</td>\n",
       "    </tr>\n",
       "    <tr>\n",
       "      <th>3</th>\n",
       "      <td>4763447161404445595</td>\n",
       "      <td>0</td>\n",
       "      <td>1</td>\n",
       "      <td>1</td>\n",
       "      <td>0</td>\n",
       "      <td>0</td>\n",
       "      <td>Indonesia</td>\n",
       "      <td>Asia</td>\n",
       "      <td>Southeast Asia</td>\n",
       "      <td>0.0</td>\n",
       "      <td>...</td>\n",
       "      <td>0</td>\n",
       "      <td>0</td>\n",
       "      <td>0</td>\n",
       "      <td>0</td>\n",
       "      <td>0</td>\n",
       "      <td>0</td>\n",
       "      <td>0</td>\n",
       "      <td>0</td>\n",
       "      <td>0</td>\n",
       "      <td>0</td>\n",
       "    </tr>\n",
       "    <tr>\n",
       "      <th>4</th>\n",
       "      <td>27294437909732085</td>\n",
       "      <td>0</td>\n",
       "      <td>1</td>\n",
       "      <td>2</td>\n",
       "      <td>0</td>\n",
       "      <td>0</td>\n",
       "      <td>United Kingdom</td>\n",
       "      <td>Europe</td>\n",
       "      <td>Northern Europe</td>\n",
       "      <td>0.0</td>\n",
       "      <td>...</td>\n",
       "      <td>0</td>\n",
       "      <td>0</td>\n",
       "      <td>0</td>\n",
       "      <td>0</td>\n",
       "      <td>0</td>\n",
       "      <td>0</td>\n",
       "      <td>0</td>\n",
       "      <td>0</td>\n",
       "      <td>0</td>\n",
       "      <td>0</td>\n",
       "    </tr>\n",
       "  </tbody>\n",
       "</table>\n",
       "<p>5 rows × 247 columns</p>\n",
       "</div>"
      ],
      "text/plain": [
       "         fullVisitorId  targetConversion  newVisits  visits  conversions  \\\n",
       "0  1131660440785968503                 0          1       1            0   \n",
       "1   377306020877927890                 0          1       1            0   \n",
       "2  3895546263509774583                 0          1       1            0   \n",
       "3  4763447161404445595                 0          1       1            0   \n",
       "4    27294437909732085                 0          1       2            0   \n",
       "\n",
       "   adVisits         country continent     subContinent  transactionRevenue  \\\n",
       "0         0          Turkey      Asia     Western Asia                 0.0   \n",
       "1         0       Australia   Oceania      Australasia                 0.0   \n",
       "2         0           Spain    Europe  Southern Europe                 0.0   \n",
       "3         0       Indonesia      Asia   Southeast Asia                 0.0   \n",
       "4         0  United Kingdom    Europe  Northern Europe                 0.0   \n",
       "\n",
       "   ...  source_wanelo.com  source_wap.sogou.com  source_web.facebook.com  \\\n",
       "0  ...                  0                     0                        0   \n",
       "1  ...                  0                     0                        0   \n",
       "2  ...                  0                     0                        0   \n",
       "3  ...                  0                     0                        0   \n",
       "4  ...                  0                     0                        0   \n",
       "\n",
       "   source_web.mail.comcast.net  source_web.telegram.org  source_wheretoget.it  \\\n",
       "0                            0                        0                     0   \n",
       "1                            0                        0                     0   \n",
       "2                            0                        0                     0   \n",
       "3                            0                        0                     0   \n",
       "4                            0                        0                     0   \n",
       "\n",
       "   source_xbidprodmirror.corp.google.com  source_yahoo  source_yandex  \\\n",
       "0                                      0             0              0   \n",
       "1                                      0             0              0   \n",
       "2                                      0             0              0   \n",
       "3                                      0             0              0   \n",
       "4                                      0             0              0   \n",
       "\n",
       "   source_youtube.com  \n",
       "0                   0  \n",
       "1                   0  \n",
       "2                   0  \n",
       "3                   0  \n",
       "4                   0  \n",
       "\n",
       "[5 rows x 247 columns]"
      ]
     },
     "execution_count": 49,
     "metadata": {},
     "output_type": "execute_result"
    }
   ],
   "source": [
    "df1train.head()"
   ]
  },
  {
   "cell_type": "code",
   "execution_count": 50,
   "metadata": {},
   "outputs": [],
   "source": [
    "# save to csv before this kernel crashes\n",
    "df1train.to_csv('df1train2.csv', index=True)"
   ]
  },
  {
   "cell_type": "markdown",
   "metadata": {},
   "source": [
    "* Channel grouping dummies then sum --> DONE\n",
    "* Count appearances of vistor id for total visits in period\n",
    "* First Continent, Suboncontinent, Country appearing\n",
    "* Device category dummies then summed\n",
    "* Sum of hits\n",
    "* Sum of pageviews\n",
    "* Flag for if new visitor in the period\n",
    "* Sum of transaction value in the period (might need to set nan to 0 first)\n",
    "* Source dummies then summed then PCA\n",
    "* Sum isTrueDirect\n",
    "* adWordsgclID sum not null \n",
    "* Sum campaign not null (set not set to null)"
   ]
  },
  {
   "cell_type": "markdown",
   "metadata": {},
   "source": []
  }
 ],
 "metadata": {
  "kernelspec": {
   "display_name": "base",
   "language": "python",
   "name": "python3"
  },
  "language_info": {
   "codemirror_mode": {
    "name": "ipython",
    "version": 3
   },
   "file_extension": ".py",
   "mimetype": "text/x-python",
   "name": "python",
   "nbconvert_exporter": "python",
   "pygments_lexer": "ipython3",
   "version": "3.10.9"
  }
 },
 "nbformat": 4,
 "nbformat_minor": 2
}
