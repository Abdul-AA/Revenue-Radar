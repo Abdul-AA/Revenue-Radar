{
 "cells": [
  {
   "cell_type": "markdown",
   "metadata": {},
   "source": [
    "## Data Exploration for Conversion Use Case Framing\n",
    "While in-depth EDA was performed by the data analyst and shared with the broader team, some data exploration was also used to support framing of the conversion use case."
   ]
  },
  {
   "cell_type": "code",
   "execution_count": 1,
   "metadata": {},
   "outputs": [],
   "source": [
    "import pandas as pd"
   ]
  },
  {
   "cell_type": "code",
   "execution_count": 9,
   "metadata": {},
   "outputs": [
    {
     "name": "stderr",
     "output_type": "stream",
     "text": [
      "/Users/aoluwolerotimi/anaconda3/lib/python3.10/site-packages/tqdm/auto.py:22: TqdmWarning: IProgress not found. Please update jupyter and ipywidgets. See https://ipywidgets.readthedocs.io/en/stable/user_install.html\n",
      "  from .autonotebook import tqdm as notebook_tqdm\n"
     ]
    }
   ],
   "source": [
    "from ydata_profiling import ProfileReport"
   ]
  },
  {
   "cell_type": "markdown",
   "metadata": {},
   "source": [
    "Basic cleaning prior to profile report"
   ]
  },
  {
   "cell_type": "code",
   "execution_count": 10,
   "metadata": {},
   "outputs": [
    {
     "name": "stderr",
     "output_type": "stream",
     "text": [
      "/var/folders/z1/1zds15w97_g7_fhs4_83dc3m0000gn/T/ipykernel_96522/644608812.py:1: DtypeWarning: Columns (2,54) have mixed types. Specify dtype option on import or set low_memory=False.\n",
      "  gtrain2 = pd.read_csv(\"/Users/aoluwolerotimi/Datasets/train_dejsonified.csv\")\n"
     ]
    }
   ],
   "source": [
    "gtrain2 = pd.read_csv(\"/Users/aoluwolerotimi/Datasets/train_dejsonified.csv\")"
   ]
  },
  {
   "cell_type": "code",
   "execution_count": 11,
   "metadata": {},
   "outputs": [
    {
     "data": {
      "text/plain": [
       "(903653, 55)"
      ]
     },
     "execution_count": 11,
     "metadata": {},
     "output_type": "execute_result"
    }
   ],
   "source": [
    "gtrain2.shape"
   ]
  },
  {
   "cell_type": "code",
   "execution_count": 12,
   "metadata": {},
   "outputs": [
    {
     "data": {
      "text/plain": [
       "Index(['channelGrouping', 'date', 'fullVisitorId', 'sessionId',\n",
       "       'socialEngagementType', 'visitId', 'visitNumber', 'visitStartTime',\n",
       "       'continent', 'subContinent', 'country', 'region', 'metro', 'city',\n",
       "       'cityId', 'networkDomain', 'latitude', 'longitude', 'networkLocation',\n",
       "       'browser', 'browserVersion', 'browserSize', 'operatingSystem',\n",
       "       'operatingSystemVersion', 'isMobile', 'mobileDeviceBranding',\n",
       "       'mobileDeviceModel', 'mobileInputSelector', 'mobileDeviceInfo',\n",
       "       'mobileDeviceMarketingName', 'flashVersion', 'language', 'screenColors',\n",
       "       'screenResolution', 'deviceCategory', 'visits', 'hits', 'pageviews',\n",
       "       'bounces', 'newVisits', 'transactionRevenue', 'campaign', 'source',\n",
       "       'medium', 'keyword', 'adwordsClickInfo.criteriaParameters',\n",
       "       'isTrueDirect', 'referralPath', 'adwordsClickInfo.page',\n",
       "       'adwordsClickInfo.slot', 'adwordsClickInfo.gclId',\n",
       "       'adwordsClickInfo.adNetworkType', 'adwordsClickInfo.isVideoAd',\n",
       "       'adContent', 'campaignCode'],\n",
       "      dtype='object')"
      ]
     },
     "execution_count": 12,
     "metadata": {},
     "output_type": "execute_result"
    }
   ],
   "source": [
    "gtrain2.columns"
   ]
  },
  {
   "cell_type": "code",
   "execution_count": 13,
   "metadata": {},
   "outputs": [
    {
     "data": {
      "text/html": [
       "<style type=\"text/css\">\n",
       "</style>\n",
       "<table id=\"T_b9ad5\">\n",
       "  <thead>\n",
       "    <tr>\n",
       "      <th class=\"blank level0\" >&nbsp;</th>\n",
       "      <th id=\"T_b9ad5_level0_col0\" class=\"col_heading level0 col0\" >channelGrouping</th>\n",
       "      <th id=\"T_b9ad5_level0_col1\" class=\"col_heading level0 col1\" >date</th>\n",
       "      <th id=\"T_b9ad5_level0_col2\" class=\"col_heading level0 col2\" >fullVisitorId</th>\n",
       "      <th id=\"T_b9ad5_level0_col3\" class=\"col_heading level0 col3\" >sessionId</th>\n",
       "      <th id=\"T_b9ad5_level0_col4\" class=\"col_heading level0 col4\" >socialEngagementType</th>\n",
       "      <th id=\"T_b9ad5_level0_col5\" class=\"col_heading level0 col5\" >visitId</th>\n",
       "      <th id=\"T_b9ad5_level0_col6\" class=\"col_heading level0 col6\" >visitNumber</th>\n",
       "      <th id=\"T_b9ad5_level0_col7\" class=\"col_heading level0 col7\" >visitStartTime</th>\n",
       "      <th id=\"T_b9ad5_level0_col8\" class=\"col_heading level0 col8\" >continent</th>\n",
       "      <th id=\"T_b9ad5_level0_col9\" class=\"col_heading level0 col9\" >subContinent</th>\n",
       "      <th id=\"T_b9ad5_level0_col10\" class=\"col_heading level0 col10\" >country</th>\n",
       "      <th id=\"T_b9ad5_level0_col11\" class=\"col_heading level0 col11\" >region</th>\n",
       "      <th id=\"T_b9ad5_level0_col12\" class=\"col_heading level0 col12\" >metro</th>\n",
       "      <th id=\"T_b9ad5_level0_col13\" class=\"col_heading level0 col13\" >city</th>\n",
       "      <th id=\"T_b9ad5_level0_col14\" class=\"col_heading level0 col14\" >cityId</th>\n",
       "      <th id=\"T_b9ad5_level0_col15\" class=\"col_heading level0 col15\" >networkDomain</th>\n",
       "      <th id=\"T_b9ad5_level0_col16\" class=\"col_heading level0 col16\" >latitude</th>\n",
       "      <th id=\"T_b9ad5_level0_col17\" class=\"col_heading level0 col17\" >longitude</th>\n",
       "      <th id=\"T_b9ad5_level0_col18\" class=\"col_heading level0 col18\" >networkLocation</th>\n",
       "      <th id=\"T_b9ad5_level0_col19\" class=\"col_heading level0 col19\" >browser</th>\n",
       "      <th id=\"T_b9ad5_level0_col20\" class=\"col_heading level0 col20\" >browserVersion</th>\n",
       "      <th id=\"T_b9ad5_level0_col21\" class=\"col_heading level0 col21\" >browserSize</th>\n",
       "      <th id=\"T_b9ad5_level0_col22\" class=\"col_heading level0 col22\" >operatingSystem</th>\n",
       "      <th id=\"T_b9ad5_level0_col23\" class=\"col_heading level0 col23\" >operatingSystemVersion</th>\n",
       "      <th id=\"T_b9ad5_level0_col24\" class=\"col_heading level0 col24\" >isMobile</th>\n",
       "      <th id=\"T_b9ad5_level0_col25\" class=\"col_heading level0 col25\" >mobileDeviceBranding</th>\n",
       "      <th id=\"T_b9ad5_level0_col26\" class=\"col_heading level0 col26\" >mobileDeviceModel</th>\n",
       "      <th id=\"T_b9ad5_level0_col27\" class=\"col_heading level0 col27\" >mobileInputSelector</th>\n",
       "      <th id=\"T_b9ad5_level0_col28\" class=\"col_heading level0 col28\" >mobileDeviceInfo</th>\n",
       "      <th id=\"T_b9ad5_level0_col29\" class=\"col_heading level0 col29\" >mobileDeviceMarketingName</th>\n",
       "      <th id=\"T_b9ad5_level0_col30\" class=\"col_heading level0 col30\" >flashVersion</th>\n",
       "      <th id=\"T_b9ad5_level0_col31\" class=\"col_heading level0 col31\" >language</th>\n",
       "      <th id=\"T_b9ad5_level0_col32\" class=\"col_heading level0 col32\" >screenColors</th>\n",
       "      <th id=\"T_b9ad5_level0_col33\" class=\"col_heading level0 col33\" >screenResolution</th>\n",
       "      <th id=\"T_b9ad5_level0_col34\" class=\"col_heading level0 col34\" >deviceCategory</th>\n",
       "      <th id=\"T_b9ad5_level0_col35\" class=\"col_heading level0 col35\" >visits</th>\n",
       "      <th id=\"T_b9ad5_level0_col36\" class=\"col_heading level0 col36\" >hits</th>\n",
       "      <th id=\"T_b9ad5_level0_col37\" class=\"col_heading level0 col37\" >pageviews</th>\n",
       "      <th id=\"T_b9ad5_level0_col38\" class=\"col_heading level0 col38\" >bounces</th>\n",
       "      <th id=\"T_b9ad5_level0_col39\" class=\"col_heading level0 col39\" >newVisits</th>\n",
       "      <th id=\"T_b9ad5_level0_col40\" class=\"col_heading level0 col40\" >transactionRevenue</th>\n",
       "      <th id=\"T_b9ad5_level0_col41\" class=\"col_heading level0 col41\" >campaign</th>\n",
       "      <th id=\"T_b9ad5_level0_col42\" class=\"col_heading level0 col42\" >source</th>\n",
       "      <th id=\"T_b9ad5_level0_col43\" class=\"col_heading level0 col43\" >medium</th>\n",
       "      <th id=\"T_b9ad5_level0_col44\" class=\"col_heading level0 col44\" >keyword</th>\n",
       "      <th id=\"T_b9ad5_level0_col45\" class=\"col_heading level0 col45\" >adwordsClickInfo.criteriaParameters</th>\n",
       "      <th id=\"T_b9ad5_level0_col46\" class=\"col_heading level0 col46\" >isTrueDirect</th>\n",
       "      <th id=\"T_b9ad5_level0_col47\" class=\"col_heading level0 col47\" >referralPath</th>\n",
       "      <th id=\"T_b9ad5_level0_col48\" class=\"col_heading level0 col48\" >adwordsClickInfo.page</th>\n",
       "      <th id=\"T_b9ad5_level0_col49\" class=\"col_heading level0 col49\" >adwordsClickInfo.slot</th>\n",
       "      <th id=\"T_b9ad5_level0_col50\" class=\"col_heading level0 col50\" >adwordsClickInfo.gclId</th>\n",
       "      <th id=\"T_b9ad5_level0_col51\" class=\"col_heading level0 col51\" >adwordsClickInfo.adNetworkType</th>\n",
       "      <th id=\"T_b9ad5_level0_col52\" class=\"col_heading level0 col52\" >adwordsClickInfo.isVideoAd</th>\n",
       "      <th id=\"T_b9ad5_level0_col53\" class=\"col_heading level0 col53\" >adContent</th>\n",
       "      <th id=\"T_b9ad5_level0_col54\" class=\"col_heading level0 col54\" >campaignCode</th>\n",
       "    </tr>\n",
       "  </thead>\n",
       "  <tbody>\n",
       "    <tr>\n",
       "      <th id=\"T_b9ad5_level0_row0\" class=\"row_heading level0 row0\" >0</th>\n",
       "      <td id=\"T_b9ad5_row0_col0\" class=\"data row0 col0\" >Organic Search</td>\n",
       "      <td id=\"T_b9ad5_row0_col1\" class=\"data row0 col1\" >20160902</td>\n",
       "      <td id=\"T_b9ad5_row0_col2\" class=\"data row0 col2\" >1131660440785968512</td>\n",
       "      <td id=\"T_b9ad5_row0_col3\" class=\"data row0 col3\" >1131660440785968503_1472830385</td>\n",
       "      <td id=\"T_b9ad5_row0_col4\" class=\"data row0 col4\" >Not Socially Engaged</td>\n",
       "      <td id=\"T_b9ad5_row0_col5\" class=\"data row0 col5\" >1472830385</td>\n",
       "      <td id=\"T_b9ad5_row0_col6\" class=\"data row0 col6\" >1</td>\n",
       "      <td id=\"T_b9ad5_row0_col7\" class=\"data row0 col7\" >1472830385</td>\n",
       "      <td id=\"T_b9ad5_row0_col8\" class=\"data row0 col8\" >Asia</td>\n",
       "      <td id=\"T_b9ad5_row0_col9\" class=\"data row0 col9\" >Western Asia</td>\n",
       "      <td id=\"T_b9ad5_row0_col10\" class=\"data row0 col10\" >Turkey</td>\n",
       "      <td id=\"T_b9ad5_row0_col11\" class=\"data row0 col11\" >Izmir</td>\n",
       "      <td id=\"T_b9ad5_row0_col12\" class=\"data row0 col12\" >(not set)</td>\n",
       "      <td id=\"T_b9ad5_row0_col13\" class=\"data row0 col13\" >Izmir</td>\n",
       "      <td id=\"T_b9ad5_row0_col14\" class=\"data row0 col14\" >not available in demo dataset</td>\n",
       "      <td id=\"T_b9ad5_row0_col15\" class=\"data row0 col15\" >ttnet.com.tr</td>\n",
       "      <td id=\"T_b9ad5_row0_col16\" class=\"data row0 col16\" >not available in demo dataset</td>\n",
       "      <td id=\"T_b9ad5_row0_col17\" class=\"data row0 col17\" >not available in demo dataset</td>\n",
       "      <td id=\"T_b9ad5_row0_col18\" class=\"data row0 col18\" >not available in demo dataset</td>\n",
       "      <td id=\"T_b9ad5_row0_col19\" class=\"data row0 col19\" >Chrome</td>\n",
       "      <td id=\"T_b9ad5_row0_col20\" class=\"data row0 col20\" >not available in demo dataset</td>\n",
       "      <td id=\"T_b9ad5_row0_col21\" class=\"data row0 col21\" >not available in demo dataset</td>\n",
       "      <td id=\"T_b9ad5_row0_col22\" class=\"data row0 col22\" >Windows</td>\n",
       "      <td id=\"T_b9ad5_row0_col23\" class=\"data row0 col23\" >not available in demo dataset</td>\n",
       "      <td id=\"T_b9ad5_row0_col24\" class=\"data row0 col24\" >False</td>\n",
       "      <td id=\"T_b9ad5_row0_col25\" class=\"data row0 col25\" >not available in demo dataset</td>\n",
       "      <td id=\"T_b9ad5_row0_col26\" class=\"data row0 col26\" >not available in demo dataset</td>\n",
       "      <td id=\"T_b9ad5_row0_col27\" class=\"data row0 col27\" >not available in demo dataset</td>\n",
       "      <td id=\"T_b9ad5_row0_col28\" class=\"data row0 col28\" >not available in demo dataset</td>\n",
       "      <td id=\"T_b9ad5_row0_col29\" class=\"data row0 col29\" >not available in demo dataset</td>\n",
       "      <td id=\"T_b9ad5_row0_col30\" class=\"data row0 col30\" >not available in demo dataset</td>\n",
       "      <td id=\"T_b9ad5_row0_col31\" class=\"data row0 col31\" >not available in demo dataset</td>\n",
       "      <td id=\"T_b9ad5_row0_col32\" class=\"data row0 col32\" >not available in demo dataset</td>\n",
       "      <td id=\"T_b9ad5_row0_col33\" class=\"data row0 col33\" >not available in demo dataset</td>\n",
       "      <td id=\"T_b9ad5_row0_col34\" class=\"data row0 col34\" >desktop</td>\n",
       "      <td id=\"T_b9ad5_row0_col35\" class=\"data row0 col35\" >1</td>\n",
       "      <td id=\"T_b9ad5_row0_col36\" class=\"data row0 col36\" >1</td>\n",
       "      <td id=\"T_b9ad5_row0_col37\" class=\"data row0 col37\" >1.000000</td>\n",
       "      <td id=\"T_b9ad5_row0_col38\" class=\"data row0 col38\" >1.000000</td>\n",
       "      <td id=\"T_b9ad5_row0_col39\" class=\"data row0 col39\" >1.000000</td>\n",
       "      <td id=\"T_b9ad5_row0_col40\" class=\"data row0 col40\" >nan</td>\n",
       "      <td id=\"T_b9ad5_row0_col41\" class=\"data row0 col41\" >(not set)</td>\n",
       "      <td id=\"T_b9ad5_row0_col42\" class=\"data row0 col42\" >google</td>\n",
       "      <td id=\"T_b9ad5_row0_col43\" class=\"data row0 col43\" >organic</td>\n",
       "      <td id=\"T_b9ad5_row0_col44\" class=\"data row0 col44\" >(not provided)</td>\n",
       "      <td id=\"T_b9ad5_row0_col45\" class=\"data row0 col45\" >not available in demo dataset</td>\n",
       "      <td id=\"T_b9ad5_row0_col46\" class=\"data row0 col46\" >nan</td>\n",
       "      <td id=\"T_b9ad5_row0_col47\" class=\"data row0 col47\" >nan</td>\n",
       "      <td id=\"T_b9ad5_row0_col48\" class=\"data row0 col48\" >nan</td>\n",
       "      <td id=\"T_b9ad5_row0_col49\" class=\"data row0 col49\" >nan</td>\n",
       "      <td id=\"T_b9ad5_row0_col50\" class=\"data row0 col50\" >nan</td>\n",
       "      <td id=\"T_b9ad5_row0_col51\" class=\"data row0 col51\" >nan</td>\n",
       "      <td id=\"T_b9ad5_row0_col52\" class=\"data row0 col52\" >nan</td>\n",
       "      <td id=\"T_b9ad5_row0_col53\" class=\"data row0 col53\" >nan</td>\n",
       "      <td id=\"T_b9ad5_row0_col54\" class=\"data row0 col54\" >nan</td>\n",
       "    </tr>\n",
       "    <tr>\n",
       "      <th id=\"T_b9ad5_level0_row1\" class=\"row_heading level0 row1\" >1</th>\n",
       "      <td id=\"T_b9ad5_row1_col0\" class=\"data row1 col0\" >Organic Search</td>\n",
       "      <td id=\"T_b9ad5_row1_col1\" class=\"data row1 col1\" >20160902</td>\n",
       "      <td id=\"T_b9ad5_row1_col2\" class=\"data row1 col2\" >377306020877927872</td>\n",
       "      <td id=\"T_b9ad5_row1_col3\" class=\"data row1 col3\" >377306020877927890_1472880147</td>\n",
       "      <td id=\"T_b9ad5_row1_col4\" class=\"data row1 col4\" >Not Socially Engaged</td>\n",
       "      <td id=\"T_b9ad5_row1_col5\" class=\"data row1 col5\" >1472880147</td>\n",
       "      <td id=\"T_b9ad5_row1_col6\" class=\"data row1 col6\" >1</td>\n",
       "      <td id=\"T_b9ad5_row1_col7\" class=\"data row1 col7\" >1472880147</td>\n",
       "      <td id=\"T_b9ad5_row1_col8\" class=\"data row1 col8\" >Oceania</td>\n",
       "      <td id=\"T_b9ad5_row1_col9\" class=\"data row1 col9\" >Australasia</td>\n",
       "      <td id=\"T_b9ad5_row1_col10\" class=\"data row1 col10\" >Australia</td>\n",
       "      <td id=\"T_b9ad5_row1_col11\" class=\"data row1 col11\" >not available in demo dataset</td>\n",
       "      <td id=\"T_b9ad5_row1_col12\" class=\"data row1 col12\" >not available in demo dataset</td>\n",
       "      <td id=\"T_b9ad5_row1_col13\" class=\"data row1 col13\" >not available in demo dataset</td>\n",
       "      <td id=\"T_b9ad5_row1_col14\" class=\"data row1 col14\" >not available in demo dataset</td>\n",
       "      <td id=\"T_b9ad5_row1_col15\" class=\"data row1 col15\" >dodo.net.au</td>\n",
       "      <td id=\"T_b9ad5_row1_col16\" class=\"data row1 col16\" >not available in demo dataset</td>\n",
       "      <td id=\"T_b9ad5_row1_col17\" class=\"data row1 col17\" >not available in demo dataset</td>\n",
       "      <td id=\"T_b9ad5_row1_col18\" class=\"data row1 col18\" >not available in demo dataset</td>\n",
       "      <td id=\"T_b9ad5_row1_col19\" class=\"data row1 col19\" >Firefox</td>\n",
       "      <td id=\"T_b9ad5_row1_col20\" class=\"data row1 col20\" >not available in demo dataset</td>\n",
       "      <td id=\"T_b9ad5_row1_col21\" class=\"data row1 col21\" >not available in demo dataset</td>\n",
       "      <td id=\"T_b9ad5_row1_col22\" class=\"data row1 col22\" >Macintosh</td>\n",
       "      <td id=\"T_b9ad5_row1_col23\" class=\"data row1 col23\" >not available in demo dataset</td>\n",
       "      <td id=\"T_b9ad5_row1_col24\" class=\"data row1 col24\" >False</td>\n",
       "      <td id=\"T_b9ad5_row1_col25\" class=\"data row1 col25\" >not available in demo dataset</td>\n",
       "      <td id=\"T_b9ad5_row1_col26\" class=\"data row1 col26\" >not available in demo dataset</td>\n",
       "      <td id=\"T_b9ad5_row1_col27\" class=\"data row1 col27\" >not available in demo dataset</td>\n",
       "      <td id=\"T_b9ad5_row1_col28\" class=\"data row1 col28\" >not available in demo dataset</td>\n",
       "      <td id=\"T_b9ad5_row1_col29\" class=\"data row1 col29\" >not available in demo dataset</td>\n",
       "      <td id=\"T_b9ad5_row1_col30\" class=\"data row1 col30\" >not available in demo dataset</td>\n",
       "      <td id=\"T_b9ad5_row1_col31\" class=\"data row1 col31\" >not available in demo dataset</td>\n",
       "      <td id=\"T_b9ad5_row1_col32\" class=\"data row1 col32\" >not available in demo dataset</td>\n",
       "      <td id=\"T_b9ad5_row1_col33\" class=\"data row1 col33\" >not available in demo dataset</td>\n",
       "      <td id=\"T_b9ad5_row1_col34\" class=\"data row1 col34\" >desktop</td>\n",
       "      <td id=\"T_b9ad5_row1_col35\" class=\"data row1 col35\" >1</td>\n",
       "      <td id=\"T_b9ad5_row1_col36\" class=\"data row1 col36\" >1</td>\n",
       "      <td id=\"T_b9ad5_row1_col37\" class=\"data row1 col37\" >1.000000</td>\n",
       "      <td id=\"T_b9ad5_row1_col38\" class=\"data row1 col38\" >1.000000</td>\n",
       "      <td id=\"T_b9ad5_row1_col39\" class=\"data row1 col39\" >1.000000</td>\n",
       "      <td id=\"T_b9ad5_row1_col40\" class=\"data row1 col40\" >nan</td>\n",
       "      <td id=\"T_b9ad5_row1_col41\" class=\"data row1 col41\" >(not set)</td>\n",
       "      <td id=\"T_b9ad5_row1_col42\" class=\"data row1 col42\" >google</td>\n",
       "      <td id=\"T_b9ad5_row1_col43\" class=\"data row1 col43\" >organic</td>\n",
       "      <td id=\"T_b9ad5_row1_col44\" class=\"data row1 col44\" >(not provided)</td>\n",
       "      <td id=\"T_b9ad5_row1_col45\" class=\"data row1 col45\" >not available in demo dataset</td>\n",
       "      <td id=\"T_b9ad5_row1_col46\" class=\"data row1 col46\" >nan</td>\n",
       "      <td id=\"T_b9ad5_row1_col47\" class=\"data row1 col47\" >nan</td>\n",
       "      <td id=\"T_b9ad5_row1_col48\" class=\"data row1 col48\" >nan</td>\n",
       "      <td id=\"T_b9ad5_row1_col49\" class=\"data row1 col49\" >nan</td>\n",
       "      <td id=\"T_b9ad5_row1_col50\" class=\"data row1 col50\" >nan</td>\n",
       "      <td id=\"T_b9ad5_row1_col51\" class=\"data row1 col51\" >nan</td>\n",
       "      <td id=\"T_b9ad5_row1_col52\" class=\"data row1 col52\" >nan</td>\n",
       "      <td id=\"T_b9ad5_row1_col53\" class=\"data row1 col53\" >nan</td>\n",
       "      <td id=\"T_b9ad5_row1_col54\" class=\"data row1 col54\" >nan</td>\n",
       "    </tr>\n",
       "    <tr>\n",
       "      <th id=\"T_b9ad5_level0_row2\" class=\"row_heading level0 row2\" >2</th>\n",
       "      <td id=\"T_b9ad5_row2_col0\" class=\"data row2 col0\" >Organic Search</td>\n",
       "      <td id=\"T_b9ad5_row2_col1\" class=\"data row2 col1\" >20160902</td>\n",
       "      <td id=\"T_b9ad5_row2_col2\" class=\"data row2 col2\" >3895546263509774336</td>\n",
       "      <td id=\"T_b9ad5_row2_col3\" class=\"data row2 col3\" >3895546263509774583_1472865386</td>\n",
       "      <td id=\"T_b9ad5_row2_col4\" class=\"data row2 col4\" >Not Socially Engaged</td>\n",
       "      <td id=\"T_b9ad5_row2_col5\" class=\"data row2 col5\" >1472865386</td>\n",
       "      <td id=\"T_b9ad5_row2_col6\" class=\"data row2 col6\" >1</td>\n",
       "      <td id=\"T_b9ad5_row2_col7\" class=\"data row2 col7\" >1472865386</td>\n",
       "      <td id=\"T_b9ad5_row2_col8\" class=\"data row2 col8\" >Europe</td>\n",
       "      <td id=\"T_b9ad5_row2_col9\" class=\"data row2 col9\" >Southern Europe</td>\n",
       "      <td id=\"T_b9ad5_row2_col10\" class=\"data row2 col10\" >Spain</td>\n",
       "      <td id=\"T_b9ad5_row2_col11\" class=\"data row2 col11\" >Community of Madrid</td>\n",
       "      <td id=\"T_b9ad5_row2_col12\" class=\"data row2 col12\" >(not set)</td>\n",
       "      <td id=\"T_b9ad5_row2_col13\" class=\"data row2 col13\" >Madrid</td>\n",
       "      <td id=\"T_b9ad5_row2_col14\" class=\"data row2 col14\" >not available in demo dataset</td>\n",
       "      <td id=\"T_b9ad5_row2_col15\" class=\"data row2 col15\" >unknown.unknown</td>\n",
       "      <td id=\"T_b9ad5_row2_col16\" class=\"data row2 col16\" >not available in demo dataset</td>\n",
       "      <td id=\"T_b9ad5_row2_col17\" class=\"data row2 col17\" >not available in demo dataset</td>\n",
       "      <td id=\"T_b9ad5_row2_col18\" class=\"data row2 col18\" >not available in demo dataset</td>\n",
       "      <td id=\"T_b9ad5_row2_col19\" class=\"data row2 col19\" >Chrome</td>\n",
       "      <td id=\"T_b9ad5_row2_col20\" class=\"data row2 col20\" >not available in demo dataset</td>\n",
       "      <td id=\"T_b9ad5_row2_col21\" class=\"data row2 col21\" >not available in demo dataset</td>\n",
       "      <td id=\"T_b9ad5_row2_col22\" class=\"data row2 col22\" >Windows</td>\n",
       "      <td id=\"T_b9ad5_row2_col23\" class=\"data row2 col23\" >not available in demo dataset</td>\n",
       "      <td id=\"T_b9ad5_row2_col24\" class=\"data row2 col24\" >False</td>\n",
       "      <td id=\"T_b9ad5_row2_col25\" class=\"data row2 col25\" >not available in demo dataset</td>\n",
       "      <td id=\"T_b9ad5_row2_col26\" class=\"data row2 col26\" >not available in demo dataset</td>\n",
       "      <td id=\"T_b9ad5_row2_col27\" class=\"data row2 col27\" >not available in demo dataset</td>\n",
       "      <td id=\"T_b9ad5_row2_col28\" class=\"data row2 col28\" >not available in demo dataset</td>\n",
       "      <td id=\"T_b9ad5_row2_col29\" class=\"data row2 col29\" >not available in demo dataset</td>\n",
       "      <td id=\"T_b9ad5_row2_col30\" class=\"data row2 col30\" >not available in demo dataset</td>\n",
       "      <td id=\"T_b9ad5_row2_col31\" class=\"data row2 col31\" >not available in demo dataset</td>\n",
       "      <td id=\"T_b9ad5_row2_col32\" class=\"data row2 col32\" >not available in demo dataset</td>\n",
       "      <td id=\"T_b9ad5_row2_col33\" class=\"data row2 col33\" >not available in demo dataset</td>\n",
       "      <td id=\"T_b9ad5_row2_col34\" class=\"data row2 col34\" >desktop</td>\n",
       "      <td id=\"T_b9ad5_row2_col35\" class=\"data row2 col35\" >1</td>\n",
       "      <td id=\"T_b9ad5_row2_col36\" class=\"data row2 col36\" >1</td>\n",
       "      <td id=\"T_b9ad5_row2_col37\" class=\"data row2 col37\" >1.000000</td>\n",
       "      <td id=\"T_b9ad5_row2_col38\" class=\"data row2 col38\" >1.000000</td>\n",
       "      <td id=\"T_b9ad5_row2_col39\" class=\"data row2 col39\" >1.000000</td>\n",
       "      <td id=\"T_b9ad5_row2_col40\" class=\"data row2 col40\" >nan</td>\n",
       "      <td id=\"T_b9ad5_row2_col41\" class=\"data row2 col41\" >(not set)</td>\n",
       "      <td id=\"T_b9ad5_row2_col42\" class=\"data row2 col42\" >google</td>\n",
       "      <td id=\"T_b9ad5_row2_col43\" class=\"data row2 col43\" >organic</td>\n",
       "      <td id=\"T_b9ad5_row2_col44\" class=\"data row2 col44\" >(not provided)</td>\n",
       "      <td id=\"T_b9ad5_row2_col45\" class=\"data row2 col45\" >not available in demo dataset</td>\n",
       "      <td id=\"T_b9ad5_row2_col46\" class=\"data row2 col46\" >nan</td>\n",
       "      <td id=\"T_b9ad5_row2_col47\" class=\"data row2 col47\" >nan</td>\n",
       "      <td id=\"T_b9ad5_row2_col48\" class=\"data row2 col48\" >nan</td>\n",
       "      <td id=\"T_b9ad5_row2_col49\" class=\"data row2 col49\" >nan</td>\n",
       "      <td id=\"T_b9ad5_row2_col50\" class=\"data row2 col50\" >nan</td>\n",
       "      <td id=\"T_b9ad5_row2_col51\" class=\"data row2 col51\" >nan</td>\n",
       "      <td id=\"T_b9ad5_row2_col52\" class=\"data row2 col52\" >nan</td>\n",
       "      <td id=\"T_b9ad5_row2_col53\" class=\"data row2 col53\" >nan</td>\n",
       "      <td id=\"T_b9ad5_row2_col54\" class=\"data row2 col54\" >nan</td>\n",
       "    </tr>\n",
       "    <tr>\n",
       "      <th id=\"T_b9ad5_level0_row3\" class=\"row_heading level0 row3\" >3</th>\n",
       "      <td id=\"T_b9ad5_row3_col0\" class=\"data row3 col0\" >Organic Search</td>\n",
       "      <td id=\"T_b9ad5_row3_col1\" class=\"data row3 col1\" >20160902</td>\n",
       "      <td id=\"T_b9ad5_row3_col2\" class=\"data row3 col2\" >4763447161404445696</td>\n",
       "      <td id=\"T_b9ad5_row3_col3\" class=\"data row3 col3\" >4763447161404445595_1472881213</td>\n",
       "      <td id=\"T_b9ad5_row3_col4\" class=\"data row3 col4\" >Not Socially Engaged</td>\n",
       "      <td id=\"T_b9ad5_row3_col5\" class=\"data row3 col5\" >1472881213</td>\n",
       "      <td id=\"T_b9ad5_row3_col6\" class=\"data row3 col6\" >1</td>\n",
       "      <td id=\"T_b9ad5_row3_col7\" class=\"data row3 col7\" >1472881213</td>\n",
       "      <td id=\"T_b9ad5_row3_col8\" class=\"data row3 col8\" >Asia</td>\n",
       "      <td id=\"T_b9ad5_row3_col9\" class=\"data row3 col9\" >Southeast Asia</td>\n",
       "      <td id=\"T_b9ad5_row3_col10\" class=\"data row3 col10\" >Indonesia</td>\n",
       "      <td id=\"T_b9ad5_row3_col11\" class=\"data row3 col11\" >not available in demo dataset</td>\n",
       "      <td id=\"T_b9ad5_row3_col12\" class=\"data row3 col12\" >not available in demo dataset</td>\n",
       "      <td id=\"T_b9ad5_row3_col13\" class=\"data row3 col13\" >not available in demo dataset</td>\n",
       "      <td id=\"T_b9ad5_row3_col14\" class=\"data row3 col14\" >not available in demo dataset</td>\n",
       "      <td id=\"T_b9ad5_row3_col15\" class=\"data row3 col15\" >unknown.unknown</td>\n",
       "      <td id=\"T_b9ad5_row3_col16\" class=\"data row3 col16\" >not available in demo dataset</td>\n",
       "      <td id=\"T_b9ad5_row3_col17\" class=\"data row3 col17\" >not available in demo dataset</td>\n",
       "      <td id=\"T_b9ad5_row3_col18\" class=\"data row3 col18\" >not available in demo dataset</td>\n",
       "      <td id=\"T_b9ad5_row3_col19\" class=\"data row3 col19\" >UC Browser</td>\n",
       "      <td id=\"T_b9ad5_row3_col20\" class=\"data row3 col20\" >not available in demo dataset</td>\n",
       "      <td id=\"T_b9ad5_row3_col21\" class=\"data row3 col21\" >not available in demo dataset</td>\n",
       "      <td id=\"T_b9ad5_row3_col22\" class=\"data row3 col22\" >Linux</td>\n",
       "      <td id=\"T_b9ad5_row3_col23\" class=\"data row3 col23\" >not available in demo dataset</td>\n",
       "      <td id=\"T_b9ad5_row3_col24\" class=\"data row3 col24\" >False</td>\n",
       "      <td id=\"T_b9ad5_row3_col25\" class=\"data row3 col25\" >not available in demo dataset</td>\n",
       "      <td id=\"T_b9ad5_row3_col26\" class=\"data row3 col26\" >not available in demo dataset</td>\n",
       "      <td id=\"T_b9ad5_row3_col27\" class=\"data row3 col27\" >not available in demo dataset</td>\n",
       "      <td id=\"T_b9ad5_row3_col28\" class=\"data row3 col28\" >not available in demo dataset</td>\n",
       "      <td id=\"T_b9ad5_row3_col29\" class=\"data row3 col29\" >not available in demo dataset</td>\n",
       "      <td id=\"T_b9ad5_row3_col30\" class=\"data row3 col30\" >not available in demo dataset</td>\n",
       "      <td id=\"T_b9ad5_row3_col31\" class=\"data row3 col31\" >not available in demo dataset</td>\n",
       "      <td id=\"T_b9ad5_row3_col32\" class=\"data row3 col32\" >not available in demo dataset</td>\n",
       "      <td id=\"T_b9ad5_row3_col33\" class=\"data row3 col33\" >not available in demo dataset</td>\n",
       "      <td id=\"T_b9ad5_row3_col34\" class=\"data row3 col34\" >desktop</td>\n",
       "      <td id=\"T_b9ad5_row3_col35\" class=\"data row3 col35\" >1</td>\n",
       "      <td id=\"T_b9ad5_row3_col36\" class=\"data row3 col36\" >1</td>\n",
       "      <td id=\"T_b9ad5_row3_col37\" class=\"data row3 col37\" >1.000000</td>\n",
       "      <td id=\"T_b9ad5_row3_col38\" class=\"data row3 col38\" >1.000000</td>\n",
       "      <td id=\"T_b9ad5_row3_col39\" class=\"data row3 col39\" >1.000000</td>\n",
       "      <td id=\"T_b9ad5_row3_col40\" class=\"data row3 col40\" >nan</td>\n",
       "      <td id=\"T_b9ad5_row3_col41\" class=\"data row3 col41\" >(not set)</td>\n",
       "      <td id=\"T_b9ad5_row3_col42\" class=\"data row3 col42\" >google</td>\n",
       "      <td id=\"T_b9ad5_row3_col43\" class=\"data row3 col43\" >organic</td>\n",
       "      <td id=\"T_b9ad5_row3_col44\" class=\"data row3 col44\" >google + online</td>\n",
       "      <td id=\"T_b9ad5_row3_col45\" class=\"data row3 col45\" >not available in demo dataset</td>\n",
       "      <td id=\"T_b9ad5_row3_col46\" class=\"data row3 col46\" >nan</td>\n",
       "      <td id=\"T_b9ad5_row3_col47\" class=\"data row3 col47\" >nan</td>\n",
       "      <td id=\"T_b9ad5_row3_col48\" class=\"data row3 col48\" >nan</td>\n",
       "      <td id=\"T_b9ad5_row3_col49\" class=\"data row3 col49\" >nan</td>\n",
       "      <td id=\"T_b9ad5_row3_col50\" class=\"data row3 col50\" >nan</td>\n",
       "      <td id=\"T_b9ad5_row3_col51\" class=\"data row3 col51\" >nan</td>\n",
       "      <td id=\"T_b9ad5_row3_col52\" class=\"data row3 col52\" >nan</td>\n",
       "      <td id=\"T_b9ad5_row3_col53\" class=\"data row3 col53\" >nan</td>\n",
       "      <td id=\"T_b9ad5_row3_col54\" class=\"data row3 col54\" >nan</td>\n",
       "    </tr>\n",
       "    <tr>\n",
       "      <th id=\"T_b9ad5_level0_row4\" class=\"row_heading level0 row4\" >4</th>\n",
       "      <td id=\"T_b9ad5_row4_col0\" class=\"data row4 col0\" >Organic Search</td>\n",
       "      <td id=\"T_b9ad5_row4_col1\" class=\"data row4 col1\" >20160902</td>\n",
       "      <td id=\"T_b9ad5_row4_col2\" class=\"data row4 col2\" >27294437909732084</td>\n",
       "      <td id=\"T_b9ad5_row4_col3\" class=\"data row4 col3\" >27294437909732085_1472822600</td>\n",
       "      <td id=\"T_b9ad5_row4_col4\" class=\"data row4 col4\" >Not Socially Engaged</td>\n",
       "      <td id=\"T_b9ad5_row4_col5\" class=\"data row4 col5\" >1472822600</td>\n",
       "      <td id=\"T_b9ad5_row4_col6\" class=\"data row4 col6\" >2</td>\n",
       "      <td id=\"T_b9ad5_row4_col7\" class=\"data row4 col7\" >1472822600</td>\n",
       "      <td id=\"T_b9ad5_row4_col8\" class=\"data row4 col8\" >Europe</td>\n",
       "      <td id=\"T_b9ad5_row4_col9\" class=\"data row4 col9\" >Northern Europe</td>\n",
       "      <td id=\"T_b9ad5_row4_col10\" class=\"data row4 col10\" >United Kingdom</td>\n",
       "      <td id=\"T_b9ad5_row4_col11\" class=\"data row4 col11\" >not available in demo dataset</td>\n",
       "      <td id=\"T_b9ad5_row4_col12\" class=\"data row4 col12\" >not available in demo dataset</td>\n",
       "      <td id=\"T_b9ad5_row4_col13\" class=\"data row4 col13\" >not available in demo dataset</td>\n",
       "      <td id=\"T_b9ad5_row4_col14\" class=\"data row4 col14\" >not available in demo dataset</td>\n",
       "      <td id=\"T_b9ad5_row4_col15\" class=\"data row4 col15\" >unknown.unknown</td>\n",
       "      <td id=\"T_b9ad5_row4_col16\" class=\"data row4 col16\" >not available in demo dataset</td>\n",
       "      <td id=\"T_b9ad5_row4_col17\" class=\"data row4 col17\" >not available in demo dataset</td>\n",
       "      <td id=\"T_b9ad5_row4_col18\" class=\"data row4 col18\" >not available in demo dataset</td>\n",
       "      <td id=\"T_b9ad5_row4_col19\" class=\"data row4 col19\" >Chrome</td>\n",
       "      <td id=\"T_b9ad5_row4_col20\" class=\"data row4 col20\" >not available in demo dataset</td>\n",
       "      <td id=\"T_b9ad5_row4_col21\" class=\"data row4 col21\" >not available in demo dataset</td>\n",
       "      <td id=\"T_b9ad5_row4_col22\" class=\"data row4 col22\" >Android</td>\n",
       "      <td id=\"T_b9ad5_row4_col23\" class=\"data row4 col23\" >not available in demo dataset</td>\n",
       "      <td id=\"T_b9ad5_row4_col24\" class=\"data row4 col24\" >True</td>\n",
       "      <td id=\"T_b9ad5_row4_col25\" class=\"data row4 col25\" >not available in demo dataset</td>\n",
       "      <td id=\"T_b9ad5_row4_col26\" class=\"data row4 col26\" >not available in demo dataset</td>\n",
       "      <td id=\"T_b9ad5_row4_col27\" class=\"data row4 col27\" >not available in demo dataset</td>\n",
       "      <td id=\"T_b9ad5_row4_col28\" class=\"data row4 col28\" >not available in demo dataset</td>\n",
       "      <td id=\"T_b9ad5_row4_col29\" class=\"data row4 col29\" >not available in demo dataset</td>\n",
       "      <td id=\"T_b9ad5_row4_col30\" class=\"data row4 col30\" >not available in demo dataset</td>\n",
       "      <td id=\"T_b9ad5_row4_col31\" class=\"data row4 col31\" >not available in demo dataset</td>\n",
       "      <td id=\"T_b9ad5_row4_col32\" class=\"data row4 col32\" >not available in demo dataset</td>\n",
       "      <td id=\"T_b9ad5_row4_col33\" class=\"data row4 col33\" >not available in demo dataset</td>\n",
       "      <td id=\"T_b9ad5_row4_col34\" class=\"data row4 col34\" >mobile</td>\n",
       "      <td id=\"T_b9ad5_row4_col35\" class=\"data row4 col35\" >1</td>\n",
       "      <td id=\"T_b9ad5_row4_col36\" class=\"data row4 col36\" >1</td>\n",
       "      <td id=\"T_b9ad5_row4_col37\" class=\"data row4 col37\" >1.000000</td>\n",
       "      <td id=\"T_b9ad5_row4_col38\" class=\"data row4 col38\" >1.000000</td>\n",
       "      <td id=\"T_b9ad5_row4_col39\" class=\"data row4 col39\" >nan</td>\n",
       "      <td id=\"T_b9ad5_row4_col40\" class=\"data row4 col40\" >nan</td>\n",
       "      <td id=\"T_b9ad5_row4_col41\" class=\"data row4 col41\" >(not set)</td>\n",
       "      <td id=\"T_b9ad5_row4_col42\" class=\"data row4 col42\" >google</td>\n",
       "      <td id=\"T_b9ad5_row4_col43\" class=\"data row4 col43\" >organic</td>\n",
       "      <td id=\"T_b9ad5_row4_col44\" class=\"data row4 col44\" >(not provided)</td>\n",
       "      <td id=\"T_b9ad5_row4_col45\" class=\"data row4 col45\" >not available in demo dataset</td>\n",
       "      <td id=\"T_b9ad5_row4_col46\" class=\"data row4 col46\" >True</td>\n",
       "      <td id=\"T_b9ad5_row4_col47\" class=\"data row4 col47\" >nan</td>\n",
       "      <td id=\"T_b9ad5_row4_col48\" class=\"data row4 col48\" >nan</td>\n",
       "      <td id=\"T_b9ad5_row4_col49\" class=\"data row4 col49\" >nan</td>\n",
       "      <td id=\"T_b9ad5_row4_col50\" class=\"data row4 col50\" >nan</td>\n",
       "      <td id=\"T_b9ad5_row4_col51\" class=\"data row4 col51\" >nan</td>\n",
       "      <td id=\"T_b9ad5_row4_col52\" class=\"data row4 col52\" >nan</td>\n",
       "      <td id=\"T_b9ad5_row4_col53\" class=\"data row4 col53\" >nan</td>\n",
       "      <td id=\"T_b9ad5_row4_col54\" class=\"data row4 col54\" >nan</td>\n",
       "    </tr>\n",
       "  </tbody>\n",
       "</table>\n"
      ],
      "text/plain": [
       "<pandas.io.formats.style.Styler at 0x2dc0438b0>"
      ]
     },
     "execution_count": 13,
     "metadata": {},
     "output_type": "execute_result"
    }
   ],
   "source": [
    "gtrain2.head().style"
   ]
  },
  {
   "cell_type": "code",
   "execution_count": 14,
   "metadata": {},
   "outputs": [
    {
     "data": {
      "text/plain": [
       "Index(['socialEngagementType', 'cityId', 'latitude', 'longitude',\n",
       "       'networkLocation', 'browserVersion', 'browserSize',\n",
       "       'operatingSystemVersion', 'mobileDeviceBranding', 'mobileDeviceModel',\n",
       "       'mobileInputSelector', 'mobileDeviceInfo', 'mobileDeviceMarketingName',\n",
       "       'flashVersion', 'language', 'screenColors', 'screenResolution',\n",
       "       'visits', 'bounces', 'newVisits', 'adwordsClickInfo.criteriaParameters',\n",
       "       'isTrueDirect', 'adwordsClickInfo.isVideoAd', 'campaignCode'],\n",
       "      dtype='object')"
      ]
     },
     "execution_count": 14,
     "metadata": {},
     "output_type": "execute_result"
    }
   ],
   "source": [
    "# find which columns only contain one value\n",
    "single_value_columns = gtrain2.columns[gtrain2.nunique() == 1]\n",
    "single_value_columns"
   ]
  },
  {
   "cell_type": "code",
   "execution_count": 15,
   "metadata": {},
   "outputs": [],
   "source": [
    "gtrain2 = gtrain2.drop(single_value_columns, axis=1)"
   ]
  },
  {
   "cell_type": "code",
   "execution_count": 16,
   "metadata": {},
   "outputs": [],
   "source": [
    "gtrain2['conversion'] = gtrain2['transactionRevenue'].notnull().astype(int)"
   ]
  },
  {
   "cell_type": "code",
   "execution_count": 17,
   "metadata": {},
   "outputs": [],
   "source": [
    "gtrain2['date'] = pd.to_datetime(gtrain2['date'], format=\"%Y%m%d\")"
   ]
  },
  {
   "cell_type": "code",
   "execution_count": 18,
   "metadata": {},
   "outputs": [
    {
     "data": {
      "text/plain": [
       "Index(['channelGrouping', 'date', 'fullVisitorId', 'sessionId', 'visitId',\n",
       "       'visitNumber', 'visitStartTime', 'continent', 'subContinent', 'country',\n",
       "       'region', 'metro', 'city', 'networkDomain', 'browser',\n",
       "       'operatingSystem', 'isMobile', 'deviceCategory', 'hits', 'pageviews',\n",
       "       'transactionRevenue', 'campaign', 'source', 'medium', 'keyword',\n",
       "       'referralPath', 'adwordsClickInfo.page', 'adwordsClickInfo.slot',\n",
       "       'adwordsClickInfo.gclId', 'adwordsClickInfo.adNetworkType', 'adContent',\n",
       "       'conversion'],\n",
       "      dtype='object')"
      ]
     },
     "execution_count": 18,
     "metadata": {},
     "output_type": "execute_result"
    }
   ],
   "source": [
    "gtrain2.columns"
   ]
  },
  {
   "cell_type": "code",
   "execution_count": 19,
   "metadata": {},
   "outputs": [],
   "source": [
    "def convert_to_categorical(df, columns):\n",
    "    for column in columns:\n",
    "        # Replace blanks with hyphens\n",
    "        df[column] = df[column].str.replace(' ', '-', regex=False)\n",
    "        # Convert to categorical type\n",
    "        df[column] = df[column].astype('category')\n",
    "    return df"
   ]
  },
  {
   "cell_type": "code",
   "execution_count": 20,
   "metadata": {},
   "outputs": [],
   "source": [
    "textcols = ['country', 'region', 'metro', 'city', 'source', 'keyword', 'browser'] \n",
    "# columns which were previously appearing as text in earlier profile report iterations\n",
    "gtrain2 = convert_to_categorical(gtrain2, textcols)"
   ]
  },
  {
   "cell_type": "code",
   "execution_count": 21,
   "metadata": {},
   "outputs": [
    {
     "data": {
      "text/plain": [
       "channelGrouping                           object\n",
       "date                              datetime64[ns]\n",
       "fullVisitorId                             object\n",
       "sessionId                                 object\n",
       "visitId                                    int64\n",
       "visitNumber                                int64\n",
       "visitStartTime                             int64\n",
       "continent                                 object\n",
       "subContinent                              object\n",
       "country                                 category\n",
       "region                                  category\n",
       "metro                                   category\n",
       "city                                    category\n",
       "networkDomain                             object\n",
       "browser                                 category\n",
       "operatingSystem                           object\n",
       "isMobile                                    bool\n",
       "deviceCategory                            object\n",
       "hits                                       int64\n",
       "pageviews                                float64\n",
       "transactionRevenue                       float64\n",
       "campaign                                  object\n",
       "source                                  category\n",
       "medium                                    object\n",
       "keyword                                 category\n",
       "referralPath                              object\n",
       "adwordsClickInfo.page                    float64\n",
       "adwordsClickInfo.slot                     object\n",
       "adwordsClickInfo.gclId                    object\n",
       "adwordsClickInfo.adNetworkType            object\n",
       "adContent                                 object\n",
       "conversion                                 int64\n",
       "dtype: object"
      ]
     },
     "execution_count": 21,
     "metadata": {},
     "output_type": "execute_result"
    }
   ],
   "source": [
    "gtrain2.dtypes"
   ]
  },
  {
   "cell_type": "code",
   "execution_count": 24,
   "metadata": {},
   "outputs": [],
   "source": [
    "# subsetting columns to profile (e.g. ommitting ID columns)\n",
    "prof_cols = ['channelGrouping', 'date',\n",
    "       'visitNumber', 'continent', 'subContinent', 'country',\n",
    "       'region', 'metro', 'city', 'browser',\n",
    "       'operatingSystem', 'isMobile', 'deviceCategory', 'hits', 'pageviews',\n",
    "       'transactionRevenue', 'campaign', 'source', 'medium', 'keyword',\n",
    "       'referralPath', 'adwordsClickInfo.page', 'adwordsClickInfo.slot',\n",
    "       'adwordsClickInfo.gclId', 'adwordsClickInfo.adNetworkType', 'adContent',\n",
    "       'conversion']"
   ]
  },
  {
   "cell_type": "code",
   "execution_count": 25,
   "metadata": {},
   "outputs": [],
   "source": [
    "# make copy of the columns in prof_cols from gtrain2 to new dataframe\n",
    "gtrain2_prof = gtrain2[prof_cols].copy()"
   ]
  },
  {
   "cell_type": "code",
   "execution_count": 26,
   "metadata": {},
   "outputs": [],
   "source": [
    "profile2 = ProfileReport(gtrain2_prof, title='Session Profile Report 2', explorative=True)"
   ]
  },
  {
   "cell_type": "code",
   "execution_count": 27,
   "metadata": {},
   "outputs": [
    {
     "name": "stderr",
     "output_type": "stream",
     "text": [
      "Summarize dataset:  85%|████████▌ | 29/34 [00:17<00:01,  4.00it/s, Calculate auto correlation]                      /Users/aoluwolerotimi/anaconda3/lib/python3.10/site-packages/scipy/stats/_stats_py.py:4921: ConstantInputWarning: An input array is constant; the correlation coefficient is not defined.\n",
      "  warnings.warn(stats.ConstantInputWarning(warn_msg))\n",
      "/Users/aoluwolerotimi/anaconda3/lib/python3.10/site-packages/scipy/stats/_stats_py.py:4921: ConstantInputWarning: An input array is constant; the correlation coefficient is not defined.\n",
      "  warnings.warn(stats.ConstantInputWarning(warn_msg))\n",
      "/Users/aoluwolerotimi/anaconda3/lib/python3.10/site-packages/scipy/stats/_stats_py.py:4921: ConstantInputWarning: An input array is constant; the correlation coefficient is not defined.\n",
      "  warnings.warn(stats.ConstantInputWarning(warn_msg))\n",
      "Summarize dataset: 100%|██████████| 62/62 [01:40<00:00,  1.62s/it, Completed]                                           \n",
      "Generate report structure: 100%|██████████| 1/1 [00:03<00:00,  3.33s/it]\n",
      "Render HTML: 100%|██████████| 1/1 [00:00<00:00,  1.04it/s]\n",
      "Export report to file: 100%|██████████| 1/1 [00:00<00:00, 165.13it/s]\n"
     ]
    }
   ],
   "source": [
    "# profile2.to_file(output_file=\"Session Profile Report 2.html\")"
   ]
  },
  {
   "cell_type": "markdown",
   "metadata": {},
   "source": [
    "See outputs at [this OneDrive link](https://mcgill.sharepoint.com/:u:/s/INSY695-EnterpriseDSMLinProduction_Group/EWmvQmeg44ZMt1AIPAEaV2wBZ52AnOigWd48fKw4SBgKwA?e=8lPkG4)"
   ]
  },
  {
   "cell_type": "markdown",
   "metadata": {},
   "source": [
    "### Exploring Visiting Behaviour"
   ]
  },
  {
   "cell_type": "code",
   "execution_count": 8,
   "metadata": {},
   "outputs": [
    {
     "name": "stdout",
     "output_type": "stream",
     "text": [
      "Each value in the fullVisitorId column is unique: False\n"
     ]
    }
   ],
   "source": [
    "is_unique = gtrain['fullVisitorId'].duplicated().any()\n",
    "print(\"Each value in the fullVisitorId column is unique:\", not is_unique)"
   ]
  },
  {
   "cell_type": "markdown",
   "metadata": {},
   "source": [
    "Getting distribution of how often people come, and also a sense of how many duplicate IDs we should expect. \n",
    "\n",
    "While this is also contained within the profiling report, displaying here as this was a key driver of the decision to transform the dataset to user level."
   ]
  },
  {
   "cell_type": "code",
   "execution_count": 39,
   "metadata": {},
   "outputs": [],
   "source": [
    "max_visits_per_user = gtrain2.groupby('fullVisitorId')['visitNumber'].max().reset_index()"
   ]
  },
  {
   "cell_type": "code",
   "execution_count": 40,
   "metadata": {},
   "outputs": [],
   "source": [
    "# create boxplot of visitNumber in max_visits_per_user\n",
    "import seaborn as sns\n",
    "%matplotlib inline\n",
    "import matplotlib.pyplot as plt"
   ]
  },
  {
   "cell_type": "code",
   "execution_count": 41,
   "metadata": {},
   "outputs": [
    {
     "data": {
      "image/png": "[encoded data removed]",
      "text/plain": [
       "<Figure size 640x480 with 1 Axes>"
      ]
     },
     "metadata": {},
     "output_type": "display_data"
    }
   ],
   "source": [
    "sns.boxplot(max_visits_per_user['visitNumber'])\n",
    "plt.show()"
   ]
  },
  {
   "cell_type": "code",
   "execution_count": 35,
   "metadata": {},
   "outputs": [
    {
     "name": "stdout",
     "output_type": "stream",
     "text": [
      "Min: 1\n",
      "Max: 395\n",
      "Median: 1.0\n"
     ]
    }
   ],
   "source": [
    "# get min and max of visitNumber\n",
    "print(\"Min:\", max_visits_per_user['visitNumber'].min())\n",
    "print(\"Max:\", max_visits_per_user['visitNumber'].max())\n",
    "# get median of visitNumber\n",
    "print(\"Median:\", max_visits_per_user['visitNumber'].median())"
   ]
  },
  {
   "cell_type": "code",
   "execution_count": 42,
   "metadata": {},
   "outputs": [
    {
     "data": {
      "image/png": "[encoded data removed]",
      "text/plain": [
       "<Figure size 640x480 with 1 Axes>"
      ]
     },
     "metadata": {},
     "output_type": "display_data"
    }
   ],
   "source": [
    "# plot histogram of visitNumber\n",
    "sns.histplot(max_visits_per_user['visitNumber'], bins=100)\n",
    "plt.show()"
   ]
  }
 ],
 "metadata": {
  "kernelspec": {
   "display_name": "base",
   "language": "python",
   "name": "python3"
  },
  "language_info": {
   "codemirror_mode": {
    "name": "ipython",
    "version": 3
   },
   "file_extension": ".py",
   "mimetype": "text/x-python",
   "name": "python",
   "nbconvert_exporter": "python",
   "pygments_lexer": "ipython3",
   "version": "3.10.9"
  }
 },
 "nbformat": 4,
 "nbformat_minor": 2
}
