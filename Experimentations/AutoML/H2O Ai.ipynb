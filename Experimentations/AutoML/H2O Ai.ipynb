{
 "cells": [
  {
   "cell_type": "code",
   "execution_count": null,
   "metadata": {},
   "outputs": [],
   "source": [
    "import h2o\n",
    "from h2o.automl import H2OAutoML\n",
    "h2o.init()\n"
   ]
  },
  {
   "cell_type": "code",
   "execution_count": null,
   "metadata": {},
   "outputs": [],
   "source": [
    "# Import necessary libraries for data handling and machine learning\n",
    "from dataclasses import dataclass\n",
    "import pandas as pd\n",
    "import h2o\n",
    "from h2o.automl import H2OAutoML\n",
    "\n",
    "# Create a data class to store my AutoML parameters\n",
    "@dataclass\n",
    "class H2OAutoMLParams:\n",
    "    df: pd.DataFrame  # This will hold my DataFrame\n",
    "    y: str            # This is my target column that I want to predict\n",
    "    path: str = \"./\"  # I will save my model here\n",
    "\n",
    "# Start my H2O session to initialize the H2O machine learning environment\n",
    "h2o.init(max_mem_size=\"4G\")  # I allocate 4 GB of memory to H2O; adjust if needed\n",
    "\n",
    "# Load my dataset from a CSV file into a Pandas DataFrame\n",
    "# I need to replace '/path/to/train_df.csv' with the actual path to the CSV on my local machine\n",
    "train_df = pd.read_csv(\"train_df.csv\")\n",
    "\n",
    "# Now I'll set up my AutoML parameters, including the path to save the model\n",
    "# I already know that my target variable for prediction is 'at_least_one_conversion'\n",
    "params = H2OAutoMLParams(df=train_df, y='at_least_one_conversion')\n",
    "\n",
    "# Convert my pandas DataFrame into an H2OFrame which is necessary for H2O to process it\n",
    "h2o_df = h2o.H2OFrame(params.df)\n",
    "\n",
    "# Identify my features and target variable\n",
    "# 'at_least_one_conversion' is my target, so I remove it from the list of feature names\n",
    "x = h2o_df.columns\n",
    "x.remove(params.y)\n",
    "\n",
    "# Now I initialize AutoML, setting a limit on the number of models to control runtime\n",
    "# I choose a seed for reproducibility\n",
    "aml = H2OAutoML(max_models=20, seed=1, exclude_algos=[\"DeepLearning\"], verbosity=\"info\")\n",
    "\n",
    "# Train the model on my dataset\n",
    "aml.train(x=x, y=params.y, training_frame=h2o_df)\n",
    "\n",
    "# After training, I can view the leaderboard of models trained by AutoML\n",
    "# This shows me the best performing models on my data\n",
    "lb = aml.leaderboard\n",
    "print(lb.head(rows=lb.nrows))  # Print the leaderboard\n",
    "\n",
    "# I want to save the best performing model to use it later for predictions\n",
    "best_model = aml.leader\n",
    "best_model_path = best_model.download_mojo(path=params.path)\n",
    "print(f\"My best model is saved to: {best_model_path}\")\n",
    "\n",
    "# It's important to close the H2O connection after I'm done\n",
    "h2o.shutdown(prompt=False)"
   ]
  }
 ],
 "metadata": {
  "language_info": {
   "name": "python"
  },
  "orig_nbformat": 4
 },
 "nbformat": 4,
 "nbformat_minor": 2
}
