{
 "cells": [
  {
   "cell_type": "code",
   "execution_count": 6,
   "metadata": {},
   "outputs": [],
   "source": [
    "import pandas as pd\n",
    "import seaborn as sns\n",
    "import matplotlib.pyplot as plt\n",
    "%matplotlib inline\n"
   ]
  },
  {
   "cell_type": "code",
   "execution_count": 14,
   "metadata": {},
   "outputs": [
    {
     "name": "stderr",
     "output_type": "stream",
     "text": [
      "/var/folders/rj/g3r71fsx2vnbbbjb9v368gr00000gp/T/ipykernel_7108/2924011506.py:1: DtypeWarning: Columns (0) have mixed types. Specify dtype option on import or set low_memory=False.\n",
      "  df=pd.read_csv('/Users/Abdul/Desktop/MMA/Enterprise Data Science/final_df.csv')\n"
     ]
    },
    {
     "data": {
      "text/html": [
       "<div>\n",
       "<style scoped>\n",
       "    .dataframe tbody tr th:only-of-type {\n",
       "        vertical-align: middle;\n",
       "    }\n",
       "\n",
       "    .dataframe tbody tr th {\n",
       "        vertical-align: top;\n",
       "    }\n",
       "\n",
       "    .dataframe thead th {\n",
       "        text-align: right;\n",
       "    }\n",
       "</style>\n",
       "<table border=\"1\" class=\"dataframe\">\n",
       "  <thead>\n",
       "    <tr style=\"text-align: right;\">\n",
       "      <th></th>\n",
       "      <th>fullVisitorId</th>\n",
       "      <th>FirstChannelVisit</th>\n",
       "      <th>LastChannelVisit</th>\n",
       "      <th>at_least_one_conversion</th>\n",
       "      <th>country</th>\n",
       "      <th>continent</th>\n",
       "      <th>subContinent</th>\n",
       "      <th>TotalVisits</th>\n",
       "      <th>TotalBounces</th>\n",
       "      <th>Organic Search</th>\n",
       "      <th>...</th>\n",
       "      <th>Display</th>\n",
       "      <th>(Other)</th>\n",
       "      <th>TotalPageviews</th>\n",
       "      <th>desktop</th>\n",
       "      <th>mobile</th>\n",
       "      <th>tablet</th>\n",
       "      <th>FirstSessionPageviews</th>\n",
       "      <th>LastSessionPageviews</th>\n",
       "      <th>Conversion</th>\n",
       "      <th>CampaignVisits</th>\n",
       "    </tr>\n",
       "  </thead>\n",
       "  <tbody>\n",
       "    <tr>\n",
       "      <th>0</th>\n",
       "      <td>4823595352351</td>\n",
       "      <td>Organic Search</td>\n",
       "      <td>Organic Search</td>\n",
       "      <td>0</td>\n",
       "      <td>China</td>\n",
       "      <td>Asia</td>\n",
       "      <td>Eastern Asia</td>\n",
       "      <td>1</td>\n",
       "      <td>1</td>\n",
       "      <td>1</td>\n",
       "      <td>...</td>\n",
       "      <td>0</td>\n",
       "      <td>0</td>\n",
       "      <td>1</td>\n",
       "      <td>1</td>\n",
       "      <td>0</td>\n",
       "      <td>0</td>\n",
       "      <td>1</td>\n",
       "      <td>1</td>\n",
       "      <td>0</td>\n",
       "      <td>0</td>\n",
       "    </tr>\n",
       "    <tr>\n",
       "      <th>1</th>\n",
       "      <td>5103959234087</td>\n",
       "      <td>Organic Search</td>\n",
       "      <td>Organic Search</td>\n",
       "      <td>0</td>\n",
       "      <td>United States</td>\n",
       "      <td>Americas</td>\n",
       "      <td>Northern America</td>\n",
       "      <td>1</td>\n",
       "      <td>0</td>\n",
       "      <td>1</td>\n",
       "      <td>...</td>\n",
       "      <td>0</td>\n",
       "      <td>0</td>\n",
       "      <td>8</td>\n",
       "      <td>0</td>\n",
       "      <td>1</td>\n",
       "      <td>0</td>\n",
       "      <td>8</td>\n",
       "      <td>8</td>\n",
       "      <td>0</td>\n",
       "      <td>0</td>\n",
       "    </tr>\n",
       "    <tr>\n",
       "      <th>2</th>\n",
       "      <td>10278554503158</td>\n",
       "      <td>Organic Search</td>\n",
       "      <td>Organic Search</td>\n",
       "      <td>0</td>\n",
       "      <td>New Zealand</td>\n",
       "      <td>Oceania</td>\n",
       "      <td>Australasia</td>\n",
       "      <td>1</td>\n",
       "      <td>0</td>\n",
       "      <td>1</td>\n",
       "      <td>...</td>\n",
       "      <td>0</td>\n",
       "      <td>0</td>\n",
       "      <td>8</td>\n",
       "      <td>1</td>\n",
       "      <td>0</td>\n",
       "      <td>0</td>\n",
       "      <td>8</td>\n",
       "      <td>8</td>\n",
       "      <td>0</td>\n",
       "      <td>0</td>\n",
       "    </tr>\n",
       "    <tr>\n",
       "      <th>3</th>\n",
       "      <td>20424342248747</td>\n",
       "      <td>Organic Search</td>\n",
       "      <td>Organic Search</td>\n",
       "      <td>0</td>\n",
       "      <td>Peru</td>\n",
       "      <td>Americas</td>\n",
       "      <td>South America</td>\n",
       "      <td>1</td>\n",
       "      <td>0</td>\n",
       "      <td>1</td>\n",
       "      <td>...</td>\n",
       "      <td>0</td>\n",
       "      <td>0</td>\n",
       "      <td>13</td>\n",
       "      <td>1</td>\n",
       "      <td>0</td>\n",
       "      <td>0</td>\n",
       "      <td>13</td>\n",
       "      <td>13</td>\n",
       "      <td>0</td>\n",
       "      <td>0</td>\n",
       "    </tr>\n",
       "    <tr>\n",
       "      <th>4</th>\n",
       "      <td>26722803385797</td>\n",
       "      <td>Organic Search</td>\n",
       "      <td>Organic Search</td>\n",
       "      <td>0</td>\n",
       "      <td>United Kingdom</td>\n",
       "      <td>Europe</td>\n",
       "      <td>Northern Europe</td>\n",
       "      <td>1</td>\n",
       "      <td>0</td>\n",
       "      <td>1</td>\n",
       "      <td>...</td>\n",
       "      <td>0</td>\n",
       "      <td>0</td>\n",
       "      <td>2</td>\n",
       "      <td>1</td>\n",
       "      <td>0</td>\n",
       "      <td>0</td>\n",
       "      <td>2</td>\n",
       "      <td>2</td>\n",
       "      <td>0</td>\n",
       "      <td>0</td>\n",
       "    </tr>\n",
       "  </tbody>\n",
       "</table>\n",
       "<p>5 rows × 25 columns</p>\n",
       "</div>"
      ],
      "text/plain": [
       "    fullVisitorId FirstChannelVisit LastChannelVisit  at_least_one_conversion  \\\n",
       "0   4823595352351    Organic Search   Organic Search                        0   \n",
       "1   5103959234087    Organic Search   Organic Search                        0   \n",
       "2  10278554503158    Organic Search   Organic Search                        0   \n",
       "3  20424342248747    Organic Search   Organic Search                        0   \n",
       "4  26722803385797    Organic Search   Organic Search                        0   \n",
       "\n",
       "          country continent      subContinent  TotalVisits  TotalBounces  \\\n",
       "0           China      Asia      Eastern Asia            1             1   \n",
       "1   United States  Americas  Northern America            1             0   \n",
       "2     New Zealand   Oceania       Australasia            1             0   \n",
       "3            Peru  Americas     South America            1             0   \n",
       "4  United Kingdom    Europe   Northern Europe            1             0   \n",
       "\n",
       "   Organic Search  ...  Display  (Other)  TotalPageviews  desktop  mobile  \\\n",
       "0               1  ...        0        0               1        1       0   \n",
       "1               1  ...        0        0               8        0       1   \n",
       "2               1  ...        0        0               8        1       0   \n",
       "3               1  ...        0        0              13        1       0   \n",
       "4               1  ...        0        0               2        1       0   \n",
       "\n",
       "   tablet  FirstSessionPageviews  LastSessionPageviews  Conversion  \\\n",
       "0       0                      1                     1           0   \n",
       "1       0                      8                     8           0   \n",
       "2       0                      8                     8           0   \n",
       "3       0                     13                    13           0   \n",
       "4       0                      2                     2           0   \n",
       "\n",
       "   CampaignVisits  \n",
       "0               0  \n",
       "1               0  \n",
       "2               0  \n",
       "3               0  \n",
       "4               0  \n",
       "\n",
       "[5 rows x 25 columns]"
      ]
     },
     "execution_count": 14,
     "metadata": {},
     "output_type": "execute_result"
    }
   ],
   "source": [
    "df=pd.read_csv('/Users/Abdul/Desktop/MMA/Enterprise Data Science/final_df.csv')\n",
    "df.head()"
   ]
  },
  {
   "cell_type": "code",
   "execution_count": 15,
   "metadata": {},
   "outputs": [
    {
     "name": "stdout",
     "output_type": "stream",
     "text": [
      "<class 'pandas.core.frame.DataFrame'>\n",
      "RangeIndex: 723803 entries, 0 to 723802\n",
      "Data columns (total 25 columns):\n",
      " #   Column                   Non-Null Count   Dtype \n",
      "---  ------                   --------------   ----- \n",
      " 0   fullVisitorId            723803 non-null  object\n",
      " 1   FirstChannelVisit        723803 non-null  object\n",
      " 2   LastChannelVisit         723803 non-null  object\n",
      " 3   at_least_one_conversion  723803 non-null  int64 \n",
      " 4   country                  723803 non-null  object\n",
      " 5   continent                723803 non-null  object\n",
      " 6   subContinent             723803 non-null  object\n",
      " 7   TotalVisits              723803 non-null  int64 \n",
      " 8   TotalBounces             723803 non-null  int64 \n",
      " 9   Organic Search           723803 non-null  int64 \n",
      " 10  Social                   723803 non-null  int64 \n",
      " 11  Direct                   723803 non-null  int64 \n",
      " 12  Paid Search              723803 non-null  int64 \n",
      " 13  Referral                 723803 non-null  int64 \n",
      " 14  Affiliates               723803 non-null  int64 \n",
      " 15  Display                  723803 non-null  int64 \n",
      " 16  (Other)                  723803 non-null  int64 \n",
      " 17  TotalPageviews           723803 non-null  int64 \n",
      " 18  desktop                  723803 non-null  int64 \n",
      " 19  mobile                   723803 non-null  int64 \n",
      " 20  tablet                   723803 non-null  int64 \n",
      " 21  FirstSessionPageviews    723803 non-null  int64 \n",
      " 22  LastSessionPageviews     723803 non-null  int64 \n",
      " 23  Conversion               723803 non-null  int64 \n",
      " 24  CampaignVisits           723803 non-null  int64 \n",
      "dtypes: int64(19), object(6)\n",
      "memory usage: 138.1+ MB\n"
     ]
    }
   ],
   "source": [
    "df.info()"
   ]
  },
  {
   "cell_type": "code",
   "execution_count": 16,
   "metadata": {},
   "outputs": [
    {
     "data": {
      "text/plain": [
       "Index(['fullVisitorId', 'FirstChannelVisit', 'LastChannelVisit',\n",
       "       'at_least_one_conversion', 'country', 'continent', 'subContinent',\n",
       "       'TotalVisits', 'TotalBounces', 'Organic Search', 'Social', 'Direct',\n",
       "       'Paid Search', 'Referral', 'Affiliates', 'Display', '(Other)',\n",
       "       'TotalPageviews', 'desktop', 'mobile', 'tablet',\n",
       "       'FirstSessionPageviews', 'LastSessionPageviews', 'Conversion',\n",
       "       'CampaignVisits'],\n",
       "      dtype='object')"
      ]
     },
     "execution_count": 16,
     "metadata": {},
     "output_type": "execute_result"
    }
   ],
   "source": [
    "df.columns"
   ]
  },
  {
   "cell_type": "code",
   "execution_count": 17,
   "metadata": {},
   "outputs": [],
   "source": [
    "df.drop(['Conversion','fullVisitorId','country'],axis=1,inplace=True)"
   ]
  },
  {
   "cell_type": "code",
   "execution_count": 18,
   "metadata": {},
   "outputs": [
    {
     "name": "stdout",
     "output_type": "stream",
     "text": [
      "at_least_one_conversion\n",
      "0    0.986027\n",
      "1    0.013973\n",
      "Name: proportion, dtype: float64\n"
     ]
    },
    {
     "name": "stderr",
     "output_type": "stream",
     "text": [
      "/Users/Abdul/opt/anaconda3/lib/python3.9/site-packages/seaborn/_oldcore.py:1498: FutureWarning: is_categorical_dtype is deprecated and will be removed in a future version. Use isinstance(dtype, CategoricalDtype) instead\n",
      "  if pd.api.types.is_categorical_dtype(vector):\n",
      "/Users/Abdul/opt/anaconda3/lib/python3.9/site-packages/seaborn/_oldcore.py:1498: FutureWarning: is_categorical_dtype is deprecated and will be removed in a future version. Use isinstance(dtype, CategoricalDtype) instead\n",
      "  if pd.api.types.is_categorical_dtype(vector):\n",
      "/Users/Abdul/opt/anaconda3/lib/python3.9/site-packages/seaborn/_oldcore.py:1498: FutureWarning: is_categorical_dtype is deprecated and will be removed in a future version. Use isinstance(dtype, CategoricalDtype) instead\n",
      "  if pd.api.types.is_categorical_dtype(vector):\n"
     ]
    },
    {
     "data": {
      "image/png": "[encoded data removed]",
      "text/plain": [
       "<Figure size 640x480 with 1 Axes>"
      ]
     },
     "metadata": {},
     "output_type": "display_data"
    }
   ],
   "source": [
    "# Checking the class distribution of the target variable\n",
    "print(df['at_least_one_conversion'].value_counts(normalize=True))\n",
    "sns.countplot(x=df['at_least_one_conversion']);"
   ]
  },
  {
   "cell_type": "code",
   "execution_count": 19,
   "metadata": {},
   "outputs": [],
   "source": [
    "cat_cols = df.select_dtypes(include='object').columns\n",
    "\n",
    "df=pd.get_dummies(df,columns=cat_cols,drop_first=True, dtype='int64')"
   ]
  },
  {
   "cell_type": "code",
   "execution_count": 20,
   "metadata": {},
   "outputs": [
    {
     "data": {
      "text/plain": [
       "(723803, 59)"
      ]
     },
     "execution_count": 20,
     "metadata": {},
     "output_type": "execute_result"
    }
   ],
   "source": [
    "df.shape"
   ]
  },
  {
   "cell_type": "code",
   "execution_count": null,
   "metadata": {},
   "outputs": [],
   "source": [
    "X=df.drop('at_least_one_conversion',axis=1)\n",
    "y=df['at_least_one_conversion']"
   ]
  }
 ],
 "metadata": {
  "kernelspec": {
   "display_name": "Python 3 (ipykernel)",
   "language": "python",
   "name": "python3"
  },
  "language_info": {
   "codemirror_mode": {
    "name": "ipython",
    "version": 3
   },
   "file_extension": ".py",
   "mimetype": "text/x-python",
   "name": "python",
   "nbconvert_exporter": "python",
   "pygments_lexer": "ipython3",
   "version": "3.9.18"
  }
 },
 "nbformat": 4,
 "nbformat_minor": 2
}
