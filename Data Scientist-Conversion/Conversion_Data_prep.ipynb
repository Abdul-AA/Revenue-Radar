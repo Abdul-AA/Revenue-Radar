{
 "cells": [
  {
   "cell_type": "code",
   "execution_count": 461,
   "metadata": {},
   "outputs": [],
   "source": [
    "import pandas as pd"
   ]
  },
  {
   "cell_type": "code",
   "execution_count": 462,
   "metadata": {},
   "outputs": [
    {
     "name": "stderr",
     "output_type": "stream",
     "text": [
      "/var/folders/rj/g3r71fsx2vnbbbjb9v368gr00000gp/T/ipykernel_4465/3898126540.py:1: DtypeWarning: Columns (2,54) have mixed types. Specify dtype option on import or set low_memory=False.\n",
      "  df=pd.read_csv('/Users/Abdul/Desktop/MMA/Enterprise Data Science/Revenue-Radar/Data/train_dejsonified.csv', parse_dates=['date'])\n"
     ]
    }
   ],
   "source": [
    "df=pd.read_csv('/Users/Abdul/Desktop/MMA/Enterprise Data Science/Revenue-Radar/Data/train_dejsonified.csv', parse_dates=['date'])"
   ]
  },
  {
   "cell_type": "code",
   "execution_count": 463,
   "metadata": {},
   "outputs": [
    {
     "name": "stdout",
     "output_type": "stream",
     "text": [
      "<class 'pandas.core.frame.DataFrame'>\n",
      "RangeIndex: 903653 entries, 0 to 903652\n",
      "Data columns (total 55 columns):\n",
      " #   Column                               Non-Null Count   Dtype         \n",
      "---  ------                               --------------   -----         \n",
      " 0   channelGrouping                      903653 non-null  object        \n",
      " 1   date                                 903653 non-null  datetime64[ns]\n",
      " 2   fullVisitorId                        903653 non-null  object        \n",
      " 3   sessionId                            903653 non-null  object        \n",
      " 4   socialEngagementType                 903653 non-null  object        \n",
      " 5   visitId                              903653 non-null  int64         \n",
      " 6   visitNumber                          903653 non-null  int64         \n",
      " 7   visitStartTime                       903653 non-null  int64         \n",
      " 8   continent                            903653 non-null  object        \n",
      " 9   subContinent                         903653 non-null  object        \n",
      " 10  country                              903653 non-null  object        \n",
      " 11  region                               903653 non-null  object        \n",
      " 12  metro                                903653 non-null  object        \n",
      " 13  city                                 903653 non-null  object        \n",
      " 14  cityId                               903653 non-null  object        \n",
      " 15  networkDomain                        903653 non-null  object        \n",
      " 16  latitude                             903653 non-null  object        \n",
      " 17  longitude                            903653 non-null  object        \n",
      " 18  networkLocation                      903653 non-null  object        \n",
      " 19  browser                              903653 non-null  object        \n",
      " 20  browserVersion                       903653 non-null  object        \n",
      " 21  browserSize                          903653 non-null  object        \n",
      " 22  operatingSystem                      903653 non-null  object        \n",
      " 23  operatingSystemVersion               903653 non-null  object        \n",
      " 24  isMobile                             903653 non-null  bool          \n",
      " 25  mobileDeviceBranding                 903653 non-null  object        \n",
      " 26  mobileDeviceModel                    903653 non-null  object        \n",
      " 27  mobileInputSelector                  903653 non-null  object        \n",
      " 28  mobileDeviceInfo                     903653 non-null  object        \n",
      " 29  mobileDeviceMarketingName            903653 non-null  object        \n",
      " 30  flashVersion                         903653 non-null  object        \n",
      " 31  language                             903653 non-null  object        \n",
      " 32  screenColors                         903653 non-null  object        \n",
      " 33  screenResolution                     903653 non-null  object        \n",
      " 34  deviceCategory                       903653 non-null  object        \n",
      " 35  visits                               903653 non-null  int64         \n",
      " 36  hits                                 903653 non-null  int64         \n",
      " 37  pageviews                            903553 non-null  float64       \n",
      " 38  bounces                              450630 non-null  float64       \n",
      " 39  newVisits                            703060 non-null  float64       \n",
      " 40  transactionRevenue                   11515 non-null   float64       \n",
      " 41  campaign                             903653 non-null  object        \n",
      " 42  source                               903653 non-null  object        \n",
      " 43  medium                               903653 non-null  object        \n",
      " 44  keyword                              400724 non-null  object        \n",
      " 45  adwordsClickInfo.criteriaParameters  903653 non-null  object        \n",
      " 46  isTrueDirect                         274005 non-null  object        \n",
      " 47  referralPath                         330941 non-null  object        \n",
      " 48  adwordsClickInfo.page                21460 non-null   float64       \n",
      " 49  adwordsClickInfo.slot                21460 non-null   object        \n",
      " 50  adwordsClickInfo.gclId               21561 non-null   object        \n",
      " 51  adwordsClickInfo.adNetworkType       21460 non-null   object        \n",
      " 52  adwordsClickInfo.isVideoAd           21460 non-null   object        \n",
      " 53  adContent                            10946 non-null   object        \n",
      " 54  campaignCode                         1 non-null       object        \n",
      "dtypes: bool(1), datetime64[ns](1), float64(5), int64(5), object(43)\n",
      "memory usage: 373.2+ MB\n"
     ]
    }
   ],
   "source": [
    "# Exploring the dataset; checking the data types of the columns\n",
    "df.info()"
   ]
  },
  {
   "cell_type": "code",
   "execution_count": 464,
   "metadata": {},
   "outputs": [
    {
     "data": {
      "text/plain": [
       "channelGrouping                             0\n",
       "date                                        0\n",
       "fullVisitorId                               0\n",
       "sessionId                                   0\n",
       "socialEngagementType                        0\n",
       "visitId                                     0\n",
       "visitNumber                                 0\n",
       "visitStartTime                              0\n",
       "continent                                   0\n",
       "subContinent                                0\n",
       "country                                     0\n",
       "region                                      0\n",
       "metro                                       0\n",
       "city                                        0\n",
       "cityId                                      0\n",
       "networkDomain                               0\n",
       "latitude                                    0\n",
       "longitude                                   0\n",
       "networkLocation                             0\n",
       "browser                                     0\n",
       "browserVersion                              0\n",
       "browserSize                                 0\n",
       "operatingSystem                             0\n",
       "operatingSystemVersion                      0\n",
       "isMobile                                    0\n",
       "mobileDeviceBranding                        0\n",
       "mobileDeviceModel                           0\n",
       "mobileInputSelector                         0\n",
       "mobileDeviceInfo                            0\n",
       "mobileDeviceMarketingName                   0\n",
       "flashVersion                                0\n",
       "language                                    0\n",
       "screenColors                                0\n",
       "screenResolution                            0\n",
       "deviceCategory                              0\n",
       "visits                                      0\n",
       "hits                                        0\n",
       "pageviews                                 100\n",
       "bounces                                453023\n",
       "newVisits                              200593\n",
       "transactionRevenue                     892138\n",
       "campaign                                    0\n",
       "source                                      0\n",
       "medium                                      0\n",
       "keyword                                502929\n",
       "adwordsClickInfo.criteriaParameters         0\n",
       "isTrueDirect                           629648\n",
       "referralPath                           572712\n",
       "adwordsClickInfo.page                  882193\n",
       "adwordsClickInfo.slot                  882193\n",
       "adwordsClickInfo.gclId                 882092\n",
       "adwordsClickInfo.adNetworkType         882193\n",
       "adwordsClickInfo.isVideoAd             882193\n",
       "adContent                              892707\n",
       "campaignCode                           903652\n",
       "dtype: int64"
      ]
     },
     "execution_count": 464,
     "metadata": {},
     "output_type": "execute_result"
    }
   ],
   "source": [
    "# Checking null values in the dataset\n",
    "# Note that null values in the transactionRevenue column means that the customer did not make a purchase\n",
    "df.isnull().sum()"
   ]
  },
  {
   "cell_type": "markdown",
   "metadata": {},
   "source": [
    "#### Preparing the dataset for the classification model"
   ]
  },
  {
   "cell_type": "code",
   "execution_count": null,
   "metadata": {},
   "outputs": [],
   "source": [
    "df.columns.to_list()"
   ]
  },
  {
   "cell_type": "code",
   "execution_count": 466,
   "metadata": {},
   "outputs": [
    {
     "data": {
      "text/plain": [
       "channelGrouping                             8\n",
       "date                                      366\n",
       "fullVisitorId                          723803\n",
       "sessionId                              902755\n",
       "socialEngagementType                        1\n",
       "visitId                                886303\n",
       "visitNumber                               384\n",
       "visitStartTime                         887159\n",
       "continent                                   6\n",
       "subContinent                               23\n",
       "country                                   222\n",
       "region                                    376\n",
       "metro                                      94\n",
       "city                                      649\n",
       "cityId                                      1\n",
       "networkDomain                           28064\n",
       "latitude                                    1\n",
       "longitude                                   1\n",
       "networkLocation                             1\n",
       "browser                                    54\n",
       "browserVersion                              1\n",
       "browserSize                                 1\n",
       "operatingSystem                            20\n",
       "operatingSystemVersion                      1\n",
       "isMobile                                    2\n",
       "mobileDeviceBranding                        1\n",
       "mobileDeviceModel                           1\n",
       "mobileInputSelector                         1\n",
       "mobileDeviceInfo                            1\n",
       "mobileDeviceMarketingName                   1\n",
       "flashVersion                                1\n",
       "language                                    1\n",
       "screenColors                                1\n",
       "screenResolution                            1\n",
       "deviceCategory                              3\n",
       "visits                                      1\n",
       "hits                                      274\n",
       "pageviews                                 213\n",
       "bounces                                     1\n",
       "newVisits                                   1\n",
       "transactionRevenue                       5332\n",
       "campaign                                   10\n",
       "source                                    380\n",
       "medium                                      7\n",
       "keyword                                  3659\n",
       "adwordsClickInfo.criteriaParameters         1\n",
       "isTrueDirect                                1\n",
       "referralPath                             1475\n",
       "adwordsClickInfo.page                       8\n",
       "adwordsClickInfo.slot                       2\n",
       "adwordsClickInfo.gclId                  17774\n",
       "adwordsClickInfo.adNetworkType              2\n",
       "adwordsClickInfo.isVideoAd                  1\n",
       "adContent                                  44\n",
       "campaignCode                                1\n",
       "dtype: int64"
      ]
     },
     "execution_count": 466,
     "metadata": {},
     "output_type": "execute_result"
    }
   ],
   "source": [
    "# Checking the number of unique values in each column\n",
    "df.nunique()"
   ]
  },
  {
   "cell_type": "code",
   "execution_count": 467,
   "metadata": {},
   "outputs": [
    {
     "data": {
      "text/plain": [
       "bounces\n",
       "1.0    450630\n",
       "Name: count, dtype: int64"
      ]
     },
     "execution_count": 467,
     "metadata": {},
     "output_type": "execute_result"
    }
   ],
   "source": [
    "# Checking the unique values in the 'bounces' column\n",
    "df['bounces'].value_counts()"
   ]
  },
  {
   "cell_type": "code",
   "execution_count": 468,
   "metadata": {},
   "outputs": [
    {
     "data": {
      "text/plain": [
       "bounces\n",
       "0.0    453023\n",
       "1.0    450630\n",
       "Name: count, dtype: int64"
      ]
     },
     "execution_count": 468,
     "metadata": {},
     "output_type": "execute_result"
    }
   ],
   "source": [
    "# Replacing the null values in the 'bounces' column with 0\n",
    "df['bounces'].fillna(0, inplace=True)\n",
    "# Checking the unique values in the 'bounces' column after replacing the null values\n",
    "df['bounces'].value_counts()"
   ]
  },
  {
   "cell_type": "code",
   "execution_count": 469,
   "metadata": {},
   "outputs": [
    {
     "data": {
      "text/plain": [
       "['socialEngagementType',\n",
       " 'cityId',\n",
       " 'latitude',\n",
       " 'longitude',\n",
       " 'networkLocation',\n",
       " 'browserVersion',\n",
       " 'browserSize',\n",
       " 'operatingSystemVersion',\n",
       " 'mobileDeviceBranding',\n",
       " 'mobileDeviceModel',\n",
       " 'mobileInputSelector',\n",
       " 'mobileDeviceInfo',\n",
       " 'mobileDeviceMarketingName',\n",
       " 'flashVersion',\n",
       " 'language',\n",
       " 'screenColors',\n",
       " 'screenResolution',\n",
       " 'visits',\n",
       " 'newVisits',\n",
       " 'adwordsClickInfo.criteriaParameters',\n",
       " 'isTrueDirect',\n",
       " 'adwordsClickInfo.isVideoAd',\n",
       " 'campaignCode']"
      ]
     },
     "execution_count": 469,
     "metadata": {},
     "output_type": "execute_result"
    }
   ],
   "source": [
    "# Finding the columns with constant values\n",
    "constant_columns = [col for col in df.columns if df[col].nunique() == 1]     \n",
    "constant_columns"
   ]
  },
  {
   "cell_type": "markdown",
   "metadata": {},
   "source": [
    "### Dealing with Useless Variables\n",
    "\n",
    "Upon inspecting the dataset to determine the useful columns for the use-case and identifying which columns will be dropped, the following observations were made:\n",
    "\n",
    "- The following columns are IDs and are not useful for modeling but may be needed for eda. Will drop before modeling\n",
    "  - `fullVisitorId`\n",
    "  - `sessionId`\n",
    "  - `visitId`\n",
    "  - `cityId`\n",
    "\n",
    "- The following columns are constant across all observations; therefore, all except `bounces` should be dropped. The `bounces` column contains null values and 1s, indicating that the observations with null values represent users who take actions before exiting:\n",
    "  - `socialEngagementType`\n",
    "  - `latitude`\n",
    "  - `longitude`\n",
    "  - `networkLocation`\n",
    "  - `browserVersion`\n",
    "  - `browserSize`\n",
    "  - `operatingSystemVersion`\n",
    "  - `mobileDeviceBranding`\n",
    "  - `mobileDeviceModel`\n",
    "  - `mobileInputSelector`\n",
    "  - `mobileDeviceInfo`\n",
    "  - `mobileDeviceMarketingName`\n",
    "  - `flashVersion`\n",
    "  - `language`\n",
    "  - `screenColors`\n",
    "  - `screenResolution`\n",
    "  - `visits`\n",
    "  - `newVisits`\n",
    "  - `adwordsClickInfo.criteriaParameters`\n",
    "  - `isTrueDirect`\n",
    "  - `adwordsClickInfo.isVideoAd`\n",
    "  - `campaignCode`\n",
    "- The `networkDomain` column has too many unique values; therefore, it should be dropped"
   ]
  },
  {
   "cell_type": "code",
   "execution_count": 470,
   "metadata": {},
   "outputs": [],
   "source": [
    "\n",
    "# dropping columns with many unique values\n",
    "df.drop(['networkDomain','visitStartTime','visitNumber'], axis=1, inplace=True)"
   ]
  },
  {
   "cell_type": "code",
   "execution_count": 471,
   "metadata": {},
   "outputs": [
    {
     "data": {
      "text/plain": [
       "(903653, 52)"
      ]
     },
     "execution_count": 471,
     "metadata": {},
     "output_type": "execute_result"
    }
   ],
   "source": [
    "# Checking the new dimensions of the dataset\n",
    "df.shape"
   ]
  },
  {
   "cell_type": "code",
   "execution_count": 472,
   "metadata": {},
   "outputs": [],
   "source": [
    "\n",
    "# dropping the columns with constant values\n",
    "df.drop(constant_columns, axis=1, inplace=True)"
   ]
  },
  {
   "cell_type": "code",
   "execution_count": 473,
   "metadata": {},
   "outputs": [
    {
     "data": {
      "text/plain": [
       "(903653, 29)"
      ]
     },
     "execution_count": 473,
     "metadata": {},
     "output_type": "execute_result"
    }
   ],
   "source": [
    "# checking the shape of the dataset after dropping the columns with constant values \n",
    "df.shape"
   ]
  },
  {
   "cell_type": "code",
   "execution_count": 474,
   "metadata": {},
   "outputs": [
    {
     "data": {
      "text/plain": [
       "adContent                         0.987887\n",
       "transactionRevenue                0.987257\n",
       "adwordsClickInfo.adNetworkType    0.976252\n",
       "adwordsClickInfo.slot             0.976252\n",
       "adwordsClickInfo.page             0.976252\n",
       "adwordsClickInfo.gclId            0.976140\n",
       "referralPath                      0.633774\n",
       "keyword                           0.556551\n",
       "pageviews                         0.000111\n",
       "hits                              0.000000\n",
       "medium                            0.000000\n",
       "source                            0.000000\n",
       "campaign                          0.000000\n",
       "bounces                           0.000000\n",
       "channelGrouping                   0.000000\n",
       "date                              0.000000\n",
       "isMobile                          0.000000\n",
       "operatingSystem                   0.000000\n",
       "browser                           0.000000\n",
       "city                              0.000000\n",
       "metro                             0.000000\n",
       "region                            0.000000\n",
       "country                           0.000000\n",
       "subContinent                      0.000000\n",
       "continent                         0.000000\n",
       "visitId                           0.000000\n",
       "sessionId                         0.000000\n",
       "fullVisitorId                     0.000000\n",
       "deviceCategory                    0.000000\n",
       "dtype: float64"
      ]
     },
     "execution_count": 474,
     "metadata": {},
     "output_type": "execute_result"
    }
   ],
   "source": [
    "# Calculaing the proportion of missing values in each column\n",
    "missing_values = df.isnull().mean().sort_values(ascending=False)\n",
    "missing_values"
   ]
  },
  {
   "cell_type": "code",
   "execution_count": 475,
   "metadata": {},
   "outputs": [
    {
     "data": {
      "text/plain": [
       "channelGrouping                        0\n",
       "date                                   0\n",
       "fullVisitorId                          0\n",
       "sessionId                              0\n",
       "visitId                                0\n",
       "continent                              0\n",
       "subContinent                           0\n",
       "country                                0\n",
       "region                                 0\n",
       "metro                                  0\n",
       "city                                   0\n",
       "browser                                0\n",
       "operatingSystem                        0\n",
       "isMobile                               0\n",
       "deviceCategory                         0\n",
       "hits                                   0\n",
       "pageviews                            100\n",
       "bounces                                0\n",
       "transactionRevenue                892138\n",
       "campaign                               0\n",
       "source                                 0\n",
       "medium                                 0\n",
       "keyword                           502929\n",
       "referralPath                      572712\n",
       "adwordsClickInfo.page             882193\n",
       "adwordsClickInfo.slot             882193\n",
       "adwordsClickInfo.gclId            882092\n",
       "adwordsClickInfo.adNetworkType    882193\n",
       "adContent                         892707\n",
       "dtype: int64"
      ]
     },
     "execution_count": 475,
     "metadata": {},
     "output_type": "execute_result"
    }
   ],
   "source": [
    "# Checking the number of null values in the dataset\n",
    "df.isnull().sum()"
   ]
  },
  {
   "cell_type": "code",
   "execution_count": 476,
   "metadata": {},
   "outputs": [
    {
     "data": {
      "text/html": [
       "<div>\n",
       "<style scoped>\n",
       "    .dataframe tbody tr th:only-of-type {\n",
       "        vertical-align: middle;\n",
       "    }\n",
       "\n",
       "    .dataframe tbody tr th {\n",
       "        vertical-align: top;\n",
       "    }\n",
       "\n",
       "    .dataframe thead th {\n",
       "        text-align: right;\n",
       "    }\n",
       "</style>\n",
       "<table border=\"1\" class=\"dataframe\">\n",
       "  <thead>\n",
       "    <tr style=\"text-align: right;\">\n",
       "      <th></th>\n",
       "      <th>channelGrouping</th>\n",
       "      <th>date</th>\n",
       "      <th>fullVisitorId</th>\n",
       "      <th>sessionId</th>\n",
       "      <th>visitId</th>\n",
       "      <th>continent</th>\n",
       "      <th>subContinent</th>\n",
       "      <th>country</th>\n",
       "      <th>region</th>\n",
       "      <th>metro</th>\n",
       "      <th>...</th>\n",
       "      <th>campaign</th>\n",
       "      <th>source</th>\n",
       "      <th>medium</th>\n",
       "      <th>keyword</th>\n",
       "      <th>referralPath</th>\n",
       "      <th>adwordsClickInfo.page</th>\n",
       "      <th>adwordsClickInfo.slot</th>\n",
       "      <th>adwordsClickInfo.gclId</th>\n",
       "      <th>adwordsClickInfo.adNetworkType</th>\n",
       "      <th>adContent</th>\n",
       "    </tr>\n",
       "  </thead>\n",
       "  <tbody>\n",
       "    <tr>\n",
       "      <th>0</th>\n",
       "      <td>Organic Search</td>\n",
       "      <td>2016-09-02</td>\n",
       "      <td>1131660440785968503</td>\n",
       "      <td>1131660440785968503_1472830385</td>\n",
       "      <td>1472830385</td>\n",
       "      <td>Asia</td>\n",
       "      <td>Western Asia</td>\n",
       "      <td>Turkey</td>\n",
       "      <td>Izmir</td>\n",
       "      <td>(not set)</td>\n",
       "      <td>...</td>\n",
       "      <td>(not set)</td>\n",
       "      <td>google</td>\n",
       "      <td>organic</td>\n",
       "      <td>(not provided)</td>\n",
       "      <td>NaN</td>\n",
       "      <td>NaN</td>\n",
       "      <td>NaN</td>\n",
       "      <td>NaN</td>\n",
       "      <td>NaN</td>\n",
       "      <td>NaN</td>\n",
       "    </tr>\n",
       "    <tr>\n",
       "      <th>1</th>\n",
       "      <td>Organic Search</td>\n",
       "      <td>2016-09-02</td>\n",
       "      <td>377306020877927890</td>\n",
       "      <td>377306020877927890_1472880147</td>\n",
       "      <td>1472880147</td>\n",
       "      <td>Oceania</td>\n",
       "      <td>Australasia</td>\n",
       "      <td>Australia</td>\n",
       "      <td>not available in demo dataset</td>\n",
       "      <td>not available in demo dataset</td>\n",
       "      <td>...</td>\n",
       "      <td>(not set)</td>\n",
       "      <td>google</td>\n",
       "      <td>organic</td>\n",
       "      <td>(not provided)</td>\n",
       "      <td>NaN</td>\n",
       "      <td>NaN</td>\n",
       "      <td>NaN</td>\n",
       "      <td>NaN</td>\n",
       "      <td>NaN</td>\n",
       "      <td>NaN</td>\n",
       "    </tr>\n",
       "    <tr>\n",
       "      <th>2</th>\n",
       "      <td>Organic Search</td>\n",
       "      <td>2016-09-02</td>\n",
       "      <td>3895546263509774583</td>\n",
       "      <td>3895546263509774583_1472865386</td>\n",
       "      <td>1472865386</td>\n",
       "      <td>Europe</td>\n",
       "      <td>Southern Europe</td>\n",
       "      <td>Spain</td>\n",
       "      <td>Community of Madrid</td>\n",
       "      <td>(not set)</td>\n",
       "      <td>...</td>\n",
       "      <td>(not set)</td>\n",
       "      <td>google</td>\n",
       "      <td>organic</td>\n",
       "      <td>(not provided)</td>\n",
       "      <td>NaN</td>\n",
       "      <td>NaN</td>\n",
       "      <td>NaN</td>\n",
       "      <td>NaN</td>\n",
       "      <td>NaN</td>\n",
       "      <td>NaN</td>\n",
       "    </tr>\n",
       "    <tr>\n",
       "      <th>3</th>\n",
       "      <td>Organic Search</td>\n",
       "      <td>2016-09-02</td>\n",
       "      <td>4763447161404445595</td>\n",
       "      <td>4763447161404445595_1472881213</td>\n",
       "      <td>1472881213</td>\n",
       "      <td>Asia</td>\n",
       "      <td>Southeast Asia</td>\n",
       "      <td>Indonesia</td>\n",
       "      <td>not available in demo dataset</td>\n",
       "      <td>not available in demo dataset</td>\n",
       "      <td>...</td>\n",
       "      <td>(not set)</td>\n",
       "      <td>google</td>\n",
       "      <td>organic</td>\n",
       "      <td>google + online</td>\n",
       "      <td>NaN</td>\n",
       "      <td>NaN</td>\n",
       "      <td>NaN</td>\n",
       "      <td>NaN</td>\n",
       "      <td>NaN</td>\n",
       "      <td>NaN</td>\n",
       "    </tr>\n",
       "    <tr>\n",
       "      <th>4</th>\n",
       "      <td>Organic Search</td>\n",
       "      <td>2016-09-02</td>\n",
       "      <td>27294437909732085</td>\n",
       "      <td>27294437909732085_1472822600</td>\n",
       "      <td>1472822600</td>\n",
       "      <td>Europe</td>\n",
       "      <td>Northern Europe</td>\n",
       "      <td>United Kingdom</td>\n",
       "      <td>not available in demo dataset</td>\n",
       "      <td>not available in demo dataset</td>\n",
       "      <td>...</td>\n",
       "      <td>(not set)</td>\n",
       "      <td>google</td>\n",
       "      <td>organic</td>\n",
       "      <td>(not provided)</td>\n",
       "      <td>NaN</td>\n",
       "      <td>NaN</td>\n",
       "      <td>NaN</td>\n",
       "      <td>NaN</td>\n",
       "      <td>NaN</td>\n",
       "      <td>NaN</td>\n",
       "    </tr>\n",
       "  </tbody>\n",
       "</table>\n",
       "<p>5 rows × 29 columns</p>\n",
       "</div>"
      ],
      "text/plain": [
       "  channelGrouping       date        fullVisitorId  \\\n",
       "0  Organic Search 2016-09-02  1131660440785968503   \n",
       "1  Organic Search 2016-09-02   377306020877927890   \n",
       "2  Organic Search 2016-09-02  3895546263509774583   \n",
       "3  Organic Search 2016-09-02  4763447161404445595   \n",
       "4  Organic Search 2016-09-02    27294437909732085   \n",
       "\n",
       "                        sessionId     visitId continent     subContinent  \\\n",
       "0  1131660440785968503_1472830385  1472830385      Asia     Western Asia   \n",
       "1   377306020877927890_1472880147  1472880147   Oceania      Australasia   \n",
       "2  3895546263509774583_1472865386  1472865386    Europe  Southern Europe   \n",
       "3  4763447161404445595_1472881213  1472881213      Asia   Southeast Asia   \n",
       "4    27294437909732085_1472822600  1472822600    Europe  Northern Europe   \n",
       "\n",
       "          country                         region  \\\n",
       "0          Turkey                          Izmir   \n",
       "1       Australia  not available in demo dataset   \n",
       "2           Spain            Community of Madrid   \n",
       "3       Indonesia  not available in demo dataset   \n",
       "4  United Kingdom  not available in demo dataset   \n",
       "\n",
       "                           metro  ...   campaign  source   medium  \\\n",
       "0                      (not set)  ...  (not set)  google  organic   \n",
       "1  not available in demo dataset  ...  (not set)  google  organic   \n",
       "2                      (not set)  ...  (not set)  google  organic   \n",
       "3  not available in demo dataset  ...  (not set)  google  organic   \n",
       "4  not available in demo dataset  ...  (not set)  google  organic   \n",
       "\n",
       "           keyword referralPath  adwordsClickInfo.page  adwordsClickInfo.slot  \\\n",
       "0   (not provided)          NaN                    NaN                    NaN   \n",
       "1   (not provided)          NaN                    NaN                    NaN   \n",
       "2   (not provided)          NaN                    NaN                    NaN   \n",
       "3  google + online          NaN                    NaN                    NaN   \n",
       "4   (not provided)          NaN                    NaN                    NaN   \n",
       "\n",
       "   adwordsClickInfo.gclId  adwordsClickInfo.adNetworkType adContent  \n",
       "0                     NaN                             NaN       NaN  \n",
       "1                     NaN                             NaN       NaN  \n",
       "2                     NaN                             NaN       NaN  \n",
       "3                     NaN                             NaN       NaN  \n",
       "4                     NaN                             NaN       NaN  \n",
       "\n",
       "[5 rows x 29 columns]"
      ]
     },
     "execution_count": 476,
     "metadata": {},
     "output_type": "execute_result"
    }
   ],
   "source": [
    "df.head()"
   ]
  },
  {
   "cell_type": "code",
   "execution_count": 477,
   "metadata": {},
   "outputs": [],
   "source": [
    "df.pageviews.fillna(0, inplace=True)"
   ]
  },
  {
   "cell_type": "code",
   "execution_count": 478,
   "metadata": {},
   "outputs": [
    {
     "data": {
      "text/plain": [
       "channelGrouping                        0\n",
       "date                                   0\n",
       "fullVisitorId                          0\n",
       "sessionId                              0\n",
       "visitId                                0\n",
       "continent                              0\n",
       "subContinent                           0\n",
       "country                                0\n",
       "region                                 0\n",
       "metro                                  0\n",
       "city                                   0\n",
       "browser                                0\n",
       "operatingSystem                        0\n",
       "isMobile                               0\n",
       "deviceCategory                         0\n",
       "hits                                   0\n",
       "pageviews                              0\n",
       "bounces                                0\n",
       "transactionRevenue                892138\n",
       "campaign                               0\n",
       "source                                 0\n",
       "medium                                 0\n",
       "keyword                           502929\n",
       "referralPath                      572712\n",
       "adwordsClickInfo.page             882193\n",
       "adwordsClickInfo.slot             882193\n",
       "adwordsClickInfo.gclId            882092\n",
       "adwordsClickInfo.adNetworkType    882193\n",
       "adContent                         892707\n",
       "dtype: int64"
      ]
     },
     "execution_count": 478,
     "metadata": {},
     "output_type": "execute_result"
    }
   ],
   "source": [
    "df.isna().sum()"
   ]
  },
  {
   "cell_type": "code",
   "execution_count": 479,
   "metadata": {},
   "outputs": [
    {
     "name": "stdout",
     "output_type": "stream",
     "text": [
      "<class 'pandas.core.frame.DataFrame'>\n",
      "RangeIndex: 903653 entries, 0 to 903652\n",
      "Data columns (total 29 columns):\n",
      " #   Column                          Non-Null Count   Dtype         \n",
      "---  ------                          --------------   -----         \n",
      " 0   channelGrouping                 903653 non-null  object        \n",
      " 1   date                            903653 non-null  datetime64[ns]\n",
      " 2   fullVisitorId                   903653 non-null  object        \n",
      " 3   sessionId                       903653 non-null  object        \n",
      " 4   visitId                         903653 non-null  int64         \n",
      " 5   continent                       903653 non-null  object        \n",
      " 6   subContinent                    903653 non-null  object        \n",
      " 7   country                         903653 non-null  object        \n",
      " 8   region                          903653 non-null  object        \n",
      " 9   metro                           903653 non-null  object        \n",
      " 10  city                            903653 non-null  object        \n",
      " 11  browser                         903653 non-null  object        \n",
      " 12  operatingSystem                 903653 non-null  object        \n",
      " 13  isMobile                        903653 non-null  bool          \n",
      " 14  deviceCategory                  903653 non-null  object        \n",
      " 15  hits                            903653 non-null  int64         \n",
      " 16  pageviews                       903653 non-null  float64       \n",
      " 17  bounces                         903653 non-null  float64       \n",
      " 18  transactionRevenue              11515 non-null   float64       \n",
      " 19  campaign                        903653 non-null  object        \n",
      " 20  source                          903653 non-null  object        \n",
      " 21  medium                          903653 non-null  object        \n",
      " 22  keyword                         400724 non-null  object        \n",
      " 23  referralPath                    330941 non-null  object        \n",
      " 24  adwordsClickInfo.page           21460 non-null   float64       \n",
      " 25  adwordsClickInfo.slot           21460 non-null   object        \n",
      " 26  adwordsClickInfo.gclId          21561 non-null   object        \n",
      " 27  adwordsClickInfo.adNetworkType  21460 non-null   object        \n",
      " 28  adContent                       10946 non-null   object        \n",
      "dtypes: bool(1), datetime64[ns](1), float64(4), int64(2), object(21)\n",
      "memory usage: 193.9+ MB\n"
     ]
    }
   ],
   "source": [
    "df.info()"
   ]
  },
  {
   "cell_type": "code",
   "execution_count": 480,
   "metadata": {},
   "outputs": [
    {
     "data": {
      "text/plain": [
       "723803"
      ]
     },
     "execution_count": 480,
     "metadata": {},
     "output_type": "execute_result"
    }
   ],
   "source": [
    "# checking the number of unique visitor ids\n",
    "df.fullVisitorId.nunique()"
   ]
  },
  {
   "cell_type": "code",
   "execution_count": 482,
   "metadata": {},
   "outputs": [],
   "source": [
    "df['transactionRevenue'].fillna(0, inplace=True)"
   ]
  },
  {
   "cell_type": "code",
   "execution_count": 483,
   "metadata": {},
   "outputs": [],
   "source": [
    "df['Conversion'] = df['transactionRevenue'].apply(lambda x: 1 if x > 0 else 0)"
   ]
  },
  {
   "cell_type": "code",
   "execution_count": null,
   "metadata": {},
   "outputs": [],
   "source": [
    "# checking the number of conversions for each user\n",
    "coversion_by_user=dict(df.groupby('fullVisitorId')['Conversion'].sum().sort_values(ascending=False))\n",
    "coversion_by_user"
   ]
  },
  {
   "cell_type": "code",
   "execution_count": 485,
   "metadata": {},
   "outputs": [],
   "source": [
    "df['at_least_one_conversion']=df.groupby('fullVisitorId')['Conversion'].transform('sum').apply(lambda x: 1 if x>0 else 0)"
   ]
  },
  {
   "cell_type": "code",
   "execution_count": 486,
   "metadata": {},
   "outputs": [
    {
     "data": {
      "text/plain": [
       "channelGrouping\n",
       "Organic Search    381561\n",
       "Social            226117\n",
       "Direct            143026\n",
       "Referral          104838\n",
       "Paid Search        25326\n",
       "Affiliates         16403\n",
       "Display             6262\n",
       "(Other)              120\n",
       "Name: count, dtype: int64"
      ]
     },
     "execution_count": 486,
     "metadata": {},
     "output_type": "execute_result"
    }
   ],
   "source": [
    "df.channelGrouping.value_counts()"
   ]
  },
  {
   "cell_type": "code",
   "execution_count": null,
   "metadata": {},
   "outputs": [],
   "source": [
    "# checking the number of conversions for each user\n",
    "conversions=pd.DataFrame(coversion_by_user.items(), columns=['fullVisitorId', 'Conversion'])\n",
    "conversions"
   ]
  },
  {
   "cell_type": "code",
   "execution_count": 488,
   "metadata": {},
   "outputs": [],
   "source": [
    "# Ensuring the DataFrame is sorted by fullVisitorId and date\n",
    "df.sort_values(by=['fullVisitorId', 'date'], inplace=True)"
   ]
  },
  {
   "cell_type": "code",
   "execution_count": 489,
   "metadata": {},
   "outputs": [],
   "source": [
    "# Grouping by fullVisitorId and get the first and last visit's channelGrouping\n",
    "first_visit_channel = df.groupby('fullVisitorId')['channelGrouping'].first().reset_index(name='FirstChannelVisit')\n",
    "last_visit_channel = df.groupby('fullVisitorId')['channelGrouping'].last().reset_index(name='LastChannelVisit')"
   ]
  },
  {
   "cell_type": "code",
   "execution_count": 490,
   "metadata": {},
   "outputs": [
    {
     "data": {
      "text/plain": [
       "(723803, 3)"
      ]
     },
     "execution_count": 490,
     "metadata": {},
     "output_type": "execute_result"
    }
   ],
   "source": [
    "# Merge the first and last visit channel dataframes\n",
    "channels_first_last = pd.merge(first_visit_channel, last_visit_channel, on='fullVisitorId', how='inner')\n",
    "channels_first_last.sample(40) ## other columns will be merged to this dataframe\n",
    "channels_first_last.shape"
   ]
  },
  {
   "cell_type": "code",
   "execution_count": 491,
   "metadata": {},
   "outputs": [
    {
     "data": {
      "text/plain": [
       "(723803, 31)"
      ]
     },
     "execution_count": 491,
     "metadata": {},
     "output_type": "execute_result"
    }
   ],
   "source": [
    "df_unique = df.drop_duplicates(subset='fullVisitorId', keep='first')\n",
    "df_unique.shape"
   ]
  },
  {
   "cell_type": "code",
   "execution_count": 492,
   "metadata": {},
   "outputs": [
    {
     "data": {
      "text/plain": [
       "(723803, 7)"
      ]
     },
     "execution_count": 492,
     "metadata": {},
     "output_type": "execute_result"
    }
   ],
   "source": [
    "channels_first_last = pd.merge(channels_first_last, df_unique[['fullVisitorId', 'at_least_one_conversion', 'country','continent','subContinent']].drop_duplicates(), on='fullVisitorId', how='inner')\n",
    "channels_first_last.shape"
   ]
  },
  {
   "cell_type": "code",
   "execution_count": 493,
   "metadata": {},
   "outputs": [
    {
     "data": {
      "text/html": [
       "<div>\n",
       "<style scoped>\n",
       "    .dataframe tbody tr th:only-of-type {\n",
       "        vertical-align: middle;\n",
       "    }\n",
       "\n",
       "    .dataframe tbody tr th {\n",
       "        vertical-align: top;\n",
       "    }\n",
       "\n",
       "    .dataframe thead th {\n",
       "        text-align: right;\n",
       "    }\n",
       "</style>\n",
       "<table border=\"1\" class=\"dataframe\">\n",
       "  <thead>\n",
       "    <tr style=\"text-align: right;\">\n",
       "      <th></th>\n",
       "      <th>fullVisitorId</th>\n",
       "      <th>FirstChannelVisit</th>\n",
       "      <th>LastChannelVisit</th>\n",
       "      <th>at_least_one_conversion</th>\n",
       "      <th>country</th>\n",
       "      <th>continent</th>\n",
       "      <th>subContinent</th>\n",
       "    </tr>\n",
       "  </thead>\n",
       "  <tbody>\n",
       "    <tr>\n",
       "      <th>120</th>\n",
       "      <td>357767462604476</td>\n",
       "      <td>Direct</td>\n",
       "      <td>Display</td>\n",
       "      <td>0</td>\n",
       "      <td>United States</td>\n",
       "      <td>Americas</td>\n",
       "      <td>Northern America</td>\n",
       "    </tr>\n",
       "    <tr>\n",
       "      <th>121</th>\n",
       "      <td>358027242270102</td>\n",
       "      <td>Paid Search</td>\n",
       "      <td>Organic Search</td>\n",
       "      <td>0</td>\n",
       "      <td>United States</td>\n",
       "      <td>Americas</td>\n",
       "      <td>Northern America</td>\n",
       "    </tr>\n",
       "    <tr>\n",
       "      <th>184</th>\n",
       "      <td>562678147042735</td>\n",
       "      <td>Organic Search</td>\n",
       "      <td>Referral</td>\n",
       "      <td>1</td>\n",
       "      <td>United States</td>\n",
       "      <td>Americas</td>\n",
       "      <td>Northern America</td>\n",
       "    </tr>\n",
       "    <tr>\n",
       "      <th>219</th>\n",
       "      <td>650183049109374</td>\n",
       "      <td>Organic Search</td>\n",
       "      <td>Paid Search</td>\n",
       "      <td>0</td>\n",
       "      <td>India</td>\n",
       "      <td>Asia</td>\n",
       "      <td>Southern Asia</td>\n",
       "    </tr>\n",
       "    <tr>\n",
       "      <th>229</th>\n",
       "      <td>677695778949032</td>\n",
       "      <td>Direct</td>\n",
       "      <td>Referral</td>\n",
       "      <td>0</td>\n",
       "      <td>United States</td>\n",
       "      <td>Americas</td>\n",
       "      <td>Northern America</td>\n",
       "    </tr>\n",
       "    <tr>\n",
       "      <th>...</th>\n",
       "      <td>...</td>\n",
       "      <td>...</td>\n",
       "      <td>...</td>\n",
       "      <td>...</td>\n",
       "      <td>...</td>\n",
       "      <td>...</td>\n",
       "      <td>...</td>\n",
       "    </tr>\n",
       "    <tr>\n",
       "      <th>723415</th>\n",
       "      <td>9913166595926807960</td>\n",
       "      <td>Organic Search</td>\n",
       "      <td>Referral</td>\n",
       "      <td>0</td>\n",
       "      <td>United States</td>\n",
       "      <td>Americas</td>\n",
       "      <td>Northern America</td>\n",
       "    </tr>\n",
       "    <tr>\n",
       "      <th>723519</th>\n",
       "      <td>9937314053887872916</td>\n",
       "      <td>Affiliates</td>\n",
       "      <td>Organic Search</td>\n",
       "      <td>0</td>\n",
       "      <td>Canada</td>\n",
       "      <td>Americas</td>\n",
       "      <td>Northern America</td>\n",
       "    </tr>\n",
       "    <tr>\n",
       "      <th>723581</th>\n",
       "      <td>9952660341541977540</td>\n",
       "      <td>Organic Search</td>\n",
       "      <td>Referral</td>\n",
       "      <td>0</td>\n",
       "      <td>United States</td>\n",
       "      <td>Americas</td>\n",
       "      <td>Northern America</td>\n",
       "    </tr>\n",
       "    <tr>\n",
       "      <th>723620</th>\n",
       "      <td>9960561123114745936</td>\n",
       "      <td>Organic Search</td>\n",
       "      <td>Referral</td>\n",
       "      <td>0</td>\n",
       "      <td>Spain</td>\n",
       "      <td>Europe</td>\n",
       "      <td>Southern Europe</td>\n",
       "    </tr>\n",
       "    <tr>\n",
       "      <th>723648</th>\n",
       "      <td>9965616755471685787</td>\n",
       "      <td>Organic Search</td>\n",
       "      <td>Social</td>\n",
       "      <td>0</td>\n",
       "      <td>Hong Kong</td>\n",
       "      <td>Asia</td>\n",
       "      <td>Eastern Asia</td>\n",
       "    </tr>\n",
       "  </tbody>\n",
       "</table>\n",
       "<p>17296 rows × 7 columns</p>\n",
       "</div>"
      ],
      "text/plain": [
       "              fullVisitorId FirstChannelVisit LastChannelVisit  \\\n",
       "120         357767462604476            Direct          Display   \n",
       "121         358027242270102       Paid Search   Organic Search   \n",
       "184         562678147042735    Organic Search         Referral   \n",
       "219         650183049109374    Organic Search      Paid Search   \n",
       "229         677695778949032            Direct         Referral   \n",
       "...                     ...               ...              ...   \n",
       "723415  9913166595926807960    Organic Search         Referral   \n",
       "723519  9937314053887872916        Affiliates   Organic Search   \n",
       "723581  9952660341541977540    Organic Search         Referral   \n",
       "723620  9960561123114745936    Organic Search         Referral   \n",
       "723648  9965616755471685787    Organic Search           Social   \n",
       "\n",
       "        at_least_one_conversion        country continent      subContinent  \n",
       "120                           0  United States  Americas  Northern America  \n",
       "121                           0  United States  Americas  Northern America  \n",
       "184                           1  United States  Americas  Northern America  \n",
       "219                           0          India      Asia     Southern Asia  \n",
       "229                           0  United States  Americas  Northern America  \n",
       "...                         ...            ...       ...               ...  \n",
       "723415                        0  United States  Americas  Northern America  \n",
       "723519                        0         Canada  Americas  Northern America  \n",
       "723581                        0  United States  Americas  Northern America  \n",
       "723620                        0          Spain    Europe   Southern Europe  \n",
       "723648                        0      Hong Kong      Asia      Eastern Asia  \n",
       "\n",
       "[17296 rows x 7 columns]"
      ]
     },
     "execution_count": 493,
     "metadata": {},
     "output_type": "execute_result"
    }
   ],
   "source": [
    "# checking which users had different first and last channel visits\n",
    "channels_first_last[channels_first_last['FirstChannelVisit'] != channels_first_last['LastChannelVisit']]"
   ]
  },
  {
   "cell_type": "markdown",
   "metadata": {},
   "source": [
    "### Most users had the same first and last channel visits except for 17296 users who had different first and last channel visits"
   ]
  },
  {
   "cell_type": "code",
   "execution_count": null,
   "metadata": {},
   "outputs": [],
   "source": [
    "# creating another variable for total number of visits for each user\n",
    "total_visits_by_user=dict(df['fullVisitorId'].value_counts().reset_index(name='TotalVisits').values)\n",
    "total_visits_by_user"
   ]
  },
  {
   "cell_type": "code",
   "execution_count": null,
   "metadata": {},
   "outputs": [],
   "source": [
    "# Creating a variable to capture number of visits through each channel for each user\n",
    "channel_visits_by_user=dict(df.groupby('fullVisitorId')['channelGrouping'].value_counts())\n",
    "channel_visits_by_user"
   ]
  },
  {
   "cell_type": "code",
   "execution_count": null,
   "metadata": {},
   "outputs": [],
   "source": [
    "# converting the dictionary to a list of dictionaries\n",
    "list_of_dicts = []\n",
    "for (visitor_id, channel), visits in channel_visits_by_user.items():\n",
    "    list_of_dicts.append({'fullVisitorId': visitor_id, channel: visits})\n",
    "\n",
    "# Creating a DataFrame\n",
    "df_channel_visits = pd.DataFrame(list_of_dicts)\n",
    "\n",
    "# Combining all dictionaries representing the same fullVisitorId\n",
    "df_channel_visits = df_channel_visits.groupby('fullVisitorId', as_index=False).sum()\n",
    "\n",
    "df_channel_visits"
   ]
  },
  {
   "cell_type": "code",
   "execution_count": null,
   "metadata": {},
   "outputs": [],
   "source": [
    "# creating another variable for total number of pageviews for each user \n",
    "total_pageviews_by_user=dict(df.groupby('fullVisitorId')['pageviews'].sum().reset_index(name='TotalPageviews').values)\n",
    "total_pageviews_by_user"
   ]
  },
  {
   "cell_type": "code",
   "execution_count": null,
   "metadata": {},
   "outputs": [],
   "source": [
    "# creating a variable for total number of bounces for each user\n",
    "total_bounces_by_user=dict(df.groupby('fullVisitorId')['bounces'].sum().reset_index(name='TotalBounces').values)\n",
    "total_bounces_by_user"
   ]
  },
  {
   "cell_type": "code",
   "execution_count": null,
   "metadata": {},
   "outputs": [],
   "source": [
    "# Creating another variable for number of visters per device category\n",
    "visits_by_device=dict(df.groupby('fullVisitorId')['deviceCategory'].value_counts())\n",
    "visits_by_device"
   ]
  },
  {
   "cell_type": "code",
   "execution_count": null,
   "metadata": {},
   "outputs": [],
   "source": [
    "# converting the dictionary to a list of dictionaries\n",
    "list_of_dicts = []\n",
    "for (visitor_id, device), visits in visits_by_device.items():\n",
    "    list_of_dicts.append({'fullVisitorId': visitor_id, device: visits})\n",
    "\n",
    "# Creating a DataFrame\n",
    "df_visits_by_device = pd.DataFrame(list_of_dicts)\n",
    "\n",
    "# Combining all dictionaries representing the same fullVisitorId\n",
    "df_visits_by_device = df_visits_by_device.groupby('fullVisitorId', as_index=False).sum()\n",
    "\n",
    "df_visits_by_device"
   ]
  },
  {
   "cell_type": "code",
   "execution_count": 501,
   "metadata": {},
   "outputs": [],
   "source": [
    "# Creating another variable for the first and last session pageviews for each user   \n",
    "first_session_pageviews=dict(df.groupby('fullVisitorId')['pageviews'].first().reset_index(name='FirstSessionPageviews').values)\n",
    "last_session_pageviews=dict(df.groupby('fullVisitorId')['pageviews'].last().reset_index(name='LastSessionPageviews').values)"
   ]
  },
  {
   "cell_type": "code",
   "execution_count": 502,
   "metadata": {},
   "outputs": [
    {
     "data": {
      "text/plain": [
       "campaign\n",
       "(not set)                                          865347\n",
       "Data Share Promo                                    16403\n",
       "AW - Dynamic Search Ads Whole Site                  14244\n",
       "AW - Accessories                                     7070\n",
       "test-liyuhz                                           392\n",
       "AW - Electronics                                       96\n",
       "Retail (DO NOT EDIT owners nophakun and tianyu)        50\n",
       "AW - Apparel                                           46\n",
       "All Products                                            4\n",
       "Data Share                                              1\n",
       "Name: count, dtype: int64"
      ]
     },
     "execution_count": 502,
     "metadata": {},
     "output_type": "execute_result"
    }
   ],
   "source": [
    "df['campaign'].value_counts()   "
   ]
  },
  {
   "cell_type": "code",
   "execution_count": 503,
   "metadata": {},
   "outputs": [],
   "source": [
    "df['campaign']=df['campaign'].apply(lambda x: 0 if x=='(not set)' else 1)"
   ]
  },
  {
   "cell_type": "code",
   "execution_count": 504,
   "metadata": {},
   "outputs": [
    {
     "data": {
      "text/plain": [
       "campaign\n",
       "0    865347\n",
       "1     38306\n",
       "Name: count, dtype: int64"
      ]
     },
     "execution_count": 504,
     "metadata": {},
     "output_type": "execute_result"
    }
   ],
   "source": [
    "df['campaign'].value_counts()   "
   ]
  },
  {
   "cell_type": "code",
   "execution_count": null,
   "metadata": {},
   "outputs": [],
   "source": [
    "# creating a variable for number of campaign visits for each user\n",
    "campaign_visits_by_user=dict(df.groupby('fullVisitorId')['campaign'].sum().reset_index(name='CampaignVisits').values)\n",
    "campaign_visits_by_user"
   ]
  },
  {
   "cell_type": "code",
   "execution_count": 521,
   "metadata": {},
   "outputs": [
    {
     "data": {
      "text/html": [
       "<div>\n",
       "<style scoped>\n",
       "    .dataframe tbody tr th:only-of-type {\n",
       "        vertical-align: middle;\n",
       "    }\n",
       "\n",
       "    .dataframe tbody tr th {\n",
       "        vertical-align: top;\n",
       "    }\n",
       "\n",
       "    .dataframe thead th {\n",
       "        text-align: right;\n",
       "    }\n",
       "</style>\n",
       "<table border=\"1\" class=\"dataframe\">\n",
       "  <thead>\n",
       "    <tr style=\"text-align: right;\">\n",
       "      <th></th>\n",
       "      <th>fullVisitorId</th>\n",
       "      <th>FirstChannelVisit</th>\n",
       "      <th>LastChannelVisit</th>\n",
       "      <th>at_least_one_conversion</th>\n",
       "      <th>country</th>\n",
       "      <th>continent</th>\n",
       "      <th>subContinent</th>\n",
       "      <th>TotalVisits</th>\n",
       "      <th>TotalBounces</th>\n",
       "      <th>Organic Search</th>\n",
       "      <th>...</th>\n",
       "      <th>Display</th>\n",
       "      <th>(Other)</th>\n",
       "      <th>TotalPageviews</th>\n",
       "      <th>desktop</th>\n",
       "      <th>mobile</th>\n",
       "      <th>tablet</th>\n",
       "      <th>FirstSessionPageviews</th>\n",
       "      <th>LastSessionPageviews</th>\n",
       "      <th>Conversion</th>\n",
       "      <th>CampaignVisits</th>\n",
       "    </tr>\n",
       "  </thead>\n",
       "  <tbody>\n",
       "    <tr>\n",
       "      <th>0</th>\n",
       "      <td>4823595352351</td>\n",
       "      <td>Organic Search</td>\n",
       "      <td>Organic Search</td>\n",
       "      <td>0</td>\n",
       "      <td>China</td>\n",
       "      <td>Asia</td>\n",
       "      <td>Eastern Asia</td>\n",
       "      <td>1</td>\n",
       "      <td>1.0</td>\n",
       "      <td>1.0</td>\n",
       "      <td>...</td>\n",
       "      <td>0.0</td>\n",
       "      <td>0.0</td>\n",
       "      <td>1.0</td>\n",
       "      <td>1.0</td>\n",
       "      <td>0.0</td>\n",
       "      <td>0.0</td>\n",
       "      <td>1.0</td>\n",
       "      <td>1.0</td>\n",
       "      <td>0</td>\n",
       "      <td>0</td>\n",
       "    </tr>\n",
       "    <tr>\n",
       "      <th>1</th>\n",
       "      <td>5103959234087</td>\n",
       "      <td>Organic Search</td>\n",
       "      <td>Organic Search</td>\n",
       "      <td>0</td>\n",
       "      <td>United States</td>\n",
       "      <td>Americas</td>\n",
       "      <td>Northern America</td>\n",
       "      <td>1</td>\n",
       "      <td>0.0</td>\n",
       "      <td>1.0</td>\n",
       "      <td>...</td>\n",
       "      <td>0.0</td>\n",
       "      <td>0.0</td>\n",
       "      <td>8.0</td>\n",
       "      <td>0.0</td>\n",
       "      <td>1.0</td>\n",
       "      <td>0.0</td>\n",
       "      <td>8.0</td>\n",
       "      <td>8.0</td>\n",
       "      <td>0</td>\n",
       "      <td>0</td>\n",
       "    </tr>\n",
       "    <tr>\n",
       "      <th>2</th>\n",
       "      <td>10278554503158</td>\n",
       "      <td>Organic Search</td>\n",
       "      <td>Organic Search</td>\n",
       "      <td>0</td>\n",
       "      <td>New Zealand</td>\n",
       "      <td>Oceania</td>\n",
       "      <td>Australasia</td>\n",
       "      <td>1</td>\n",
       "      <td>0.0</td>\n",
       "      <td>1.0</td>\n",
       "      <td>...</td>\n",
       "      <td>0.0</td>\n",
       "      <td>0.0</td>\n",
       "      <td>8.0</td>\n",
       "      <td>1.0</td>\n",
       "      <td>0.0</td>\n",
       "      <td>0.0</td>\n",
       "      <td>8.0</td>\n",
       "      <td>8.0</td>\n",
       "      <td>0</td>\n",
       "      <td>0</td>\n",
       "    </tr>\n",
       "    <tr>\n",
       "      <th>3</th>\n",
       "      <td>20424342248747</td>\n",
       "      <td>Organic Search</td>\n",
       "      <td>Organic Search</td>\n",
       "      <td>0</td>\n",
       "      <td>Peru</td>\n",
       "      <td>Americas</td>\n",
       "      <td>South America</td>\n",
       "      <td>1</td>\n",
       "      <td>0.0</td>\n",
       "      <td>1.0</td>\n",
       "      <td>...</td>\n",
       "      <td>0.0</td>\n",
       "      <td>0.0</td>\n",
       "      <td>13.0</td>\n",
       "      <td>1.0</td>\n",
       "      <td>0.0</td>\n",
       "      <td>0.0</td>\n",
       "      <td>13.0</td>\n",
       "      <td>13.0</td>\n",
       "      <td>0</td>\n",
       "      <td>0</td>\n",
       "    </tr>\n",
       "    <tr>\n",
       "      <th>4</th>\n",
       "      <td>26722803385797</td>\n",
       "      <td>Organic Search</td>\n",
       "      <td>Organic Search</td>\n",
       "      <td>0</td>\n",
       "      <td>United Kingdom</td>\n",
       "      <td>Europe</td>\n",
       "      <td>Northern Europe</td>\n",
       "      <td>1</td>\n",
       "      <td>0.0</td>\n",
       "      <td>1.0</td>\n",
       "      <td>...</td>\n",
       "      <td>0.0</td>\n",
       "      <td>0.0</td>\n",
       "      <td>2.0</td>\n",
       "      <td>1.0</td>\n",
       "      <td>0.0</td>\n",
       "      <td>0.0</td>\n",
       "      <td>2.0</td>\n",
       "      <td>2.0</td>\n",
       "      <td>0</td>\n",
       "      <td>0</td>\n",
       "    </tr>\n",
       "  </tbody>\n",
       "</table>\n",
       "<p>5 rows × 25 columns</p>\n",
       "</div>"
      ],
      "text/plain": [
       "    fullVisitorId FirstChannelVisit LastChannelVisit  at_least_one_conversion  \\\n",
       "0   4823595352351    Organic Search   Organic Search                        0   \n",
       "1   5103959234087    Organic Search   Organic Search                        0   \n",
       "2  10278554503158    Organic Search   Organic Search                        0   \n",
       "3  20424342248747    Organic Search   Organic Search                        0   \n",
       "4  26722803385797    Organic Search   Organic Search                        0   \n",
       "\n",
       "          country continent      subContinent  TotalVisits  TotalBounces  \\\n",
       "0           China      Asia      Eastern Asia            1           1.0   \n",
       "1   United States  Americas  Northern America            1           0.0   \n",
       "2     New Zealand   Oceania       Australasia            1           0.0   \n",
       "3            Peru  Americas     South America            1           0.0   \n",
       "4  United Kingdom    Europe   Northern Europe            1           0.0   \n",
       "\n",
       "   Organic Search  ...  Display  (Other)  TotalPageviews  desktop  mobile  \\\n",
       "0             1.0  ...      0.0      0.0             1.0      1.0     0.0   \n",
       "1             1.0  ...      0.0      0.0             8.0      0.0     1.0   \n",
       "2             1.0  ...      0.0      0.0             8.0      1.0     0.0   \n",
       "3             1.0  ...      0.0      0.0            13.0      1.0     0.0   \n",
       "4             1.0  ...      0.0      0.0             2.0      1.0     0.0   \n",
       "\n",
       "   tablet  FirstSessionPageviews  LastSessionPageviews  Conversion  \\\n",
       "0     0.0                    1.0                   1.0           0   \n",
       "1     0.0                    8.0                   8.0           0   \n",
       "2     0.0                    8.0                   8.0           0   \n",
       "3     0.0                   13.0                  13.0           0   \n",
       "4     0.0                    2.0                   2.0           0   \n",
       "\n",
       "   CampaignVisits  \n",
       "0               0  \n",
       "1               0  \n",
       "2               0  \n",
       "3               0  \n",
       "4               0  \n",
       "\n",
       "[5 rows x 25 columns]"
      ]
     },
     "execution_count": 521,
     "metadata": {},
     "output_type": "execute_result"
    }
   ],
   "source": [
    "\n",
    "# Converting dictionaries to DataFrames\n",
    "df_total_bounces = pd.DataFrame(list(total_bounces_by_user.items()), columns=['fullVisitorId', 'TotalBounces'])\n",
    "df_total_visits = pd.DataFrame(list(total_visits_by_user.items()), columns=['fullVisitorId', 'TotalVisits'])\n",
    "df_total_pageviews = pd.DataFrame(list(total_pageviews_by_user.items()), columns=['fullVisitorId', 'TotalPageviews'])\n",
    "df_first_session_pageviews = pd.DataFrame(list(first_session_pageviews.items()), columns=['fullVisitorId', 'FirstSessionPageviews'])\n",
    "df_last_session_pageviews = pd.DataFrame(list(last_session_pageviews.items()), columns=['fullVisitorId', 'LastSessionPageviews'])\n",
    "df_campaign_visits = pd.DataFrame(list(campaign_visits_by_user.items()), columns=['fullVisitorId', 'CampaignVisits'])\n",
    "\n",
    "# Start with the channels_first_last DataFrame\n",
    "final_df = channels_first_last\n",
    "\n",
    "#merging each DataFrame on 'fullVisitorId'\n",
    "for dfr in [df_total_visits, df_total_bounces, df_channel_visits, df_total_pageviews, df_visits_by_device, df_first_session_pageviews, df_last_session_pageviews, conversions, df_campaign_visits]:\n",
    "    final_df = pd.merge(final_df, dfr, on='fullVisitorId', how='inner')\n",
    "\n",
    "\n",
    "final_df.head()"
   ]
  },
  {
   "cell_type": "code",
   "execution_count": 524,
   "metadata": {},
   "outputs": [
    {
     "data": {
      "text/plain": [
       "(723803, 25)"
      ]
     },
     "execution_count": 524,
     "metadata": {},
     "output_type": "execute_result"
    }
   ],
   "source": [
    "final_df.shape"
   ]
  },
  {
   "cell_type": "code",
   "execution_count": 523,
   "metadata": {},
   "outputs": [
    {
     "name": "stdout",
     "output_type": "stream",
     "text": [
      "<class 'pandas.core.frame.DataFrame'>\n",
      "RangeIndex: 723803 entries, 0 to 723802\n",
      "Data columns (total 25 columns):\n",
      " #   Column                   Non-Null Count   Dtype  \n",
      "---  ------                   --------------   -----  \n",
      " 0   fullVisitorId            723803 non-null  object \n",
      " 1   FirstChannelVisit        723803 non-null  object \n",
      " 2   LastChannelVisit         723803 non-null  object \n",
      " 3   at_least_one_conversion  723803 non-null  int64  \n",
      " 4   country                  723803 non-null  object \n",
      " 5   continent                723803 non-null  object \n",
      " 6   subContinent             723803 non-null  object \n",
      " 7   TotalVisits              723803 non-null  int64  \n",
      " 8   TotalBounces             723803 non-null  float64\n",
      " 9   Organic Search           723803 non-null  float64\n",
      " 10  Social                   723803 non-null  float64\n",
      " 11  Direct                   723803 non-null  float64\n",
      " 12  Paid Search              723803 non-null  float64\n",
      " 13  Referral                 723803 non-null  float64\n",
      " 14  Affiliates               723803 non-null  float64\n",
      " 15  Display                  723803 non-null  float64\n",
      " 16  (Other)                  723803 non-null  float64\n",
      " 17  TotalPageviews           723803 non-null  float64\n",
      " 18  desktop                  723803 non-null  float64\n",
      " 19  mobile                   723803 non-null  float64\n",
      " 20  tablet                   723803 non-null  float64\n",
      " 21  FirstSessionPageviews    723803 non-null  float64\n",
      " 22  LastSessionPageviews     723803 non-null  float64\n",
      " 23  Conversion               723803 non-null  int64  \n",
      " 24  CampaignVisits           723803 non-null  int64  \n",
      "dtypes: float64(15), int64(4), object(6)\n",
      "memory usage: 138.1+ MB\n"
     ]
    }
   ],
   "source": [
    "final_df.info()"
   ]
  },
  {
   "cell_type": "code",
   "execution_count": 525,
   "metadata": {},
   "outputs": [
    {
     "name": "stdout",
     "output_type": "stream",
     "text": [
      "<class 'pandas.core.frame.DataFrame'>\n",
      "RangeIndex: 723803 entries, 0 to 723802\n",
      "Data columns (total 25 columns):\n",
      " #   Column                   Non-Null Count   Dtype \n",
      "---  ------                   --------------   ----- \n",
      " 0   fullVisitorId            723803 non-null  object\n",
      " 1   FirstChannelVisit        723803 non-null  object\n",
      " 2   LastChannelVisit         723803 non-null  object\n",
      " 3   at_least_one_conversion  723803 non-null  int64 \n",
      " 4   country                  723803 non-null  object\n",
      " 5   continent                723803 non-null  object\n",
      " 6   subContinent             723803 non-null  object\n",
      " 7   TotalVisits              723803 non-null  int64 \n",
      " 8   TotalBounces             723803 non-null  int64 \n",
      " 9   Organic Search           723803 non-null  int64 \n",
      " 10  Social                   723803 non-null  int64 \n",
      " 11  Direct                   723803 non-null  int64 \n",
      " 12  Paid Search              723803 non-null  int64 \n",
      " 13  Referral                 723803 non-null  int64 \n",
      " 14  Affiliates               723803 non-null  int64 \n",
      " 15  Display                  723803 non-null  int64 \n",
      " 16  (Other)                  723803 non-null  int64 \n",
      " 17  TotalPageviews           723803 non-null  int64 \n",
      " 18  desktop                  723803 non-null  int64 \n",
      " 19  mobile                   723803 non-null  int64 \n",
      " 20  tablet                   723803 non-null  int64 \n",
      " 21  FirstSessionPageviews    723803 non-null  int64 \n",
      " 22  LastSessionPageviews     723803 non-null  int64 \n",
      " 23  Conversion               723803 non-null  int64 \n",
      " 24  CampaignVisits           723803 non-null  int64 \n",
      "dtypes: int64(19), object(6)\n",
      "memory usage: 138.1+ MB\n"
     ]
    }
   ],
   "source": [
    "for col in final_df.select_dtypes(include='float').columns:\n",
    "    final_df[col] = final_df[col].astype('int')\n",
    "final_df.info()"
   ]
  },
  {
   "cell_type": "code",
   "execution_count": 526,
   "metadata": {},
   "outputs": [
    {
     "data": {
      "text/html": [
       "<div>\n",
       "<style scoped>\n",
       "    .dataframe tbody tr th:only-of-type {\n",
       "        vertical-align: middle;\n",
       "    }\n",
       "\n",
       "    .dataframe tbody tr th {\n",
       "        vertical-align: top;\n",
       "    }\n",
       "\n",
       "    .dataframe thead th {\n",
       "        text-align: right;\n",
       "    }\n",
       "</style>\n",
       "<table border=\"1\" class=\"dataframe\">\n",
       "  <thead>\n",
       "    <tr style=\"text-align: right;\">\n",
       "      <th></th>\n",
       "      <th>fullVisitorId</th>\n",
       "      <th>FirstChannelVisit</th>\n",
       "      <th>LastChannelVisit</th>\n",
       "      <th>at_least_one_conversion</th>\n",
       "      <th>country</th>\n",
       "      <th>continent</th>\n",
       "      <th>subContinent</th>\n",
       "      <th>TotalVisits</th>\n",
       "      <th>TotalBounces</th>\n",
       "      <th>Organic Search</th>\n",
       "      <th>...</th>\n",
       "      <th>Display</th>\n",
       "      <th>(Other)</th>\n",
       "      <th>TotalPageviews</th>\n",
       "      <th>desktop</th>\n",
       "      <th>mobile</th>\n",
       "      <th>tablet</th>\n",
       "      <th>FirstSessionPageviews</th>\n",
       "      <th>LastSessionPageviews</th>\n",
       "      <th>Conversion</th>\n",
       "      <th>CampaignVisits</th>\n",
       "    </tr>\n",
       "  </thead>\n",
       "  <tbody>\n",
       "    <tr>\n",
       "      <th>0</th>\n",
       "      <td>4823595352351</td>\n",
       "      <td>Organic Search</td>\n",
       "      <td>Organic Search</td>\n",
       "      <td>0</td>\n",
       "      <td>China</td>\n",
       "      <td>Asia</td>\n",
       "      <td>Eastern Asia</td>\n",
       "      <td>1</td>\n",
       "      <td>1</td>\n",
       "      <td>1</td>\n",
       "      <td>...</td>\n",
       "      <td>0</td>\n",
       "      <td>0</td>\n",
       "      <td>1</td>\n",
       "      <td>1</td>\n",
       "      <td>0</td>\n",
       "      <td>0</td>\n",
       "      <td>1</td>\n",
       "      <td>1</td>\n",
       "      <td>0</td>\n",
       "      <td>0</td>\n",
       "    </tr>\n",
       "    <tr>\n",
       "      <th>1</th>\n",
       "      <td>5103959234087</td>\n",
       "      <td>Organic Search</td>\n",
       "      <td>Organic Search</td>\n",
       "      <td>0</td>\n",
       "      <td>United States</td>\n",
       "      <td>Americas</td>\n",
       "      <td>Northern America</td>\n",
       "      <td>1</td>\n",
       "      <td>0</td>\n",
       "      <td>1</td>\n",
       "      <td>...</td>\n",
       "      <td>0</td>\n",
       "      <td>0</td>\n",
       "      <td>8</td>\n",
       "      <td>0</td>\n",
       "      <td>1</td>\n",
       "      <td>0</td>\n",
       "      <td>8</td>\n",
       "      <td>8</td>\n",
       "      <td>0</td>\n",
       "      <td>0</td>\n",
       "    </tr>\n",
       "    <tr>\n",
       "      <th>2</th>\n",
       "      <td>10278554503158</td>\n",
       "      <td>Organic Search</td>\n",
       "      <td>Organic Search</td>\n",
       "      <td>0</td>\n",
       "      <td>New Zealand</td>\n",
       "      <td>Oceania</td>\n",
       "      <td>Australasia</td>\n",
       "      <td>1</td>\n",
       "      <td>0</td>\n",
       "      <td>1</td>\n",
       "      <td>...</td>\n",
       "      <td>0</td>\n",
       "      <td>0</td>\n",
       "      <td>8</td>\n",
       "      <td>1</td>\n",
       "      <td>0</td>\n",
       "      <td>0</td>\n",
       "      <td>8</td>\n",
       "      <td>8</td>\n",
       "      <td>0</td>\n",
       "      <td>0</td>\n",
       "    </tr>\n",
       "    <tr>\n",
       "      <th>3</th>\n",
       "      <td>20424342248747</td>\n",
       "      <td>Organic Search</td>\n",
       "      <td>Organic Search</td>\n",
       "      <td>0</td>\n",
       "      <td>Peru</td>\n",
       "      <td>Americas</td>\n",
       "      <td>South America</td>\n",
       "      <td>1</td>\n",
       "      <td>0</td>\n",
       "      <td>1</td>\n",
       "      <td>...</td>\n",
       "      <td>0</td>\n",
       "      <td>0</td>\n",
       "      <td>13</td>\n",
       "      <td>1</td>\n",
       "      <td>0</td>\n",
       "      <td>0</td>\n",
       "      <td>13</td>\n",
       "      <td>13</td>\n",
       "      <td>0</td>\n",
       "      <td>0</td>\n",
       "    </tr>\n",
       "    <tr>\n",
       "      <th>4</th>\n",
       "      <td>26722803385797</td>\n",
       "      <td>Organic Search</td>\n",
       "      <td>Organic Search</td>\n",
       "      <td>0</td>\n",
       "      <td>United Kingdom</td>\n",
       "      <td>Europe</td>\n",
       "      <td>Northern Europe</td>\n",
       "      <td>1</td>\n",
       "      <td>0</td>\n",
       "      <td>1</td>\n",
       "      <td>...</td>\n",
       "      <td>0</td>\n",
       "      <td>0</td>\n",
       "      <td>2</td>\n",
       "      <td>1</td>\n",
       "      <td>0</td>\n",
       "      <td>0</td>\n",
       "      <td>2</td>\n",
       "      <td>2</td>\n",
       "      <td>0</td>\n",
       "      <td>0</td>\n",
       "    </tr>\n",
       "  </tbody>\n",
       "</table>\n",
       "<p>5 rows × 25 columns</p>\n",
       "</div>"
      ],
      "text/plain": [
       "    fullVisitorId FirstChannelVisit LastChannelVisit  at_least_one_conversion  \\\n",
       "0   4823595352351    Organic Search   Organic Search                        0   \n",
       "1   5103959234087    Organic Search   Organic Search                        0   \n",
       "2  10278554503158    Organic Search   Organic Search                        0   \n",
       "3  20424342248747    Organic Search   Organic Search                        0   \n",
       "4  26722803385797    Organic Search   Organic Search                        0   \n",
       "\n",
       "          country continent      subContinent  TotalVisits  TotalBounces  \\\n",
       "0           China      Asia      Eastern Asia            1             1   \n",
       "1   United States  Americas  Northern America            1             0   \n",
       "2     New Zealand   Oceania       Australasia            1             0   \n",
       "3            Peru  Americas     South America            1             0   \n",
       "4  United Kingdom    Europe   Northern Europe            1             0   \n",
       "\n",
       "   Organic Search  ...  Display  (Other)  TotalPageviews  desktop  mobile  \\\n",
       "0               1  ...        0        0               1        1       0   \n",
       "1               1  ...        0        0               8        0       1   \n",
       "2               1  ...        0        0               8        1       0   \n",
       "3               1  ...        0        0              13        1       0   \n",
       "4               1  ...        0        0               2        1       0   \n",
       "\n",
       "   tablet  FirstSessionPageviews  LastSessionPageviews  Conversion  \\\n",
       "0       0                      1                     1           0   \n",
       "1       0                      8                     8           0   \n",
       "2       0                      8                     8           0   \n",
       "3       0                     13                    13           0   \n",
       "4       0                      2                     2           0   \n",
       "\n",
       "   CampaignVisits  \n",
       "0               0  \n",
       "1               0  \n",
       "2               0  \n",
       "3               0  \n",
       "4               0  \n",
       "\n",
       "[5 rows x 25 columns]"
      ]
     },
     "execution_count": 526,
     "metadata": {},
     "output_type": "execute_result"
    }
   ],
   "source": [
    "final_df.head()"
   ]
  },
  {
   "cell_type": "code",
   "execution_count": 527,
   "metadata": {},
   "outputs": [],
   "source": [
    "#saving the final DataFrame to a csv file\n",
    "final_df.to_csv('/Users/Abdul/Desktop/MMA/Enterprise Data Science/final_df.csv', index=False)"
   ]
  },
  {
   "cell_type": "code",
   "execution_count": 518,
   "metadata": {},
   "outputs": [
    {
     "data": {
      "text/plain": [
       "at_least_one_conversion\n",
       "0    713689\n",
       "1     10114\n",
       "Name: count, dtype: int64"
      ]
     },
     "execution_count": 518,
     "metadata": {},
     "output_type": "execute_result"
    }
   ],
   "source": [
    "final_df.at_least_one_conversion.value_counts()"
   ]
  },
  {
   "cell_type": "code",
   "execution_count": 520,
   "metadata": {},
   "outputs": [
    {
     "data": {
      "text/plain": [
       "['fullVisitorId',\n",
       " 'FirstChannelVisit',\n",
       " 'LastChannelVisit',\n",
       " 'at_least_one_conversion',\n",
       " 'country',\n",
       " 'continent',\n",
       " 'subContinent',\n",
       " 'TotalVisits',\n",
       " 'Organic Search',\n",
       " 'Social',\n",
       " 'Direct',\n",
       " 'Paid Search',\n",
       " 'Referral',\n",
       " 'Affiliates',\n",
       " 'Display',\n",
       " '(Other)',\n",
       " 'TotalPageviews',\n",
       " 'desktop',\n",
       " 'mobile',\n",
       " 'tablet',\n",
       " 'FirstSessionPageviews',\n",
       " 'LastSessionPageviews',\n",
       " 'Conversion',\n",
       " 'CampaignVisits']"
      ]
     },
     "execution_count": 520,
     "metadata": {},
     "output_type": "execute_result"
    }
   ],
   "source": [
    "final_df.columns.to_list()"
   ]
  },
  {
   "cell_type": "code",
   "execution_count": null,
   "metadata": {},
   "outputs": [],
   "source": []
  }
 ],
 "metadata": {
  "kernelspec": {
   "display_name": "Python 3 (ipykernel)",
   "language": "python",
   "name": "python3"
  },
  "language_info": {
   "codemirror_mode": {
    "name": "ipython",
    "version": 3
   },
   "file_extension": ".py",
   "mimetype": "text/x-python",
   "name": "python",
   "nbconvert_exporter": "python",
   "pygments_lexer": "ipython3",
   "version": "3.9.18"
  }
 },
 "nbformat": 4,
 "nbformat_minor": 2
}
