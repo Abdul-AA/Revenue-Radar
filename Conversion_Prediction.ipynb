{
 "cells": [
  {
   "cell_type": "code",
<<<<<<< HEAD
   "execution_count": 1,
=======
   "execution_count": 24,
>>>>>>> parent of bd3c948 (Subsetted data)
   "metadata": {},
   "outputs": [],
   "source": [
    "#Import necessary libraries\n",
    "import os\n",
    "import pandas as pd\n",
    "import json"
   ]
  },
  {
   "cell_type": "code",
   "execution_count": 25,
   "metadata": {},
   "outputs": [],
   "source": [
    "# #Set the working directory\n",
    "# os.chdir(\"E:/Users/pc/Downloads/Enterprise Data Sciencfe Project\")"
   ]
  },
  {
   "cell_type": "code",
   "execution_count": 26,
   "metadata": {},
   "outputs": [
    {
     "name": "stderr",
     "output_type": "stream",
     "text": [
      "C:\\Users\\pc\\AppData\\Local\\Temp\\ipykernel_21380\\18681393.py:2: DtypeWarning: Columns (3) have mixed types. Specify dtype option on import or set low_memory=False.\n",
      "  train_revenue = pd.read_csv(\"train.csv\")\n",
      "C:\\Users\\pc\\AppData\\Local\\Temp\\ipykernel_21380\\18681393.py:3: DtypeWarning: Columns (3) have mixed types. Specify dtype option on import or set low_memory=False.\n",
      "  test_revenue = pd.read_csv(\"test.csv\")\n"
     ]
    }
   ],
   "source": [
    "#Import dataset(s)\n",
    "train_revenue = pd.read_csv(\"train.csv\")\n",
    "test_revenue = pd.read_csv(\"test.csv\")"
   ]
  },
  {
   "cell_type": "code",
   "execution_count": 27,
   "metadata": {},
   "outputs": [],
   "source": [
    "dict_columns = ['geoNetwork', 'device', 'totals', 'trafficSource']\n",
    "\n",
    "# For each such column, convert the string representation of dictionary to actual dictionary\n",
    "# then normalize and concatenate with the original DataFrame\n",
    "for column in dict_columns:\n",
    "    # Convert the stringified dictionary to actual dictionary\n",
    "    train_revenue[column] = train_revenue[column].apply(json.loads)\n",
    "    \n",
    "    # Flatten the dictionary and convert to a DataFrame\n",
    "    column_df = pd.json_normalize(train_revenue[column])\n",
    "    \n",
    "    # Concatenate the new DataFrame to the original DataFrame\n",
    "    train_revenue = pd.concat([train_revenue, column_df], axis=1)\n",
    "\n",
    "    # Drop the original column that contained the stringified dictionary\n",
    "    train_revenue.drop(column, axis=1, inplace=True)\n",
    "\n",
    "for column in dict_columns:\n",
    "    # Convert the stringified dictionary to actual dictionary\n",
    "    test_revenue[column] = test_revenue[column].apply(json.loads)\n",
    "    \n",
    "    # Flatten the dictionary and convert to a DataFrame\n",
    "    column_df = pd.json_normalize(test_revenue[column])\n",
    "    \n",
    "    # Concatenate the new DataFrame to the original DataFrame\n",
    "    test_revenue = pd.concat([test_revenue, column_df], axis=1)\n",
    "\n",
    "    # Drop the original column that contained the stringified dictionary\n",
    "    test_revenue.drop(column, axis=1, inplace=True)"
   ]
  },
  {
   "cell_type": "code",
   "execution_count": 28,
   "metadata": {},
   "outputs": [
    {
     "data": {
      "text/html": [
       "<div>\n",
       "<style scoped>\n",
       "    .dataframe tbody tr th:only-of-type {\n",
       "        vertical-align: middle;\n",
       "    }\n",
       "\n",
       "    .dataframe tbody tr th {\n",
       "        vertical-align: top;\n",
       "    }\n",
       "\n",
       "    .dataframe thead th {\n",
       "        text-align: right;\n",
       "    }\n",
       "</style>\n",
       "<table border=\"1\" class=\"dataframe\">\n",
       "  <thead>\n",
       "    <tr style=\"text-align: right;\">\n",
       "      <th></th>\n",
       "      <th>channelGrouping</th>\n",
       "      <th>date</th>\n",
       "      <th>fullVisitorId</th>\n",
       "      <th>sessionId</th>\n",
       "      <th>socialEngagementType</th>\n",
       "      <th>visitId</th>\n",
       "      <th>visitNumber</th>\n",
       "      <th>visitStartTime</th>\n",
       "      <th>continent</th>\n",
       "      <th>subContinent</th>\n",
       "      <th>...</th>\n",
       "      <th>adwordsClickInfo.criteriaParameters</th>\n",
       "      <th>isTrueDirect</th>\n",
       "      <th>referralPath</th>\n",
       "      <th>adwordsClickInfo.page</th>\n",
       "      <th>adwordsClickInfo.slot</th>\n",
       "      <th>adwordsClickInfo.gclId</th>\n",
       "      <th>adwordsClickInfo.adNetworkType</th>\n",
       "      <th>adwordsClickInfo.isVideoAd</th>\n",
       "      <th>adContent</th>\n",
       "      <th>campaignCode</th>\n",
       "    </tr>\n",
       "  </thead>\n",
       "  <tbody>\n",
       "    <tr>\n",
       "      <th>0</th>\n",
       "      <td>Organic Search</td>\n",
       "      <td>20160902</td>\n",
       "      <td>1131660440785968503</td>\n",
       "      <td>1131660440785968503_1472830385</td>\n",
       "      <td>Not Socially Engaged</td>\n",
       "      <td>1472830385</td>\n",
       "      <td>1</td>\n",
       "      <td>1472830385</td>\n",
       "      <td>Asia</td>\n",
       "      <td>Western Asia</td>\n",
       "      <td>...</td>\n",
       "      <td>not available in demo dataset</td>\n",
       "      <td>NaN</td>\n",
       "      <td>NaN</td>\n",
       "      <td>NaN</td>\n",
       "      <td>NaN</td>\n",
       "      <td>NaN</td>\n",
       "      <td>NaN</td>\n",
       "      <td>NaN</td>\n",
       "      <td>NaN</td>\n",
       "      <td>NaN</td>\n",
       "    </tr>\n",
       "    <tr>\n",
       "      <th>1</th>\n",
       "      <td>Organic Search</td>\n",
       "      <td>20160902</td>\n",
       "      <td>377306020877927890</td>\n",
       "      <td>377306020877927890_1472880147</td>\n",
       "      <td>Not Socially Engaged</td>\n",
       "      <td>1472880147</td>\n",
       "      <td>1</td>\n",
       "      <td>1472880147</td>\n",
       "      <td>Oceania</td>\n",
       "      <td>Australasia</td>\n",
       "      <td>...</td>\n",
       "      <td>not available in demo dataset</td>\n",
       "      <td>NaN</td>\n",
       "      <td>NaN</td>\n",
       "      <td>NaN</td>\n",
       "      <td>NaN</td>\n",
       "      <td>NaN</td>\n",
       "      <td>NaN</td>\n",
       "      <td>NaN</td>\n",
       "      <td>NaN</td>\n",
       "      <td>NaN</td>\n",
       "    </tr>\n",
       "    <tr>\n",
       "      <th>2</th>\n",
       "      <td>Organic Search</td>\n",
       "      <td>20160902</td>\n",
       "      <td>3895546263509774583</td>\n",
       "      <td>3895546263509774583_1472865386</td>\n",
       "      <td>Not Socially Engaged</td>\n",
       "      <td>1472865386</td>\n",
       "      <td>1</td>\n",
       "      <td>1472865386</td>\n",
       "      <td>Europe</td>\n",
       "      <td>Southern Europe</td>\n",
       "      <td>...</td>\n",
       "      <td>not available in demo dataset</td>\n",
       "      <td>NaN</td>\n",
       "      <td>NaN</td>\n",
       "      <td>NaN</td>\n",
       "      <td>NaN</td>\n",
       "      <td>NaN</td>\n",
       "      <td>NaN</td>\n",
       "      <td>NaN</td>\n",
       "      <td>NaN</td>\n",
       "      <td>NaN</td>\n",
       "    </tr>\n",
       "    <tr>\n",
       "      <th>3</th>\n",
       "      <td>Organic Search</td>\n",
       "      <td>20160902</td>\n",
       "      <td>4763447161404445595</td>\n",
       "      <td>4763447161404445595_1472881213</td>\n",
       "      <td>Not Socially Engaged</td>\n",
       "      <td>1472881213</td>\n",
       "      <td>1</td>\n",
       "      <td>1472881213</td>\n",
       "      <td>Asia</td>\n",
       "      <td>Southeast Asia</td>\n",
       "      <td>...</td>\n",
       "      <td>not available in demo dataset</td>\n",
       "      <td>NaN</td>\n",
       "      <td>NaN</td>\n",
       "      <td>NaN</td>\n",
       "      <td>NaN</td>\n",
       "      <td>NaN</td>\n",
       "      <td>NaN</td>\n",
       "      <td>NaN</td>\n",
       "      <td>NaN</td>\n",
       "      <td>NaN</td>\n",
       "    </tr>\n",
       "    <tr>\n",
       "      <th>4</th>\n",
       "      <td>Organic Search</td>\n",
       "      <td>20160902</td>\n",
       "      <td>27294437909732085</td>\n",
       "      <td>27294437909732085_1472822600</td>\n",
       "      <td>Not Socially Engaged</td>\n",
       "      <td>1472822600</td>\n",
       "      <td>2</td>\n",
       "      <td>1472822600</td>\n",
       "      <td>Europe</td>\n",
       "      <td>Northern Europe</td>\n",
       "      <td>...</td>\n",
       "      <td>not available in demo dataset</td>\n",
       "      <td>True</td>\n",
       "      <td>NaN</td>\n",
       "      <td>NaN</td>\n",
       "      <td>NaN</td>\n",
       "      <td>NaN</td>\n",
       "      <td>NaN</td>\n",
       "      <td>NaN</td>\n",
       "      <td>NaN</td>\n",
       "      <td>NaN</td>\n",
       "    </tr>\n",
       "  </tbody>\n",
       "</table>\n",
       "<p>5 rows × 55 columns</p>\n",
       "</div>"
      ],
      "text/plain": [
       "  channelGrouping      date        fullVisitorId  \\\n",
       "0  Organic Search  20160902  1131660440785968503   \n",
       "1  Organic Search  20160902   377306020877927890   \n",
       "2  Organic Search  20160902  3895546263509774583   \n",
       "3  Organic Search  20160902  4763447161404445595   \n",
       "4  Organic Search  20160902    27294437909732085   \n",
       "\n",
       "                        sessionId  socialEngagementType     visitId  \\\n",
       "0  1131660440785968503_1472830385  Not Socially Engaged  1472830385   \n",
       "1   377306020877927890_1472880147  Not Socially Engaged  1472880147   \n",
       "2  3895546263509774583_1472865386  Not Socially Engaged  1472865386   \n",
       "3  4763447161404445595_1472881213  Not Socially Engaged  1472881213   \n",
       "4    27294437909732085_1472822600  Not Socially Engaged  1472822600   \n",
       "\n",
       "   visitNumber  visitStartTime continent     subContinent  ...  \\\n",
       "0            1      1472830385      Asia     Western Asia  ...   \n",
       "1            1      1472880147   Oceania      Australasia  ...   \n",
       "2            1      1472865386    Europe  Southern Europe  ...   \n",
       "3            1      1472881213      Asia   Southeast Asia  ...   \n",
       "4            2      1472822600    Europe  Northern Europe  ...   \n",
       "\n",
       "  adwordsClickInfo.criteriaParameters isTrueDirect referralPath  \\\n",
       "0       not available in demo dataset          NaN          NaN   \n",
       "1       not available in demo dataset          NaN          NaN   \n",
       "2       not available in demo dataset          NaN          NaN   \n",
       "3       not available in demo dataset          NaN          NaN   \n",
       "4       not available in demo dataset         True          NaN   \n",
       "\n",
       "  adwordsClickInfo.page adwordsClickInfo.slot adwordsClickInfo.gclId  \\\n",
       "0                   NaN                   NaN                    NaN   \n",
       "1                   NaN                   NaN                    NaN   \n",
       "2                   NaN                   NaN                    NaN   \n",
       "3                   NaN                   NaN                    NaN   \n",
       "4                   NaN                   NaN                    NaN   \n",
       "\n",
       "  adwordsClickInfo.adNetworkType adwordsClickInfo.isVideoAd adContent  \\\n",
       "0                            NaN                        NaN       NaN   \n",
       "1                            NaN                        NaN       NaN   \n",
       "2                            NaN                        NaN       NaN   \n",
       "3                            NaN                        NaN       NaN   \n",
       "4                            NaN                        NaN       NaN   \n",
       "\n",
       "  campaignCode  \n",
       "0          NaN  \n",
       "1          NaN  \n",
       "2          NaN  \n",
       "3          NaN  \n",
       "4          NaN  \n",
       "\n",
       "[5 rows x 55 columns]"
      ]
     },
     "execution_count": 28,
     "metadata": {},
     "output_type": "execute_result"
    }
   ],
   "source": [
    "#Viewing first 5 rows of the training dataset\n",
    "train_revenue.head()"
   ]
  },
  {
   "cell_type": "code",
   "execution_count": 29,
   "metadata": {},
   "outputs": [
    {
     "data": {
      "text/html": [
       "<div>\n",
       "<style scoped>\n",
       "    .dataframe tbody tr th:only-of-type {\n",
       "        vertical-align: middle;\n",
       "    }\n",
       "\n",
       "    .dataframe tbody tr th {\n",
       "        vertical-align: top;\n",
       "    }\n",
       "\n",
       "    .dataframe thead th {\n",
       "        text-align: right;\n",
       "    }\n",
       "</style>\n",
       "<table border=\"1\" class=\"dataframe\">\n",
       "  <thead>\n",
       "    <tr style=\"text-align: right;\">\n",
       "      <th></th>\n",
       "      <th>channelGrouping</th>\n",
       "      <th>date</th>\n",
       "      <th>fullVisitorId</th>\n",
       "      <th>sessionId</th>\n",
       "      <th>socialEngagementType</th>\n",
       "      <th>visitId</th>\n",
       "      <th>visitNumber</th>\n",
       "      <th>visitStartTime</th>\n",
       "      <th>continent</th>\n",
       "      <th>subContinent</th>\n",
       "      <th>...</th>\n",
       "      <th>keyword</th>\n",
       "      <th>isTrueDirect</th>\n",
       "      <th>adwordsClickInfo.criteriaParameters</th>\n",
       "      <th>adwordsClickInfo.page</th>\n",
       "      <th>adwordsClickInfo.slot</th>\n",
       "      <th>adwordsClickInfo.gclId</th>\n",
       "      <th>adwordsClickInfo.adNetworkType</th>\n",
       "      <th>adwordsClickInfo.isVideoAd</th>\n",
       "      <th>referralPath</th>\n",
       "      <th>adContent</th>\n",
       "    </tr>\n",
       "  </thead>\n",
       "  <tbody>\n",
       "    <tr>\n",
       "      <th>0</th>\n",
       "      <td>Organic Search</td>\n",
       "      <td>20171016</td>\n",
       "      <td>6167871330617112363</td>\n",
       "      <td>6167871330617112363_1508151024</td>\n",
       "      <td>Not Socially Engaged</td>\n",
       "      <td>1508151024</td>\n",
       "      <td>2</td>\n",
       "      <td>1508151024</td>\n",
       "      <td>Asia</td>\n",
       "      <td>Southeast Asia</td>\n",
       "      <td>...</td>\n",
       "      <td>(not provided)</td>\n",
       "      <td>True</td>\n",
       "      <td>not available in demo dataset</td>\n",
       "      <td>NaN</td>\n",
       "      <td>NaN</td>\n",
       "      <td>NaN</td>\n",
       "      <td>NaN</td>\n",
       "      <td>NaN</td>\n",
       "      <td>NaN</td>\n",
       "      <td>NaN</td>\n",
       "    </tr>\n",
       "    <tr>\n",
       "      <th>1</th>\n",
       "      <td>Organic Search</td>\n",
       "      <td>20171016</td>\n",
       "      <td>0643697640977915618</td>\n",
       "      <td>0643697640977915618_1508175522</td>\n",
       "      <td>Not Socially Engaged</td>\n",
       "      <td>1508175522</td>\n",
       "      <td>1</td>\n",
       "      <td>1508175522</td>\n",
       "      <td>Europe</td>\n",
       "      <td>Southern Europe</td>\n",
       "      <td>...</td>\n",
       "      <td>(not provided)</td>\n",
       "      <td>NaN</td>\n",
       "      <td>not available in demo dataset</td>\n",
       "      <td>NaN</td>\n",
       "      <td>NaN</td>\n",
       "      <td>NaN</td>\n",
       "      <td>NaN</td>\n",
       "      <td>NaN</td>\n",
       "      <td>NaN</td>\n",
       "      <td>NaN</td>\n",
       "    </tr>\n",
       "    <tr>\n",
       "      <th>2</th>\n",
       "      <td>Organic Search</td>\n",
       "      <td>20171016</td>\n",
       "      <td>6059383810968229466</td>\n",
       "      <td>6059383810968229466_1508143220</td>\n",
       "      <td>Not Socially Engaged</td>\n",
       "      <td>1508143220</td>\n",
       "      <td>1</td>\n",
       "      <td>1508143220</td>\n",
       "      <td>Europe</td>\n",
       "      <td>Western Europe</td>\n",
       "      <td>...</td>\n",
       "      <td>(not provided)</td>\n",
       "      <td>NaN</td>\n",
       "      <td>not available in demo dataset</td>\n",
       "      <td>NaN</td>\n",
       "      <td>NaN</td>\n",
       "      <td>NaN</td>\n",
       "      <td>NaN</td>\n",
       "      <td>NaN</td>\n",
       "      <td>NaN</td>\n",
       "      <td>NaN</td>\n",
       "    </tr>\n",
       "    <tr>\n",
       "      <th>3</th>\n",
       "      <td>Organic Search</td>\n",
       "      <td>20171016</td>\n",
       "      <td>2376720078563423631</td>\n",
       "      <td>2376720078563423631_1508193530</td>\n",
       "      <td>Not Socially Engaged</td>\n",
       "      <td>1508193530</td>\n",
       "      <td>1</td>\n",
       "      <td>1508193530</td>\n",
       "      <td>Americas</td>\n",
       "      <td>Northern America</td>\n",
       "      <td>...</td>\n",
       "      <td>(not provided)</td>\n",
       "      <td>NaN</td>\n",
       "      <td>not available in demo dataset</td>\n",
       "      <td>NaN</td>\n",
       "      <td>NaN</td>\n",
       "      <td>NaN</td>\n",
       "      <td>NaN</td>\n",
       "      <td>NaN</td>\n",
       "      <td>NaN</td>\n",
       "      <td>NaN</td>\n",
       "    </tr>\n",
       "    <tr>\n",
       "      <th>4</th>\n",
       "      <td>Organic Search</td>\n",
       "      <td>20171016</td>\n",
       "      <td>2314544520795440038</td>\n",
       "      <td>2314544520795440038_1508217442</td>\n",
       "      <td>Not Socially Engaged</td>\n",
       "      <td>1508217442</td>\n",
       "      <td>1</td>\n",
       "      <td>1508217442</td>\n",
       "      <td>Americas</td>\n",
       "      <td>Northern America</td>\n",
       "      <td>...</td>\n",
       "      <td>(not provided)</td>\n",
       "      <td>NaN</td>\n",
       "      <td>not available in demo dataset</td>\n",
       "      <td>NaN</td>\n",
       "      <td>NaN</td>\n",
       "      <td>NaN</td>\n",
       "      <td>NaN</td>\n",
       "      <td>NaN</td>\n",
       "      <td>NaN</td>\n",
       "      <td>NaN</td>\n",
       "    </tr>\n",
       "  </tbody>\n",
       "</table>\n",
       "<p>5 rows × 53 columns</p>\n",
       "</div>"
      ],
      "text/plain": [
       "  channelGrouping      date        fullVisitorId  \\\n",
       "0  Organic Search  20171016  6167871330617112363   \n",
       "1  Organic Search  20171016  0643697640977915618   \n",
       "2  Organic Search  20171016  6059383810968229466   \n",
       "3  Organic Search  20171016  2376720078563423631   \n",
       "4  Organic Search  20171016  2314544520795440038   \n",
       "\n",
       "                        sessionId  socialEngagementType     visitId  \\\n",
       "0  6167871330617112363_1508151024  Not Socially Engaged  1508151024   \n",
       "1  0643697640977915618_1508175522  Not Socially Engaged  1508175522   \n",
       "2  6059383810968229466_1508143220  Not Socially Engaged  1508143220   \n",
       "3  2376720078563423631_1508193530  Not Socially Engaged  1508193530   \n",
       "4  2314544520795440038_1508217442  Not Socially Engaged  1508217442   \n",
       "\n",
       "   visitNumber  visitStartTime continent      subContinent  ...  \\\n",
       "0            2      1508151024      Asia    Southeast Asia  ...   \n",
       "1            1      1508175522    Europe   Southern Europe  ...   \n",
       "2            1      1508143220    Europe    Western Europe  ...   \n",
       "3            1      1508193530  Americas  Northern America  ...   \n",
       "4            1      1508217442  Americas  Northern America  ...   \n",
       "\n",
       "          keyword isTrueDirect adwordsClickInfo.criteriaParameters  \\\n",
       "0  (not provided)         True       not available in demo dataset   \n",
       "1  (not provided)          NaN       not available in demo dataset   \n",
       "2  (not provided)          NaN       not available in demo dataset   \n",
       "3  (not provided)          NaN       not available in demo dataset   \n",
       "4  (not provided)          NaN       not available in demo dataset   \n",
       "\n",
       "  adwordsClickInfo.page adwordsClickInfo.slot adwordsClickInfo.gclId  \\\n",
       "0                   NaN                   NaN                    NaN   \n",
       "1                   NaN                   NaN                    NaN   \n",
       "2                   NaN                   NaN                    NaN   \n",
       "3                   NaN                   NaN                    NaN   \n",
       "4                   NaN                   NaN                    NaN   \n",
       "\n",
       "  adwordsClickInfo.adNetworkType adwordsClickInfo.isVideoAd referralPath  \\\n",
       "0                            NaN                        NaN          NaN   \n",
       "1                            NaN                        NaN          NaN   \n",
       "2                            NaN                        NaN          NaN   \n",
       "3                            NaN                        NaN          NaN   \n",
       "4                            NaN                        NaN          NaN   \n",
       "\n",
       "  adContent  \n",
       "0       NaN  \n",
       "1       NaN  \n",
       "2       NaN  \n",
       "3       NaN  \n",
       "4       NaN  \n",
       "\n",
       "[5 rows x 53 columns]"
      ]
     },
     "execution_count": 29,
     "metadata": {},
     "output_type": "execute_result"
    }
   ],
   "source": [
    "#Viewing first 5 rows of the testing dataset\n",
    "test_revenue.head()"
   ]
  },
  {
   "cell_type": "code",
   "execution_count": 31,
   "metadata": {},
   "outputs": [],
   "source": [
    "# #Exporting the modified train dataset to csv\n",
    "# train_revenue.to_csv(\"E:/train_dejsonified.csv\",index=False)\n",
    "\n",
    "# #Exporting the modified test dataset to csv\n",
    "# test_revenue.to_csv(\"E:/test_dejsonified.csv\",index=False)"
   ]
<<<<<<< HEAD
  },
  {
   "cell_type": "code",
   "execution_count": 29,
   "metadata": {},
   "outputs": [
    {
     "name": "stdout",
     "output_type": "stream",
     "text": [
      "The dimensions of the training dataset are: (903653, 55)\n",
      "The dimensions of the testing dataset are: (804684, 53)\n"
     ]
    }
   ],
   "source": [
    "print('The dimensions of the training dataset are:', df_train.shape)\n",
    "print('The dimensions of the testing dataset are:', df_test.shape)"
   ]
  },
  {
   "cell_type": "code",
   "execution_count": 21,
   "metadata": {},
   "outputs": [
    {
     "data": {
      "text/plain": [
       "['channelGrouping',\n",
       " 'date',\n",
       " 'fullVisitorId',\n",
       " 'sessionId',\n",
       " 'socialEngagementType',\n",
       " 'visitId',\n",
       " 'visitNumber',\n",
       " 'visitStartTime',\n",
       " 'continent',\n",
       " 'subContinent',\n",
       " 'country',\n",
       " 'region',\n",
       " 'metro',\n",
       " 'city',\n",
       " 'cityId',\n",
       " 'networkDomain',\n",
       " 'latitude',\n",
       " 'longitude',\n",
       " 'networkLocation',\n",
       " 'browser',\n",
       " 'browserVersion',\n",
       " 'browserSize',\n",
       " 'operatingSystem',\n",
       " 'operatingSystemVersion',\n",
       " 'isMobile',\n",
       " 'mobileDeviceBranding',\n",
       " 'mobileDeviceModel',\n",
       " 'mobileInputSelector',\n",
       " 'mobileDeviceInfo',\n",
       " 'mobileDeviceMarketingName',\n",
       " 'flashVersion',\n",
       " 'language',\n",
       " 'screenColors',\n",
       " 'screenResolution',\n",
       " 'deviceCategory',\n",
       " 'visits',\n",
       " 'hits',\n",
       " 'pageviews',\n",
       " 'bounces',\n",
       " 'newVisits',\n",
       " 'transactionRevenue',\n",
       " 'campaign',\n",
       " 'source',\n",
       " 'medium',\n",
       " 'keyword',\n",
       " 'adwordsClickInfo.criteriaParameters',\n",
       " 'isTrueDirect',\n",
       " 'referralPath',\n",
       " 'adwordsClickInfo.page',\n",
       " 'adwordsClickInfo.slot',\n",
       " 'adwordsClickInfo.gclId',\n",
       " 'adwordsClickInfo.adNetworkType',\n",
       " 'adwordsClickInfo.isVideoAd',\n",
       " 'adContent',\n",
       " 'campaignCode']"
      ]
     },
     "execution_count": 21,
     "metadata": {},
     "output_type": "execute_result"
    }
   ],
   "source": [
    "# Printing all the column names for exploration and understanding the dataset\n",
    "df_train.columns.to_list()"
   ]
  },
  {
   "cell_type": "code",
   "execution_count": 30,
   "metadata": {},
   "outputs": [
    {
     "data": {
      "text/plain": [
       "['channelGrouping',\n",
       " 'date',\n",
       " 'fullVisitorId',\n",
       " 'sessionId',\n",
       " 'socialEngagementType',\n",
       " 'visitId',\n",
       " 'visitNumber',\n",
       " 'visitStartTime',\n",
       " 'continent',\n",
       " 'subContinent',\n",
       " 'country',\n",
       " 'region',\n",
       " 'metro',\n",
       " 'city',\n",
       " 'cityId',\n",
       " 'networkDomain',\n",
       " 'latitude',\n",
       " 'longitude',\n",
       " 'networkLocation',\n",
       " 'browser',\n",
       " 'browserVersion',\n",
       " 'browserSize',\n",
       " 'operatingSystem',\n",
       " 'operatingSystemVersion',\n",
       " 'isMobile',\n",
       " 'mobileDeviceBranding',\n",
       " 'mobileDeviceModel',\n",
       " 'mobileInputSelector',\n",
       " 'mobileDeviceInfo',\n",
       " 'mobileDeviceMarketingName',\n",
       " 'flashVersion',\n",
       " 'language',\n",
       " 'screenColors',\n",
       " 'screenResolution',\n",
       " 'deviceCategory',\n",
       " 'visits',\n",
       " 'hits',\n",
       " 'pageviews',\n",
       " 'newVisits',\n",
       " 'bounces',\n",
       " 'campaign',\n",
       " 'source',\n",
       " 'medium',\n",
       " 'keyword',\n",
       " 'isTrueDirect',\n",
       " 'adwordsClickInfo.criteriaParameters',\n",
       " 'adwordsClickInfo.page',\n",
       " 'adwordsClickInfo.slot',\n",
       " 'adwordsClickInfo.gclId',\n",
       " 'adwordsClickInfo.adNetworkType',\n",
       " 'adwordsClickInfo.isVideoAd',\n",
       " 'referralPath',\n",
       " 'adContent']"
      ]
     },
     "execution_count": 30,
     "metadata": {},
     "output_type": "execute_result"
    }
   ],
   "source": [
    "# printing all the column names for exploration and understanding the dataset. Also, there are less columns in the test dataset. Upon inspection, it is found that the test dataset does not have the 'revenue' column which is the target variable that we are trying to predict.\n",
    "df_test.columns.to_list()"
   ]
  },
  {
   "cell_type": "code",
   "execution_count": 35,
   "metadata": {},
   "outputs": [
    {
     "name": "stdout",
     "output_type": "stream",
     "text": [
      "The proportion of missing values in the transactionRevenue column is: 0.9872572768529513\n",
      "The number of non-null values in the transactionRevenue column is: 11515\n"
     ]
    }
   ],
   "source": [
    "# Inspecting proportion of missing values in the transactioRevenue column (This info is useful for the classification model)\n",
    "print('The proportion of missing values in the transactionRevenue column is:',df_train['transactionRevenue'].isnull().sum()/len(df_train))\n",
    "# Inspecting the number of non-null values in the transactioRevenue column ( The subset is useful for the regression model)\n",
    "print('The number of non-null values in the transactionRevenue column is:',df_train['transactionRevenue'].notnull().sum())"
   ]
  },
  {
   "cell_type": "code",
   "execution_count": 36,
   "metadata": {},
   "outputs": [],
   "source": [
    "def subset_data(df):\n",
    "    reg_df=df[df['transactionRevenue'].notnull()]\n",
    "\n",
    "    return reg_df\n"
   ]
  },
  {
   "cell_type": "code",
   "execution_count": 39,
   "metadata": {},
   "outputs": [],
   "source": [
    "reg_df=subset_data(df_train)"
   ]
  },
  {
   "cell_type": "code",
   "execution_count": 40,
   "metadata": {},
   "outputs": [
    {
     "data": {
      "text/plain": [
       "(11515, 55)"
      ]
     },
     "execution_count": 40,
     "metadata": {},
     "output_type": "execute_result"
    }
   ],
   "source": [
    "reg_df.shape"
   ]
  },
  {
   "cell_type": "code",
   "execution_count": 41,
   "metadata": {},
   "outputs": [],
   "source": [
    "# Replace my path with yours\n",
    "reg_df.to_csv('/Users/Abdul/Desktop/MMA/Enterprise Data Science/Revenue-Radar/Data/reg_df.csv', index=False)"
   ]
  },
  {
   "cell_type": "code",
   "execution_count": 144,
   "metadata": {},
   "outputs": [
    {
     "name": "stderr",
     "output_type": "stream",
     "text": [
      "/var/folders/rj/g3r71fsx2vnbbbjb9v368gr00000gp/T/ipykernel_3416/3898126540.py:1: DtypeWarning: Columns (2,54) have mixed types. Specify dtype option on import or set low_memory=False.\n",
      "  df=pd.read_csv('/Users/Abdul/Desktop/MMA/Enterprise Data Science/Revenue-Radar/Data/train_dejsonified.csv', parse_dates=['date'])\n"
     ]
    }
   ],
   "source": [
    "df=pd.read_csv('/Users/Abdul/Desktop/MMA/Enterprise Data Science/Revenue-Radar/Data/train_dejsonified.csv', parse_dates=['date'])"
   ]
  },
  {
   "cell_type": "code",
   "execution_count": 145,
   "metadata": {},
   "outputs": [
    {
     "name": "stdout",
     "output_type": "stream",
     "text": [
      "<class 'pandas.core.frame.DataFrame'>\n",
      "RangeIndex: 903653 entries, 0 to 903652\n",
      "Data columns (total 55 columns):\n",
      " #   Column                               Non-Null Count   Dtype         \n",
      "---  ------                               --------------   -----         \n",
      " 0   channelGrouping                      903653 non-null  object        \n",
      " 1   date                                 903653 non-null  datetime64[ns]\n",
      " 2   fullVisitorId                        903653 non-null  object        \n",
      " 3   sessionId                            903653 non-null  object        \n",
      " 4   socialEngagementType                 903653 non-null  object        \n",
      " 5   visitId                              903653 non-null  int64         \n",
      " 6   visitNumber                          903653 non-null  int64         \n",
      " 7   visitStartTime                       903653 non-null  int64         \n",
      " 8   continent                            903653 non-null  object        \n",
      " 9   subContinent                         903653 non-null  object        \n",
      " 10  country                              903653 non-null  object        \n",
      " 11  region                               903653 non-null  object        \n",
      " 12  metro                                903653 non-null  object        \n",
      " 13  city                                 903653 non-null  object        \n",
      " 14  cityId                               903653 non-null  object        \n",
      " 15  networkDomain                        903653 non-null  object        \n",
      " 16  latitude                             903653 non-null  object        \n",
      " 17  longitude                            903653 non-null  object        \n",
      " 18  networkLocation                      903653 non-null  object        \n",
      " 19  browser                              903653 non-null  object        \n",
      " 20  browserVersion                       903653 non-null  object        \n",
      " 21  browserSize                          903653 non-null  object        \n",
      " 22  operatingSystem                      903653 non-null  object        \n",
      " 23  operatingSystemVersion               903653 non-null  object        \n",
      " 24  isMobile                             903653 non-null  bool          \n",
      " 25  mobileDeviceBranding                 903653 non-null  object        \n",
      " 26  mobileDeviceModel                    903653 non-null  object        \n",
      " 27  mobileInputSelector                  903653 non-null  object        \n",
      " 28  mobileDeviceInfo                     903653 non-null  object        \n",
      " 29  mobileDeviceMarketingName            903653 non-null  object        \n",
      " 30  flashVersion                         903653 non-null  object        \n",
      " 31  language                             903653 non-null  object        \n",
      " 32  screenColors                         903653 non-null  object        \n",
      " 33  screenResolution                     903653 non-null  object        \n",
      " 34  deviceCategory                       903653 non-null  object        \n",
      " 35  visits                               903653 non-null  int64         \n",
      " 36  hits                                 903653 non-null  int64         \n",
      " 37  pageviews                            903553 non-null  float64       \n",
      " 38  bounces                              450630 non-null  float64       \n",
      " 39  newVisits                            703060 non-null  float64       \n",
      " 40  transactionRevenue                   11515 non-null   float64       \n",
      " 41  campaign                             903653 non-null  object        \n",
      " 42  source                               903653 non-null  object        \n",
      " 43  medium                               903653 non-null  object        \n",
      " 44  keyword                              400724 non-null  object        \n",
      " 45  adwordsClickInfo.criteriaParameters  903653 non-null  object        \n",
      " 46  isTrueDirect                         274005 non-null  object        \n",
      " 47  referralPath                         330941 non-null  object        \n",
      " 48  adwordsClickInfo.page                21460 non-null   float64       \n",
      " 49  adwordsClickInfo.slot                21460 non-null   object        \n",
      " 50  adwordsClickInfo.gclId               21561 non-null   object        \n",
      " 51  adwordsClickInfo.adNetworkType       21460 non-null   object        \n",
      " 52  adwordsClickInfo.isVideoAd           21460 non-null   object        \n",
      " 53  adContent                            10946 non-null   object        \n",
      " 54  campaignCode                         1 non-null       object        \n",
      "dtypes: bool(1), datetime64[ns](1), float64(5), int64(5), object(43)\n",
      "memory usage: 373.2+ MB\n"
     ]
    }
   ],
   "source": [
    "# Exploring the dataset; checking the data types of the columns\n",
    "df.info()"
   ]
  },
  {
   "cell_type": "code",
   "execution_count": 146,
   "metadata": {},
   "outputs": [
    {
     "data": {
      "text/plain": [
       "channelGrouping                             0\n",
       "date                                        0\n",
       "fullVisitorId                               0\n",
       "sessionId                                   0\n",
       "socialEngagementType                        0\n",
       "visitId                                     0\n",
       "visitNumber                                 0\n",
       "visitStartTime                              0\n",
       "continent                                   0\n",
       "subContinent                                0\n",
       "country                                     0\n",
       "region                                      0\n",
       "metro                                       0\n",
       "city                                        0\n",
       "cityId                                      0\n",
       "networkDomain                               0\n",
       "latitude                                    0\n",
       "longitude                                   0\n",
       "networkLocation                             0\n",
       "browser                                     0\n",
       "browserVersion                              0\n",
       "browserSize                                 0\n",
       "operatingSystem                             0\n",
       "operatingSystemVersion                      0\n",
       "isMobile                                    0\n",
       "mobileDeviceBranding                        0\n",
       "mobileDeviceModel                           0\n",
       "mobileInputSelector                         0\n",
       "mobileDeviceInfo                            0\n",
       "mobileDeviceMarketingName                   0\n",
       "flashVersion                                0\n",
       "language                                    0\n",
       "screenColors                                0\n",
       "screenResolution                            0\n",
       "deviceCategory                              0\n",
       "visits                                      0\n",
       "hits                                        0\n",
       "pageviews                                 100\n",
       "bounces                                453023\n",
       "newVisits                              200593\n",
       "transactionRevenue                     892138\n",
       "campaign                                    0\n",
       "source                                      0\n",
       "medium                                      0\n",
       "keyword                                502929\n",
       "adwordsClickInfo.criteriaParameters         0\n",
       "isTrueDirect                           629648\n",
       "referralPath                           572712\n",
       "adwordsClickInfo.page                  882193\n",
       "adwordsClickInfo.slot                  882193\n",
       "adwordsClickInfo.gclId                 882092\n",
       "adwordsClickInfo.adNetworkType         882193\n",
       "adwordsClickInfo.isVideoAd             882193\n",
       "adContent                              892707\n",
       "campaignCode                           903652\n",
       "dtype: int64"
      ]
     },
     "execution_count": 146,
     "metadata": {},
     "output_type": "execute_result"
    }
   ],
   "source": [
    "# Checking null values in the dataset\n",
    "# Note that null values in the transactionRevenue column means that the customer did not make a purchase\n",
    "df.isnull().sum()"
   ]
  },
  {
   "cell_type": "markdown",
   "metadata": {},
   "source": [
    "#### Preparing the dataset for the classification model"
   ]
  },
  {
   "cell_type": "code",
   "execution_count": 147,
   "metadata": {},
   "outputs": [
    {
     "data": {
      "text/html": [
       "<div>\n",
       "<style scoped>\n",
       "    .dataframe tbody tr th:only-of-type {\n",
       "        vertical-align: middle;\n",
       "    }\n",
       "\n",
       "    .dataframe tbody tr th {\n",
       "        vertical-align: top;\n",
       "    }\n",
       "\n",
       "    .dataframe thead th {\n",
       "        text-align: right;\n",
       "    }\n",
       "</style>\n",
       "<table border=\"1\" class=\"dataframe\">\n",
       "  <thead>\n",
       "    <tr style=\"text-align: right;\">\n",
       "      <th></th>\n",
       "      <th>channelGrouping</th>\n",
       "      <th>date</th>\n",
       "      <th>fullVisitorId</th>\n",
       "      <th>sessionId</th>\n",
       "      <th>socialEngagementType</th>\n",
       "      <th>visitId</th>\n",
       "      <th>visitNumber</th>\n",
       "      <th>visitStartTime</th>\n",
       "      <th>continent</th>\n",
       "      <th>subContinent</th>\n",
       "      <th>...</th>\n",
       "      <th>isTrueDirect</th>\n",
       "      <th>referralPath</th>\n",
       "      <th>adwordsClickInfo.page</th>\n",
       "      <th>adwordsClickInfo.slot</th>\n",
       "      <th>adwordsClickInfo.gclId</th>\n",
       "      <th>adwordsClickInfo.adNetworkType</th>\n",
       "      <th>adwordsClickInfo.isVideoAd</th>\n",
       "      <th>adContent</th>\n",
       "      <th>campaignCode</th>\n",
       "      <th>Conversion</th>\n",
       "    </tr>\n",
       "  </thead>\n",
       "  <tbody>\n",
       "    <tr>\n",
       "      <th>843594</th>\n",
       "      <td>Social</td>\n",
       "      <td>2017-04-07</td>\n",
       "      <td>6042819595810951805</td>\n",
       "      <td>6042819595810951805_1491553559</td>\n",
       "      <td>Not Socially Engaged</td>\n",
       "      <td>1491553559</td>\n",
       "      <td>1</td>\n",
       "      <td>1491553559</td>\n",
       "      <td>Asia</td>\n",
       "      <td>Western Asia</td>\n",
       "      <td>...</td>\n",
       "      <td>NaN</td>\n",
       "      <td>/yt/about/tr/</td>\n",
       "      <td>NaN</td>\n",
       "      <td>NaN</td>\n",
       "      <td>NaN</td>\n",
       "      <td>NaN</td>\n",
       "      <td>NaN</td>\n",
       "      <td>NaN</td>\n",
       "      <td>NaN</td>\n",
       "      <td>0</td>\n",
       "    </tr>\n",
       "    <tr>\n",
       "      <th>418191</th>\n",
       "      <td>Social</td>\n",
       "      <td>2016-12-05</td>\n",
       "      <td>7440263805326306030</td>\n",
       "      <td>7440263805326306030_1480948633</td>\n",
       "      <td>Not Socially Engaged</td>\n",
       "      <td>1480948633</td>\n",
       "      <td>1</td>\n",
       "      <td>1480948633</td>\n",
       "      <td>Americas</td>\n",
       "      <td>South America</td>\n",
       "      <td>...</td>\n",
       "      <td>NaN</td>\n",
       "      <td>/yt/about/pt-BR/</td>\n",
       "      <td>NaN</td>\n",
       "      <td>NaN</td>\n",
       "      <td>NaN</td>\n",
       "      <td>NaN</td>\n",
       "      <td>NaN</td>\n",
       "      <td>NaN</td>\n",
       "      <td>NaN</td>\n",
       "      <td>0</td>\n",
       "    </tr>\n",
       "    <tr>\n",
       "      <th>240967</th>\n",
       "      <td>Referral</td>\n",
       "      <td>2017-05-03</td>\n",
       "      <td>7800845898938063758</td>\n",
       "      <td>7800845898938063758_1493852353</td>\n",
       "      <td>Not Socially Engaged</td>\n",
       "      <td>1493852353</td>\n",
       "      <td>4</td>\n",
       "      <td>1493852353</td>\n",
       "      <td>Americas</td>\n",
       "      <td>Northern America</td>\n",
       "      <td>...</td>\n",
       "      <td>NaN</td>\n",
       "      <td>/analytics/web/</td>\n",
       "      <td>NaN</td>\n",
       "      <td>NaN</td>\n",
       "      <td>NaN</td>\n",
       "      <td>NaN</td>\n",
       "      <td>NaN</td>\n",
       "      <td>NaN</td>\n",
       "      <td>NaN</td>\n",
       "      <td>0</td>\n",
       "    </tr>\n",
       "    <tr>\n",
       "      <th>774875</th>\n",
       "      <td>Organic Search</td>\n",
       "      <td>2017-07-18</td>\n",
       "      <td>9545333070607961057</td>\n",
       "      <td>9545333070607961057_1500380607</td>\n",
       "      <td>Not Socially Engaged</td>\n",
       "      <td>1500380607</td>\n",
       "      <td>1</td>\n",
       "      <td>1500380607</td>\n",
       "      <td>Asia</td>\n",
       "      <td>Western Asia</td>\n",
       "      <td>...</td>\n",
       "      <td>NaN</td>\n",
       "      <td>NaN</td>\n",
       "      <td>NaN</td>\n",
       "      <td>NaN</td>\n",
       "      <td>NaN</td>\n",
       "      <td>NaN</td>\n",
       "      <td>NaN</td>\n",
       "      <td>NaN</td>\n",
       "      <td>NaN</td>\n",
       "      <td>0</td>\n",
       "    </tr>\n",
       "    <tr>\n",
       "      <th>398583</th>\n",
       "      <td>Paid Search</td>\n",
       "      <td>2016-09-09</td>\n",
       "      <td>6561335265655404482</td>\n",
       "      <td>6561335265655404482_1473427486</td>\n",
       "      <td>Not Socially Engaged</td>\n",
       "      <td>1473427486</td>\n",
       "      <td>2</td>\n",
       "      <td>1473427486</td>\n",
       "      <td>Americas</td>\n",
       "      <td>Northern America</td>\n",
       "      <td>...</td>\n",
       "      <td>NaN</td>\n",
       "      <td>NaN</td>\n",
       "      <td>1.0</td>\n",
       "      <td>Top</td>\n",
       "      <td>CjwKEAjwu8m-BRDM8KTcjdj8qy0SJACdjSZpgvmtdtinnJ...</td>\n",
       "      <td>Google Search</td>\n",
       "      <td>False</td>\n",
       "      <td>NaN</td>\n",
       "      <td>NaN</td>\n",
       "      <td>0</td>\n",
       "    </tr>\n",
       "  </tbody>\n",
       "</table>\n",
       "<p>5 rows × 56 columns</p>\n",
       "</div>"
      ],
      "text/plain": [
       "       channelGrouping       date        fullVisitorId  \\\n",
       "843594          Social 2017-04-07  6042819595810951805   \n",
       "418191          Social 2016-12-05  7440263805326306030   \n",
       "240967        Referral 2017-05-03  7800845898938063758   \n",
       "774875  Organic Search 2017-07-18  9545333070607961057   \n",
       "398583     Paid Search 2016-09-09  6561335265655404482   \n",
       "\n",
       "                             sessionId  socialEngagementType     visitId  \\\n",
       "843594  6042819595810951805_1491553559  Not Socially Engaged  1491553559   \n",
       "418191  7440263805326306030_1480948633  Not Socially Engaged  1480948633   \n",
       "240967  7800845898938063758_1493852353  Not Socially Engaged  1493852353   \n",
       "774875  9545333070607961057_1500380607  Not Socially Engaged  1500380607   \n",
       "398583  6561335265655404482_1473427486  Not Socially Engaged  1473427486   \n",
       "\n",
       "        visitNumber  visitStartTime continent      subContinent  ...  \\\n",
       "843594            1      1491553559      Asia      Western Asia  ...   \n",
       "418191            1      1480948633  Americas     South America  ...   \n",
       "240967            4      1493852353  Americas  Northern America  ...   \n",
       "774875            1      1500380607      Asia      Western Asia  ...   \n",
       "398583            2      1473427486  Americas  Northern America  ...   \n",
       "\n",
       "       isTrueDirect      referralPath adwordsClickInfo.page  \\\n",
       "843594          NaN     /yt/about/tr/                   NaN   \n",
       "418191          NaN  /yt/about/pt-BR/                   NaN   \n",
       "240967          NaN   /analytics/web/                   NaN   \n",
       "774875          NaN               NaN                   NaN   \n",
       "398583          NaN               NaN                   1.0   \n",
       "\n",
       "       adwordsClickInfo.slot  \\\n",
       "843594                   NaN   \n",
       "418191                   NaN   \n",
       "240967                   NaN   \n",
       "774875                   NaN   \n",
       "398583                   Top   \n",
       "\n",
       "                                   adwordsClickInfo.gclId  \\\n",
       "843594                                                NaN   \n",
       "418191                                                NaN   \n",
       "240967                                                NaN   \n",
       "774875                                                NaN   \n",
       "398583  CjwKEAjwu8m-BRDM8KTcjdj8qy0SJACdjSZpgvmtdtinnJ...   \n",
       "\n",
       "       adwordsClickInfo.adNetworkType adwordsClickInfo.isVideoAd adContent  \\\n",
       "843594                            NaN                        NaN       NaN   \n",
       "418191                            NaN                        NaN       NaN   \n",
       "240967                            NaN                        NaN       NaN   \n",
       "774875                            NaN                        NaN       NaN   \n",
       "398583                  Google Search                      False       NaN   \n",
       "\n",
       "       campaignCode Conversion  \n",
       "843594          NaN          0  \n",
       "418191          NaN          0  \n",
       "240967          NaN          0  \n",
       "774875          NaN          0  \n",
       "398583          NaN          0  \n",
       "\n",
       "[5 rows x 56 columns]"
      ]
     },
     "execution_count": 147,
     "metadata": {},
     "output_type": "execute_result"
    }
   ],
   "source": [
    "# Creating a new column 'Conversion' which will be used as the target variable in the classification model. 1 indicates that the customer made a purchase and 0 indicates that the customer did not make a purchase. \n",
    "df['Conversion'] = df['transactionRevenue'].notnull().astype(int)\n",
    "df.sample(5)\n"
   ]
  },
  {
   "cell_type": "code",
   "execution_count": 148,
   "metadata": {},
   "outputs": [
    {
     "data": {
      "text/plain": [
       "Conversion\n",
       "0    0.987257\n",
       "1    0.012743\n",
       "Name: proportion, dtype: float64"
      ]
     },
     "execution_count": 148,
     "metadata": {},
     "output_type": "execute_result"
    }
   ],
   "source": [
    "# Checking the class distribution of the target variable\n",
    "df['Conversion'].value_counts(normalize=True)"
   ]
  },
  {
   "cell_type": "code",
   "execution_count": 149,
   "metadata": {},
   "outputs": [],
   "source": [
    "# Dropping the transactionRevenue column as it is not needed for the classification model\n",
    "df.drop(['transactionRevenue'], axis=1, inplace=True)"
   ]
  },
  {
   "cell_type": "code",
   "execution_count": 150,
   "metadata": {},
   "outputs": [
    {
     "data": {
      "text/plain": [
       "['channelGrouping',\n",
       " 'date',\n",
       " 'fullVisitorId',\n",
       " 'sessionId',\n",
       " 'socialEngagementType',\n",
       " 'visitId',\n",
       " 'visitNumber',\n",
       " 'visitStartTime',\n",
       " 'continent',\n",
       " 'subContinent',\n",
       " 'country',\n",
       " 'region',\n",
       " 'metro',\n",
       " 'city',\n",
       " 'cityId',\n",
       " 'networkDomain',\n",
       " 'latitude',\n",
       " 'longitude',\n",
       " 'networkLocation',\n",
       " 'browser',\n",
       " 'browserVersion',\n",
       " 'browserSize',\n",
       " 'operatingSystem',\n",
       " 'operatingSystemVersion',\n",
       " 'isMobile',\n",
       " 'mobileDeviceBranding',\n",
       " 'mobileDeviceModel',\n",
       " 'mobileInputSelector',\n",
       " 'mobileDeviceInfo',\n",
       " 'mobileDeviceMarketingName',\n",
       " 'flashVersion',\n",
       " 'language',\n",
       " 'screenColors',\n",
       " 'screenResolution',\n",
       " 'deviceCategory',\n",
       " 'visits',\n",
       " 'hits',\n",
       " 'pageviews',\n",
       " 'bounces',\n",
       " 'newVisits',\n",
       " 'campaign',\n",
       " 'source',\n",
       " 'medium',\n",
       " 'keyword',\n",
       " 'adwordsClickInfo.criteriaParameters',\n",
       " 'isTrueDirect',\n",
       " 'referralPath',\n",
       " 'adwordsClickInfo.page',\n",
       " 'adwordsClickInfo.slot',\n",
       " 'adwordsClickInfo.gclId',\n",
       " 'adwordsClickInfo.adNetworkType',\n",
       " 'adwordsClickInfo.isVideoAd',\n",
       " 'adContent',\n",
       " 'campaignCode',\n",
       " 'Conversion']"
      ]
     },
     "execution_count": 150,
     "metadata": {},
     "output_type": "execute_result"
    }
   ],
   "source": [
    "df.columns.to_list()"
   ]
  },
  {
   "cell_type": "code",
   "execution_count": 151,
   "metadata": {},
   "outputs": [
    {
     "data": {
      "text/plain": [
       "channelGrouping                             8\n",
       "date                                      366\n",
       "fullVisitorId                          723803\n",
       "sessionId                              902755\n",
       "socialEngagementType                        1\n",
       "visitId                                886303\n",
       "visitNumber                               384\n",
       "visitStartTime                         887159\n",
       "continent                                   6\n",
       "subContinent                               23\n",
       "country                                   222\n",
       "region                                    376\n",
       "metro                                      94\n",
       "city                                      649\n",
       "cityId                                      1\n",
       "networkDomain                           28064\n",
       "latitude                                    1\n",
       "longitude                                   1\n",
       "networkLocation                             1\n",
       "browser                                    54\n",
       "browserVersion                              1\n",
       "browserSize                                 1\n",
       "operatingSystem                            20\n",
       "operatingSystemVersion                      1\n",
       "isMobile                                    2\n",
       "mobileDeviceBranding                        1\n",
       "mobileDeviceModel                           1\n",
       "mobileInputSelector                         1\n",
       "mobileDeviceInfo                            1\n",
       "mobileDeviceMarketingName                   1\n",
       "flashVersion                                1\n",
       "language                                    1\n",
       "screenColors                                1\n",
       "screenResolution                            1\n",
       "deviceCategory                              3\n",
       "visits                                      1\n",
       "hits                                      274\n",
       "pageviews                                 213\n",
       "bounces                                     1\n",
       "newVisits                                   1\n",
       "campaign                                   10\n",
       "source                                    380\n",
       "medium                                      7\n",
       "keyword                                  3659\n",
       "adwordsClickInfo.criteriaParameters         1\n",
       "isTrueDirect                                1\n",
       "referralPath                             1475\n",
       "adwordsClickInfo.page                       8\n",
       "adwordsClickInfo.slot                       2\n",
       "adwordsClickInfo.gclId                  17774\n",
       "adwordsClickInfo.adNetworkType              2\n",
       "adwordsClickInfo.isVideoAd                  1\n",
       "adContent                                  44\n",
       "campaignCode                                1\n",
       "Conversion                                  2\n",
       "dtype: int64"
      ]
     },
     "execution_count": 151,
     "metadata": {},
     "output_type": "execute_result"
    }
   ],
   "source": [
    "# Checking the number of unique values in each column\n",
    "df.nunique()"
   ]
  },
  {
   "cell_type": "code",
   "execution_count": 152,
   "metadata": {},
   "outputs": [
    {
     "data": {
      "text/plain": [
       "bounces\n",
       "1.0    450630\n",
       "Name: count, dtype: int64"
      ]
     },
     "execution_count": 152,
     "metadata": {},
     "output_type": "execute_result"
    }
   ],
   "source": [
    "# Checking the unique values in the 'bounces' column\n",
    "df['bounces'].value_counts()"
   ]
  },
  {
   "cell_type": "code",
   "execution_count": 153,
   "metadata": {},
   "outputs": [
    {
     "data": {
      "text/plain": [
       "bounces\n",
       "0.0    453023\n",
       "1.0    450630\n",
       "Name: count, dtype: int64"
      ]
     },
     "execution_count": 153,
     "metadata": {},
     "output_type": "execute_result"
    }
   ],
   "source": [
    "# Replacing the null values in the 'bounces' column with 0\n",
    "df['bounces'].fillna(0, inplace=True)\n",
    "# Checking the unique values in the 'bounces' column after replacing the null values\n",
    "df['bounces'].value_counts()"
   ]
  },
  {
   "cell_type": "code",
   "execution_count": 154,
   "metadata": {},
   "outputs": [
    {
     "data": {
      "text/plain": [
       "['socialEngagementType',\n",
       " 'cityId',\n",
       " 'latitude',\n",
       " 'longitude',\n",
       " 'networkLocation',\n",
       " 'browserVersion',\n",
       " 'browserSize',\n",
       " 'operatingSystemVersion',\n",
       " 'mobileDeviceBranding',\n",
       " 'mobileDeviceModel',\n",
       " 'mobileInputSelector',\n",
       " 'mobileDeviceInfo',\n",
       " 'mobileDeviceMarketingName',\n",
       " 'flashVersion',\n",
       " 'language',\n",
       " 'screenColors',\n",
       " 'screenResolution',\n",
       " 'visits',\n",
       " 'newVisits',\n",
       " 'adwordsClickInfo.criteriaParameters',\n",
       " 'isTrueDirect',\n",
       " 'adwordsClickInfo.isVideoAd',\n",
       " 'campaignCode']"
      ]
     },
     "execution_count": 154,
     "metadata": {},
     "output_type": "execute_result"
    }
   ],
   "source": [
    "# Finding the columns with constant values\n",
    "constant_columns = [col for col in df.columns if df[col].nunique() == 1]     \n",
    "constant_columns"
   ]
  },
  {
   "cell_type": "markdown",
   "metadata": {},
   "source": [
    "### Dealing with Useless Variables\n",
    "\n",
    "Upon inspecting the dataset to determine the useful columns for the use-case and identifying which columns will be dropped, the following observations were made:\n",
    "\n",
    "- The following columns are IDs and are not useful for our analysis, and hence, should be dropped:\n",
    "  - `fullVisitorId`\n",
    "  - `sessionId`\n",
    "  - `visitId`\n",
    "  - `cityId`\n",
    "\n",
    "- The following columns are constant across all observations; therefore, all except `bounces` should be dropped. The `bounces` column contains null values and 1s, indicating that the observations with null values represent users who take actions before exiting:\n",
    "  - `socialEngagementType`\n",
    "  - `latitude`\n",
    "  - `longitude`\n",
    "  - `networkLocation`\n",
    "  - `browserVersion`\n",
    "  - `browserSize`\n",
    "  - `operatingSystemVersion`\n",
    "  - `mobileDeviceBranding`\n",
    "  - `mobileDeviceModel`\n",
    "  - `mobileInputSelector`\n",
    "  - `mobileDeviceInfo`\n",
    "  - `mobileDeviceMarketingName`\n",
    "  - `flashVersion`\n",
    "  - `language`\n",
    "  - `screenColors`\n",
    "  - `screenResolution`\n",
    "  - `visits`\n",
    "  - `newVisits`\n",
    "  - `adwordsClickInfo.criteriaParameters`\n",
    "  - `isTrueDirect`\n",
    "  - `adwordsClickInfo.isVideoAd`\n",
    "  - `campaignCode`\n",
    "- The `networkDomain` column has too many unique values; therefore, it should be dropped"
   ]
  },
  {
   "cell_type": "code",
   "execution_count": 155,
   "metadata": {},
   "outputs": [],
   "source": [
    "# dropping the id columns \n",
    "df.drop(['fullVisitorId', 'sessionId','cityId','visitId'], axis=1, inplace=True)\n",
    "# dropping columns with many unique values\n",
    "df.drop('networkDomain', axis=1, inplace=True)"
   ]
  },
  {
   "cell_type": "code",
   "execution_count": 156,
   "metadata": {},
   "outputs": [
    {
     "data": {
      "text/plain": [
       "(903653, 50)"
      ]
     },
     "execution_count": 156,
     "metadata": {},
     "output_type": "execute_result"
    }
   ],
   "source": [
    "# Checking the new dimensions of the dataset\n",
    "df.shape"
   ]
  },
  {
   "cell_type": "code",
   "execution_count": 157,
   "metadata": {},
   "outputs": [],
   "source": [
    "# dropping the columns with constant values\n",
    "constant_columns.remove('cityId') # removing the cityId column because I have already dropped it\n",
    "df.drop(constant_columns, axis=1, inplace=True)"
   ]
  },
  {
   "cell_type": "code",
   "execution_count": 158,
   "metadata": {},
   "outputs": [
    {
     "data": {
      "text/plain": [
       "(903653, 28)"
      ]
     },
     "execution_count": 158,
     "metadata": {},
     "output_type": "execute_result"
    }
   ],
   "source": [
    "# checking the shape of the dataset after dropping the columns with constant values \n",
    "df.shape"
   ]
  },
  {
   "cell_type": "code",
   "execution_count": 159,
   "metadata": {},
   "outputs": [
    {
     "data": {
      "text/plain": [
       "adContent                         0.987887\n",
       "adwordsClickInfo.adNetworkType    0.976252\n",
       "adwordsClickInfo.slot             0.976252\n",
       "adwordsClickInfo.page             0.976252\n",
       "adwordsClickInfo.gclId            0.976140\n",
       "referralPath                      0.633774\n",
       "keyword                           0.556551\n",
       "pageviews                         0.000111\n",
       "channelGrouping                   0.000000\n",
       "date                              0.000000\n",
       "medium                            0.000000\n",
       "source                            0.000000\n",
       "campaign                          0.000000\n",
       "bounces                           0.000000\n",
       "hits                              0.000000\n",
       "deviceCategory                    0.000000\n",
       "isMobile                          0.000000\n",
       "operatingSystem                   0.000000\n",
       "browser                           0.000000\n",
       "city                              0.000000\n",
       "metro                             0.000000\n",
       "region                            0.000000\n",
       "country                           0.000000\n",
       "subContinent                      0.000000\n",
       "continent                         0.000000\n",
       "visitStartTime                    0.000000\n",
       "visitNumber                       0.000000\n",
       "Conversion                        0.000000\n",
       "dtype: float64"
      ]
     },
     "execution_count": 159,
     "metadata": {},
     "output_type": "execute_result"
    }
   ],
   "source": [
    "# Calculaing the proportion of missing values in each column\n",
    "missing_values = df.isnull().mean().sort_values(ascending=False)\n",
    "missing_values"
   ]
  },
  {
   "cell_type": "code",
   "execution_count": 160,
   "metadata": {},
   "outputs": [
    {
     "data": {
      "text/plain": [
       "adContent                         0.987887\n",
       "adwordsClickInfo.adNetworkType    0.976252\n",
       "adwordsClickInfo.slot             0.976252\n",
       "adwordsClickInfo.page             0.976252\n",
       "adwordsClickInfo.gclId            0.976140\n",
       "referralPath                      0.633774\n",
       "keyword                           0.556551\n",
       "dtype: float64"
      ]
     },
     "execution_count": 160,
     "metadata": {},
     "output_type": "execute_result"
    }
   ],
   "source": [
    "over_50=missing_values[missing_values>0.5]\n",
    "over_50"
   ]
  },
  {
   "cell_type": "code",
   "execution_count": 161,
   "metadata": {},
   "outputs": [
    {
     "data": {
      "text/plain": [
       "['adContent',\n",
       " 'adwordsClickInfo.adNetworkType',\n",
       " 'adwordsClickInfo.slot',\n",
       " 'adwordsClickInfo.page',\n",
       " 'adwordsClickInfo.gclId',\n",
       " 'referralPath',\n",
       " 'keyword']"
      ]
     },
     "execution_count": 161,
     "metadata": {},
     "output_type": "execute_result"
    }
   ],
   "source": [
    "over_50_cols=over_50.index.to_list()\n",
    "over_50_cols"
   ]
  },
  {
   "cell_type": "markdown",
   "metadata": {},
   "source": [
    "### Handling Missing Values\n",
    "\n",
    "The following columns have more than 70% missing values, indicating a significant lack of data. To maintain the integrity and effectiveness of our analysis, these columns will be dropped from the dataset:\n",
    "\n",
    "- `adContent`\n",
    "- `adwordsClickInfo.criteriaParameters`\n",
    "- `adwordsClickInfo.isVideoAd`\n",
    "- `adwordsClickInfo.adNetworkType`\n",
    "- `adwordsClickInfo.slot`\n",
    "- `adwordsClickInfo.page`\n",
    "- `adwordsClickInfo.gclId`\n",
    "\n",
    "Removing these columns to focus on more complete and informative features for our analysis."
   ]
  },
  {
   "cell_type": "code",
   "execution_count": 162,
   "metadata": {},
   "outputs": [],
   "source": [
    "# Dropping the columns with more than 70% missing values\n",
    "df.drop(over_50_cols, axis=1, inplace=True)"
   ]
  },
  {
   "cell_type": "code",
   "execution_count": 163,
   "metadata": {},
   "outputs": [
    {
     "data": {
      "text/plain": [
       "(903653, 21)"
      ]
     },
     "execution_count": 163,
     "metadata": {},
     "output_type": "execute_result"
    }
   ],
   "source": [
    "# checking the shape of the dataset after dropping the columns with more than 70% missing values\n",
    "df.shape"
   ]
  },
  {
   "cell_type": "code",
   "execution_count": 164,
   "metadata": {},
   "outputs": [
    {
     "data": {
      "text/plain": [
       "channelGrouping      0\n",
       "date                 0\n",
       "visitNumber          0\n",
       "visitStartTime       0\n",
       "continent            0\n",
       "subContinent         0\n",
       "country              0\n",
       "region               0\n",
       "metro                0\n",
       "city                 0\n",
       "browser              0\n",
       "operatingSystem      0\n",
       "isMobile             0\n",
       "deviceCategory       0\n",
       "hits                 0\n",
       "pageviews          100\n",
       "bounces              0\n",
       "campaign             0\n",
       "source               0\n",
       "medium               0\n",
       "Conversion           0\n",
       "dtype: int64"
      ]
     },
     "execution_count": 164,
     "metadata": {},
     "output_type": "execute_result"
    }
   ],
   "source": [
    "# Checking the number of null values in the dataset\n",
    "df.isnull().sum()"
   ]
=======
>>>>>>> parent of bd3c948 (Subsetted data)
  }
 ],
 "metadata": {
  "kernelspec": {
   "display_name": "Python 3 (ipykernel)",
   "language": "python",
   "name": "python3"
  }
 },
 "nbformat": 4,
 "nbformat_minor": 2
}
