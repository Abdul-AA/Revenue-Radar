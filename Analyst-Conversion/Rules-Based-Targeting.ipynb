{
 "cells": [
  {
   "cell_type": "markdown",
   "metadata": {},
   "source": [
    "Basis of Assumed Current-State Rules-Based Targetting"
   ]
  },
  {
   "cell_type": "code",
   "execution_count": 1,
   "metadata": {},
   "outputs": [],
   "source": [
    "import pandas as pd"
   ]
  },
  {
   "cell_type": "code",
   "execution_count": 2,
   "metadata": {},
   "outputs": [
    {
     "name": "stderr",
     "output_type": "stream",
     "text": [
      "/var/folders/z1/1zds15w97_g7_fhs4_83dc3m0000gn/T/ipykernel_67218/475433133.py:1: DtypeWarning: Columns (0) have mixed types. Specify dtype option on import or set low_memory=False.\n",
      "  userdata2 = pd.read_csv('/Users/aoluwolerotimi/Datasets/user_df2.csv')\n"
     ]
    }
   ],
   "source": [
    "userdata2 = pd.read_csv('/Users/aoluwolerotimi/Datasets/user_df2.csv')"
   ]
  },
  {
   "cell_type": "code",
   "execution_count": 8,
   "metadata": {},
   "outputs": [
    {
     "data": {
      "text/html": [
       "<style type=\"text/css\">\n",
       "</style>\n",
       "<table id=\"T_fe3ff\">\n",
       "  <thead>\n",
       "    <tr>\n",
       "      <th class=\"blank level0\" >&nbsp;</th>\n",
       "      <th id=\"T_fe3ff_level0_col0\" class=\"col_heading level0 col0\" >fullVisitorId</th>\n",
       "      <th id=\"T_fe3ff_level0_col1\" class=\"col_heading level0 col1\" >FirstChannelVisit</th>\n",
       "      <th id=\"T_fe3ff_level0_col2\" class=\"col_heading level0 col2\" >LastChannelVisit</th>\n",
       "      <th id=\"T_fe3ff_level0_col3\" class=\"col_heading level0 col3\" >at_least_one_conversion</th>\n",
       "      <th id=\"T_fe3ff_level0_col4\" class=\"col_heading level0 col4\" >country</th>\n",
       "      <th id=\"T_fe3ff_level0_col5\" class=\"col_heading level0 col5\" >continent</th>\n",
       "      <th id=\"T_fe3ff_level0_col6\" class=\"col_heading level0 col6\" >subContinent</th>\n",
       "      <th id=\"T_fe3ff_level0_col7\" class=\"col_heading level0 col7\" >TotalVisits</th>\n",
       "      <th id=\"T_fe3ff_level0_col8\" class=\"col_heading level0 col8\" >TotalBounces</th>\n",
       "      <th id=\"T_fe3ff_level0_col9\" class=\"col_heading level0 col9\" >Organic Search</th>\n",
       "      <th id=\"T_fe3ff_level0_col10\" class=\"col_heading level0 col10\" >Social</th>\n",
       "      <th id=\"T_fe3ff_level0_col11\" class=\"col_heading level0 col11\" >Direct</th>\n",
       "      <th id=\"T_fe3ff_level0_col12\" class=\"col_heading level0 col12\" >Paid Search</th>\n",
       "      <th id=\"T_fe3ff_level0_col13\" class=\"col_heading level0 col13\" >Referral</th>\n",
       "      <th id=\"T_fe3ff_level0_col14\" class=\"col_heading level0 col14\" >Affiliates</th>\n",
       "      <th id=\"T_fe3ff_level0_col15\" class=\"col_heading level0 col15\" >Display</th>\n",
       "      <th id=\"T_fe3ff_level0_col16\" class=\"col_heading level0 col16\" >(Other)</th>\n",
       "      <th id=\"T_fe3ff_level0_col17\" class=\"col_heading level0 col17\" >TotalPageviews</th>\n",
       "      <th id=\"T_fe3ff_level0_col18\" class=\"col_heading level0 col18\" >desktop</th>\n",
       "      <th id=\"T_fe3ff_level0_col19\" class=\"col_heading level0 col19\" >mobile</th>\n",
       "      <th id=\"T_fe3ff_level0_col20\" class=\"col_heading level0 col20\" >tablet</th>\n",
       "      <th id=\"T_fe3ff_level0_col21\" class=\"col_heading level0 col21\" >FirstSessionPageviews</th>\n",
       "      <th id=\"T_fe3ff_level0_col22\" class=\"col_heading level0 col22\" >LastSessionPageviews</th>\n",
       "      <th id=\"T_fe3ff_level0_col23\" class=\"col_heading level0 col23\" >Conversion</th>\n",
       "      <th id=\"T_fe3ff_level0_col24\" class=\"col_heading level0 col24\" >CampaignVisits</th>\n",
       "    </tr>\n",
       "  </thead>\n",
       "  <tbody>\n",
       "    <tr>\n",
       "      <th id=\"T_fe3ff_level0_row0\" class=\"row_heading level0 row0\" >0</th>\n",
       "      <td id=\"T_fe3ff_row0_col0\" class=\"data row0 col0\" >4823595352351</td>\n",
       "      <td id=\"T_fe3ff_row0_col1\" class=\"data row0 col1\" >Organic Search</td>\n",
       "      <td id=\"T_fe3ff_row0_col2\" class=\"data row0 col2\" >Organic Search</td>\n",
       "      <td id=\"T_fe3ff_row0_col3\" class=\"data row0 col3\" >0</td>\n",
       "      <td id=\"T_fe3ff_row0_col4\" class=\"data row0 col4\" >China</td>\n",
       "      <td id=\"T_fe3ff_row0_col5\" class=\"data row0 col5\" >Asia</td>\n",
       "      <td id=\"T_fe3ff_row0_col6\" class=\"data row0 col6\" >Eastern Asia</td>\n",
       "      <td id=\"T_fe3ff_row0_col7\" class=\"data row0 col7\" >1</td>\n",
       "      <td id=\"T_fe3ff_row0_col8\" class=\"data row0 col8\" >1</td>\n",
       "      <td id=\"T_fe3ff_row0_col9\" class=\"data row0 col9\" >1</td>\n",
       "      <td id=\"T_fe3ff_row0_col10\" class=\"data row0 col10\" >0</td>\n",
       "      <td id=\"T_fe3ff_row0_col11\" class=\"data row0 col11\" >0</td>\n",
       "      <td id=\"T_fe3ff_row0_col12\" class=\"data row0 col12\" >0</td>\n",
       "      <td id=\"T_fe3ff_row0_col13\" class=\"data row0 col13\" >0</td>\n",
       "      <td id=\"T_fe3ff_row0_col14\" class=\"data row0 col14\" >0</td>\n",
       "      <td id=\"T_fe3ff_row0_col15\" class=\"data row0 col15\" >0</td>\n",
       "      <td id=\"T_fe3ff_row0_col16\" class=\"data row0 col16\" >0</td>\n",
       "      <td id=\"T_fe3ff_row0_col17\" class=\"data row0 col17\" >1</td>\n",
       "      <td id=\"T_fe3ff_row0_col18\" class=\"data row0 col18\" >1</td>\n",
       "      <td id=\"T_fe3ff_row0_col19\" class=\"data row0 col19\" >0</td>\n",
       "      <td id=\"T_fe3ff_row0_col20\" class=\"data row0 col20\" >0</td>\n",
       "      <td id=\"T_fe3ff_row0_col21\" class=\"data row0 col21\" >1</td>\n",
       "      <td id=\"T_fe3ff_row0_col22\" class=\"data row0 col22\" >1</td>\n",
       "      <td id=\"T_fe3ff_row0_col23\" class=\"data row0 col23\" >0</td>\n",
       "      <td id=\"T_fe3ff_row0_col24\" class=\"data row0 col24\" >0</td>\n",
       "    </tr>\n",
       "    <tr>\n",
       "      <th id=\"T_fe3ff_level0_row1\" class=\"row_heading level0 row1\" >1</th>\n",
       "      <td id=\"T_fe3ff_row1_col0\" class=\"data row1 col0\" >5103959234087</td>\n",
       "      <td id=\"T_fe3ff_row1_col1\" class=\"data row1 col1\" >Organic Search</td>\n",
       "      <td id=\"T_fe3ff_row1_col2\" class=\"data row1 col2\" >Organic Search</td>\n",
       "      <td id=\"T_fe3ff_row1_col3\" class=\"data row1 col3\" >0</td>\n",
       "      <td id=\"T_fe3ff_row1_col4\" class=\"data row1 col4\" >United States</td>\n",
       "      <td id=\"T_fe3ff_row1_col5\" class=\"data row1 col5\" >Americas</td>\n",
       "      <td id=\"T_fe3ff_row1_col6\" class=\"data row1 col6\" >Northern America</td>\n",
       "      <td id=\"T_fe3ff_row1_col7\" class=\"data row1 col7\" >1</td>\n",
       "      <td id=\"T_fe3ff_row1_col8\" class=\"data row1 col8\" >0</td>\n",
       "      <td id=\"T_fe3ff_row1_col9\" class=\"data row1 col9\" >1</td>\n",
       "      <td id=\"T_fe3ff_row1_col10\" class=\"data row1 col10\" >0</td>\n",
       "      <td id=\"T_fe3ff_row1_col11\" class=\"data row1 col11\" >0</td>\n",
       "      <td id=\"T_fe3ff_row1_col12\" class=\"data row1 col12\" >0</td>\n",
       "      <td id=\"T_fe3ff_row1_col13\" class=\"data row1 col13\" >0</td>\n",
       "      <td id=\"T_fe3ff_row1_col14\" class=\"data row1 col14\" >0</td>\n",
       "      <td id=\"T_fe3ff_row1_col15\" class=\"data row1 col15\" >0</td>\n",
       "      <td id=\"T_fe3ff_row1_col16\" class=\"data row1 col16\" >0</td>\n",
       "      <td id=\"T_fe3ff_row1_col17\" class=\"data row1 col17\" >8</td>\n",
       "      <td id=\"T_fe3ff_row1_col18\" class=\"data row1 col18\" >0</td>\n",
       "      <td id=\"T_fe3ff_row1_col19\" class=\"data row1 col19\" >1</td>\n",
       "      <td id=\"T_fe3ff_row1_col20\" class=\"data row1 col20\" >0</td>\n",
       "      <td id=\"T_fe3ff_row1_col21\" class=\"data row1 col21\" >8</td>\n",
       "      <td id=\"T_fe3ff_row1_col22\" class=\"data row1 col22\" >8</td>\n",
       "      <td id=\"T_fe3ff_row1_col23\" class=\"data row1 col23\" >0</td>\n",
       "      <td id=\"T_fe3ff_row1_col24\" class=\"data row1 col24\" >0</td>\n",
       "    </tr>\n",
       "    <tr>\n",
       "      <th id=\"T_fe3ff_level0_row2\" class=\"row_heading level0 row2\" >2</th>\n",
       "      <td id=\"T_fe3ff_row2_col0\" class=\"data row2 col0\" >10278554503158</td>\n",
       "      <td id=\"T_fe3ff_row2_col1\" class=\"data row2 col1\" >Organic Search</td>\n",
       "      <td id=\"T_fe3ff_row2_col2\" class=\"data row2 col2\" >Organic Search</td>\n",
       "      <td id=\"T_fe3ff_row2_col3\" class=\"data row2 col3\" >0</td>\n",
       "      <td id=\"T_fe3ff_row2_col4\" class=\"data row2 col4\" >New Zealand</td>\n",
       "      <td id=\"T_fe3ff_row2_col5\" class=\"data row2 col5\" >Oceania</td>\n",
       "      <td id=\"T_fe3ff_row2_col6\" class=\"data row2 col6\" >Australasia</td>\n",
       "      <td id=\"T_fe3ff_row2_col7\" class=\"data row2 col7\" >1</td>\n",
       "      <td id=\"T_fe3ff_row2_col8\" class=\"data row2 col8\" >0</td>\n",
       "      <td id=\"T_fe3ff_row2_col9\" class=\"data row2 col9\" >1</td>\n",
       "      <td id=\"T_fe3ff_row2_col10\" class=\"data row2 col10\" >0</td>\n",
       "      <td id=\"T_fe3ff_row2_col11\" class=\"data row2 col11\" >0</td>\n",
       "      <td id=\"T_fe3ff_row2_col12\" class=\"data row2 col12\" >0</td>\n",
       "      <td id=\"T_fe3ff_row2_col13\" class=\"data row2 col13\" >0</td>\n",
       "      <td id=\"T_fe3ff_row2_col14\" class=\"data row2 col14\" >0</td>\n",
       "      <td id=\"T_fe3ff_row2_col15\" class=\"data row2 col15\" >0</td>\n",
       "      <td id=\"T_fe3ff_row2_col16\" class=\"data row2 col16\" >0</td>\n",
       "      <td id=\"T_fe3ff_row2_col17\" class=\"data row2 col17\" >8</td>\n",
       "      <td id=\"T_fe3ff_row2_col18\" class=\"data row2 col18\" >1</td>\n",
       "      <td id=\"T_fe3ff_row2_col19\" class=\"data row2 col19\" >0</td>\n",
       "      <td id=\"T_fe3ff_row2_col20\" class=\"data row2 col20\" >0</td>\n",
       "      <td id=\"T_fe3ff_row2_col21\" class=\"data row2 col21\" >8</td>\n",
       "      <td id=\"T_fe3ff_row2_col22\" class=\"data row2 col22\" >8</td>\n",
       "      <td id=\"T_fe3ff_row2_col23\" class=\"data row2 col23\" >0</td>\n",
       "      <td id=\"T_fe3ff_row2_col24\" class=\"data row2 col24\" >0</td>\n",
       "    </tr>\n",
       "    <tr>\n",
       "      <th id=\"T_fe3ff_level0_row3\" class=\"row_heading level0 row3\" >3</th>\n",
       "      <td id=\"T_fe3ff_row3_col0\" class=\"data row3 col0\" >20424342248747</td>\n",
       "      <td id=\"T_fe3ff_row3_col1\" class=\"data row3 col1\" >Organic Search</td>\n",
       "      <td id=\"T_fe3ff_row3_col2\" class=\"data row3 col2\" >Organic Search</td>\n",
       "      <td id=\"T_fe3ff_row3_col3\" class=\"data row3 col3\" >0</td>\n",
       "      <td id=\"T_fe3ff_row3_col4\" class=\"data row3 col4\" >Peru</td>\n",
       "      <td id=\"T_fe3ff_row3_col5\" class=\"data row3 col5\" >Americas</td>\n",
       "      <td id=\"T_fe3ff_row3_col6\" class=\"data row3 col6\" >South America</td>\n",
       "      <td id=\"T_fe3ff_row3_col7\" class=\"data row3 col7\" >1</td>\n",
       "      <td id=\"T_fe3ff_row3_col8\" class=\"data row3 col8\" >0</td>\n",
       "      <td id=\"T_fe3ff_row3_col9\" class=\"data row3 col9\" >1</td>\n",
       "      <td id=\"T_fe3ff_row3_col10\" class=\"data row3 col10\" >0</td>\n",
       "      <td id=\"T_fe3ff_row3_col11\" class=\"data row3 col11\" >0</td>\n",
       "      <td id=\"T_fe3ff_row3_col12\" class=\"data row3 col12\" >0</td>\n",
       "      <td id=\"T_fe3ff_row3_col13\" class=\"data row3 col13\" >0</td>\n",
       "      <td id=\"T_fe3ff_row3_col14\" class=\"data row3 col14\" >0</td>\n",
       "      <td id=\"T_fe3ff_row3_col15\" class=\"data row3 col15\" >0</td>\n",
       "      <td id=\"T_fe3ff_row3_col16\" class=\"data row3 col16\" >0</td>\n",
       "      <td id=\"T_fe3ff_row3_col17\" class=\"data row3 col17\" >13</td>\n",
       "      <td id=\"T_fe3ff_row3_col18\" class=\"data row3 col18\" >1</td>\n",
       "      <td id=\"T_fe3ff_row3_col19\" class=\"data row3 col19\" >0</td>\n",
       "      <td id=\"T_fe3ff_row3_col20\" class=\"data row3 col20\" >0</td>\n",
       "      <td id=\"T_fe3ff_row3_col21\" class=\"data row3 col21\" >13</td>\n",
       "      <td id=\"T_fe3ff_row3_col22\" class=\"data row3 col22\" >13</td>\n",
       "      <td id=\"T_fe3ff_row3_col23\" class=\"data row3 col23\" >0</td>\n",
       "      <td id=\"T_fe3ff_row3_col24\" class=\"data row3 col24\" >0</td>\n",
       "    </tr>\n",
       "    <tr>\n",
       "      <th id=\"T_fe3ff_level0_row4\" class=\"row_heading level0 row4\" >4</th>\n",
       "      <td id=\"T_fe3ff_row4_col0\" class=\"data row4 col0\" >26722803385797</td>\n",
       "      <td id=\"T_fe3ff_row4_col1\" class=\"data row4 col1\" >Organic Search</td>\n",
       "      <td id=\"T_fe3ff_row4_col2\" class=\"data row4 col2\" >Organic Search</td>\n",
       "      <td id=\"T_fe3ff_row4_col3\" class=\"data row4 col3\" >0</td>\n",
       "      <td id=\"T_fe3ff_row4_col4\" class=\"data row4 col4\" >United Kingdom</td>\n",
       "      <td id=\"T_fe3ff_row4_col5\" class=\"data row4 col5\" >Europe</td>\n",
       "      <td id=\"T_fe3ff_row4_col6\" class=\"data row4 col6\" >Northern Europe</td>\n",
       "      <td id=\"T_fe3ff_row4_col7\" class=\"data row4 col7\" >1</td>\n",
       "      <td id=\"T_fe3ff_row4_col8\" class=\"data row4 col8\" >0</td>\n",
       "      <td id=\"T_fe3ff_row4_col9\" class=\"data row4 col9\" >1</td>\n",
       "      <td id=\"T_fe3ff_row4_col10\" class=\"data row4 col10\" >0</td>\n",
       "      <td id=\"T_fe3ff_row4_col11\" class=\"data row4 col11\" >0</td>\n",
       "      <td id=\"T_fe3ff_row4_col12\" class=\"data row4 col12\" >0</td>\n",
       "      <td id=\"T_fe3ff_row4_col13\" class=\"data row4 col13\" >0</td>\n",
       "      <td id=\"T_fe3ff_row4_col14\" class=\"data row4 col14\" >0</td>\n",
       "      <td id=\"T_fe3ff_row4_col15\" class=\"data row4 col15\" >0</td>\n",
       "      <td id=\"T_fe3ff_row4_col16\" class=\"data row4 col16\" >0</td>\n",
       "      <td id=\"T_fe3ff_row4_col17\" class=\"data row4 col17\" >2</td>\n",
       "      <td id=\"T_fe3ff_row4_col18\" class=\"data row4 col18\" >1</td>\n",
       "      <td id=\"T_fe3ff_row4_col19\" class=\"data row4 col19\" >0</td>\n",
       "      <td id=\"T_fe3ff_row4_col20\" class=\"data row4 col20\" >0</td>\n",
       "      <td id=\"T_fe3ff_row4_col21\" class=\"data row4 col21\" >2</td>\n",
       "      <td id=\"T_fe3ff_row4_col22\" class=\"data row4 col22\" >2</td>\n",
       "      <td id=\"T_fe3ff_row4_col23\" class=\"data row4 col23\" >0</td>\n",
       "      <td id=\"T_fe3ff_row4_col24\" class=\"data row4 col24\" >0</td>\n",
       "    </tr>\n",
       "  </tbody>\n",
       "</table>\n"
      ],
      "text/plain": [
       "<pandas.io.formats.style.Styler at 0x1778821a0>"
      ]
     },
     "execution_count": 8,
     "metadata": {},
     "output_type": "execute_result"
    }
   ],
   "source": [
    "userdata2.head().style"
   ]
  },
  {
   "cell_type": "code",
   "execution_count": 3,
   "metadata": {},
   "outputs": [],
   "source": [
    "# create subset of userdata2 with only users who have at least one conversion\n",
    "userdata2_subset = userdata2[userdata2.at_least_one_conversion == 1]"
   ]
  },
  {
   "cell_type": "code",
   "execution_count": 4,
   "metadata": {},
   "outputs": [
    {
     "data": {
      "text/plain": [
       "<Axes: >"
      ]
     },
     "execution_count": 4,
     "metadata": {},
     "output_type": "execute_result"
    },
    {
     "data": {
      "image/png": "[encoded data removed]",
      "text/plain": [
       "<Figure size 640x480 with 1 Axes>"
      ]
     },
     "metadata": {},
     "output_type": "display_data"
    }
   ],
   "source": [
    "# show bar chart of numbers of users by continent\n",
    "userdata2_subset['continent'].value_counts().plot(kind='bar')"
   ]
  },
  {
   "cell_type": "code",
   "execution_count": 5,
   "metadata": {},
   "outputs": [
    {
     "data": {
      "text/plain": [
       "desktop    31029\n",
       "mobile      2574\n",
       "tablet       412\n",
       "dtype: int64"
      ]
     },
     "execution_count": 5,
     "metadata": {},
     "output_type": "execute_result"
    }
   ],
   "source": [
    "# show sums of desktop, mobile, and tablet columns\n",
    "userdata2_subset[['desktop', 'mobile', 'tablet']].sum()"
   ]
  },
  {
   "cell_type": "code",
   "execution_count": 6,
   "metadata": {},
   "outputs": [
    {
     "data": {
      "text/plain": [
       "0.9317777338342891"
      ]
     },
     "execution_count": 6,
     "metadata": {},
     "output_type": "execute_result"
    }
   ],
   "source": [
    "# show proportion of records which has FirstSessionPageviews > 1\n",
    "userdata2_subset[userdata2_subset.FirstSessionPageviews > 1].shape[0] / userdata2_subset.shape[0]"
   ]
  },
  {
   "cell_type": "code",
   "execution_count": 7,
   "metadata": {},
   "outputs": [
    {
     "data": {
      "text/plain": [
       "count    10114.000000\n",
       "mean        19.666601\n",
       "std         19.679454\n",
       "min          1.000000\n",
       "25%          6.000000\n",
       "50%         16.000000\n",
       "75%         27.000000\n",
       "max        466.000000\n",
       "Name: FirstSessionPageviews, dtype: float64"
      ]
     },
     "execution_count": 7,
     "metadata": {},
     "output_type": "execute_result"
    }
   ],
   "source": [
    "# get descriptive statistics of FirstSessionPageviews\n",
    "userdata2_subset.FirstSessionPageviews.describe()"
   ]
  }
 ],
 "metadata": {
  "kernelspec": {
   "display_name": "base",
   "language": "python",
   "name": "python3"
  },
  "language_info": {
   "codemirror_mode": {
    "name": "ipython",
    "version": 3
   },
   "file_extension": ".py",
   "mimetype": "text/x-python",
   "name": "python",
   "nbconvert_exporter": "python",
   "pygments_lexer": "ipython3",
   "version": "3.10.9"
  }
 },
 "nbformat": 4,
 "nbformat_minor": 2
}
